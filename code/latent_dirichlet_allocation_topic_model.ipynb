{
 "cells": [
  {
   "cell_type": "markdown",
   "metadata": {},
   "source": [
    "# Topic Modelling\n",
    "Topic Modeling is a technique to extract the hidden topics from large volumes of text. Latent Dirichlet Allocation(LDA) is a popular algorithm for topic modeling with excellent implementations in the Python’s Gensim package. The challenge, however, is how to extract good quality of topics that are clear, segregated and meaningful. This depends heavily on the quality of text preprocessing and the strategy of finding the optimal number of topics. This tutorial attempts to tackle both of these problems."
   ]
  },
  {
   "cell_type": "markdown",
   "metadata": {},
   "source": [
    "One of the primary applications of natural language processing is to automatically extract what topics people are discussing from large volumes of text. Some examples of large text could be feeds from social media, customer reviews of hotels, movies, etc, user feedbacks, news stories, e-mails of customer complaints etc.\n",
    "\n",
    "Knowing what people are talking about and understanding their problems and opinions is highly valuable to businesses, administrators, political campaigns. And it’s really hard to manually read through such large volumes and compile the topics."
   ]
  },
  {
   "cell_type": "markdown",
   "metadata": {},
   "source": [
    "# Prerequisites – Download nltk stopwords and spacy model\n",
    "\n",
    "We will need the stopwords from NLTK and spacy’s en model for text pre-processing. Later, we will be using the spacy model for lemmatization.\n",
    "\n",
    "Lemmatization is nothing but converting a word to its root word. For example: the lemma of the word ‘machines’ is ‘machine’. Likewise, ‘walking’ –> ‘walk’, ‘mice’ –> ‘mouse’ and so on."
   ]
  },
  {
   "cell_type": "code",
   "execution_count": 1,
   "metadata": {},
   "outputs": [
    {
     "name": "stderr",
     "output_type": "stream",
     "text": [
      "[nltk_data] Downloading package stopwords to\n",
      "[nltk_data]     C:\\Users\\shiji\\AppData\\Roaming\\nltk_data...\n",
      "[nltk_data]   Package stopwords is already up-to-date!\n"
     ]
    }
   ],
   "source": [
    "import sys; sys.version\n",
    "import nltk; nltk.download('stopwords')\n",
    "import spacy\n",
    "nlp = spacy.load('en_core_web_sm')"
   ]
  },
  {
   "cell_type": "markdown",
   "metadata": {},
   "source": [
    "# Import Packages\n",
    "\n",
    "The core packages used in this tutorial are re, gensim, spacy and pyLDAvis. Besides this we will also using matplotlib, numpy and pandas for data handling and visualization. Let’s import them."
   ]
  },
  {
   "cell_type": "code",
   "execution_count": 2,
   "metadata": {},
   "outputs": [],
   "source": [
    "import re\n",
    "import numpy as np\n",
    "import pandas as pd\n",
    "from pprint import pprint\n",
    "\n",
    "# Gensim\n",
    "import gensim\n",
    "import gensim.corpora as corpora\n",
    "from gensim.utils import simple_preprocess\n",
    "from gensim.models import CoherenceModel\n",
    "\n",
    "# spacy for lemmatization\n",
    "import spacy\n",
    "\n",
    "# Plotting tools\n",
    "#import pyLDAvis\n",
    "#import pyLDAvis.gensim  # don't skip this\n",
    "import matplotlib.pyplot as plt\n",
    "%matplotlib inline\n",
    "\n",
    "# Enable logging for gensim - optional\n",
    "import logging\n",
    "logging.basicConfig(format='%(asctime)s : %(levelname)s : %(message)s', level=logging.ERROR)\n",
    "\n",
    "import warnings\n",
    "warnings.filterwarnings(\"ignore\",category=DeprecationWarning)"
   ]
  },
  {
   "cell_type": "markdown",
   "metadata": {},
   "source": [
    "# What does LDA do?\n",
    "\n",
    "## LDA’s approach to topic modeling is it considers each document as a collection of topics in a certain proportion. And each topic as a collection of keywords, again, in a certain proportion.\n",
    "\n",
    "Once you provide the algorithm with the number of topics, all it does it to rearrange the topics distribution within the documents and keywords distribution within the topics to obtain a good composition of topic-keywords distribution.\n",
    "\n",
    "When I say topic, what is it actually and how it is represented?\n",
    "\n",
    "A topic is nothing but a collection of dominant keywords that are typical representatives. Just by looking at the keywords, you can identify what the topic is all about.\n",
    "\n",
    "The following are key factors to obtaining good segregation topics:\n",
    "\n",
    "    1.The quality of text processing.\n",
    "    2.The variety of topics the text talks about.\n",
    "    3.The choice of topic modeling algorithm.\n",
    "    4.The number of topics fed to the algorithm.\n",
    "    5.The algorithms tuning parameters."
   ]
  },
  {
   "cell_type": "markdown",
   "metadata": {},
   "source": [
    "# Prepare Stopwords\n",
    "\n",
    "We have already downloaded the stopwords. Let’s import them and make it available in stop_words."
   ]
  },
  {
   "cell_type": "code",
   "execution_count": 3,
   "metadata": {},
   "outputs": [],
   "source": [
    "import pickle\n",
    "# NLTK Stop words\n",
    "from nltk.corpus import stopwords\n",
    "stop_words = stopwords.words('english')\n",
    "#stop_words.extend(['from', 'subject', 're', 'edu', 'use'])"
   ]
  },
  {
   "cell_type": "markdown",
   "metadata": {},
   "source": [
    "## Import Medical Chart Data\n",
    "\n",
    "load the  medical data in excel file via pandas"
   ]
  },
  {
   "cell_type": "code",
   "execution_count": 4,
   "metadata": {},
   "outputs": [
    {
     "data": {
      "text/plain": [
       "'C:\\\\Users\\\\shiji\\\\Desktop\\\\collaboration\\\\hero'"
      ]
     },
     "execution_count": 4,
     "metadata": {},
     "output_type": "execute_result"
    }
   ],
   "source": [
    "import os; os.getcwd()   ## get working directory"
   ]
  },
  {
   "cell_type": "code",
   "execution_count": 5,
   "metadata": {
    "scrolled": true
   },
   "outputs": [
    {
     "data": {
      "text/html": [
       "<div>\n",
       "<style scoped>\n",
       "    .dataframe tbody tr th:only-of-type {\n",
       "        vertical-align: middle;\n",
       "    }\n",
       "\n",
       "    .dataframe tbody tr th {\n",
       "        vertical-align: top;\n",
       "    }\n",
       "\n",
       "    .dataframe thead th {\n",
       "        text-align: right;\n",
       "    }\n",
       "</style>\n",
       "<table border=\"1\" class=\"dataframe\">\n",
       "  <thead>\n",
       "    <tr style=\"text-align: right;\">\n",
       "      <th></th>\n",
       "      <th>Obs</th>\n",
       "      <th>MEMBERID</th>\n",
       "      <th>consent_dt</th>\n",
       "      <th>submit_dt_hde</th>\n",
       "      <th>id</th>\n",
       "      <th>age</th>\n",
       "      <th>age_cat2</th>\n",
       "      <th>FEMALE</th>\n",
       "      <th>RACE</th>\n",
       "      <th>DIVISION</th>\n",
       "      <th>HCENV2</th>\n",
       "      <th>HCROLE2</th>\n",
       "      <th>HDEISSUE</th>\n",
       "    </tr>\n",
       "  </thead>\n",
       "  <tbody>\n",
       "    <tr>\n",
       "      <th>0</th>\n",
       "      <td>1</td>\n",
       "      <td>1000672768</td>\n",
       "      <td>2020-04-14</td>\n",
       "      <td>2020-04-19</td>\n",
       "      <td>1</td>\n",
       "      <td>51</td>\n",
       "      <td>3 = 50-64</td>\n",
       "      <td>1 = Yes</td>\n",
       "      <td>1 = White</td>\n",
       "      <td>6 = Division 6 East South Central</td>\n",
       "      <td>8 = Hospital</td>\n",
       "      <td>91 = Nurse (RN/LPN) [D]</td>\n",
       "      <td>Consistent readily available PPE such a clean ...</td>\n",
       "    </tr>\n",
       "    <tr>\n",
       "      <th>1</th>\n",
       "      <td>2</td>\n",
       "      <td>1000672768</td>\n",
       "      <td>2020-04-14</td>\n",
       "      <td>2020-04-29</td>\n",
       "      <td>2</td>\n",
       "      <td>51</td>\n",
       "      <td>3 = 50-64</td>\n",
       "      <td>1 = Yes</td>\n",
       "      <td>1 = White</td>\n",
       "      <td>6 = Division 6 East South Central</td>\n",
       "      <td>8 = Hospital</td>\n",
       "      <td>91 = Nurse (RN/LPN) [D]</td>\n",
       "      <td>We could be asymptomatic carriers and be passi...</td>\n",
       "    </tr>\n",
       "    <tr>\n",
       "      <th>2</th>\n",
       "      <td>3</td>\n",
       "      <td>1000672768</td>\n",
       "      <td>2020-04-14</td>\n",
       "      <td>2020-07-07</td>\n",
       "      <td>3</td>\n",
       "      <td>51</td>\n",
       "      <td>3 = 50-64</td>\n",
       "      <td>1 = Yes</td>\n",
       "      <td>1 = White</td>\n",
       "      <td>6 = Division 6 East South Central</td>\n",
       "      <td>8 = Hospital</td>\n",
       "      <td>91 = Nurse (RN/LPN) [D]</td>\n",
       "      <td>Asymptomatic transmissiom</td>\n",
       "    </tr>\n",
       "    <tr>\n",
       "      <th>3</th>\n",
       "      <td>4</td>\n",
       "      <td>1000672768</td>\n",
       "      <td>2020-04-14</td>\n",
       "      <td>2020-09-01</td>\n",
       "      <td>5</td>\n",
       "      <td>51</td>\n",
       "      <td>3 = 50-64</td>\n",
       "      <td>1 = Yes</td>\n",
       "      <td>1 = White</td>\n",
       "      <td>6 = Division 6 East South Central</td>\n",
       "      <td>8 = Hospital</td>\n",
       "      <td>91 = Nurse (RN/LPN) [D]</td>\n",
       "      <td>Ever changing rules and policies are frustrati...</td>\n",
       "    </tr>\n",
       "    <tr>\n",
       "      <th>4</th>\n",
       "      <td>5</td>\n",
       "      <td>1000855040</td>\n",
       "      <td>2020-05-01</td>\n",
       "      <td>2020-05-01</td>\n",
       "      <td>1</td>\n",
       "      <td>44</td>\n",
       "      <td>1 = 30-49</td>\n",
       "      <td>1 = Yes</td>\n",
       "      <td>1 = White</td>\n",
       "      <td>5 = Division 5 South Atlantic</td>\n",
       "      <td>8 = Hospital</td>\n",
       "      <td>2 = Physician</td>\n",
       "      <td>burnout rates; how best to deploy staff to min...</td>\n",
       "    </tr>\n",
       "  </tbody>\n",
       "</table>\n",
       "</div>"
      ],
      "text/plain": [
       "   Obs    MEMBERID consent_dt submit_dt_hde  id  age   age_cat2   FEMALE  \\\n",
       "0    1  1000672768 2020-04-14    2020-04-19   1   51  3 = 50-64  1 = Yes   \n",
       "1    2  1000672768 2020-04-14    2020-04-29   2   51  3 = 50-64  1 = Yes   \n",
       "2    3  1000672768 2020-04-14    2020-07-07   3   51  3 = 50-64  1 = Yes   \n",
       "3    4  1000672768 2020-04-14    2020-09-01   5   51  3 = 50-64  1 = Yes   \n",
       "4    5  1000855040 2020-05-01    2020-05-01   1   44  1 = 30-49  1 = Yes   \n",
       "\n",
       "        RACE                           DIVISION        HCENV2  \\\n",
       "0  1 = White  6 = Division 6 East South Central  8 = Hospital   \n",
       "1  1 = White  6 = Division 6 East South Central  8 = Hospital   \n",
       "2  1 = White  6 = Division 6 East South Central  8 = Hospital   \n",
       "3  1 = White  6 = Division 6 East South Central  8 = Hospital   \n",
       "4  1 = White      5 = Division 5 South Atlantic  8 = Hospital   \n",
       "\n",
       "                   HCROLE2                                           HDEISSUE  \n",
       "0  91 = Nurse (RN/LPN) [D]  Consistent readily available PPE such a clean ...  \n",
       "1  91 = Nurse (RN/LPN) [D]  We could be asymptomatic carriers and be passi...  \n",
       "2  91 = Nurse (RN/LPN) [D]                          Asymptomatic transmissiom  \n",
       "3  91 = Nurse (RN/LPN) [D]  Ever changing rules and policies are frustrati...  \n",
       "4            2 = Physician  burnout rates; how best to deploy staff to min...  "
      ]
     },
     "execution_count": 5,
     "metadata": {},
     "output_type": "execute_result"
    }
   ],
   "source": [
    "# Import Dataset\n",
    "# df = pd.read_json('my_chart_cardiology.json') # load json data\n",
    "df = pd.read_excel('HERO 0902 most important issue.xlsx', index_col=False) \n",
    "df.head()"
   ]
  },
  {
   "cell_type": "code",
   "execution_count": 6,
   "metadata": {},
   "outputs": [
    {
     "data": {
      "text/plain": [
       "Index(['Obs', 'MEMBERID', 'consent_dt', 'submit_dt_hde', 'id', 'age',\n",
       "       'age_cat2', 'FEMALE', 'RACE', 'DIVISION', 'HCENV2', 'HCROLE2',\n",
       "       'HDEISSUE'],\n",
       "      dtype='object')"
      ]
     },
     "execution_count": 6,
     "metadata": {},
     "output_type": "execute_result"
    }
   ],
   "source": [
    "df.columns  ## column names"
   ]
  },
  {
   "cell_type": "code",
   "execution_count": 7,
   "metadata": {},
   "outputs": [
    {
     "data": {
      "text/plain": [
       "0       Consistent readily available PPE such a clean ...\n",
       "1       We could be asymptomatic carriers and be passi...\n",
       "2                               Asymptomatic transmissiom\n",
       "3       Ever changing rules and policies are frustrati...\n",
       "4       burnout rates; how best to deploy staff to min...\n",
       "                              ...                        \n",
       "7713    The new normal and finding a way to cope long ...\n",
       "7714    Patients are tired of covid as an excuse for c...\n",
       "7715    Consistent PPE, precautions and guidelines for...\n",
       "7716    That stress takes a toll on a worker. Performa...\n",
       "7717                                                  NaN\n",
       "Name: HDEISSUE, Length: 7718, dtype: object"
      ]
     },
     "execution_count": 7,
     "metadata": {},
     "output_type": "execute_result"
    }
   ],
   "source": [
    "df.HDEISSUE"
   ]
  },
  {
   "cell_type": "code",
   "execution_count": 8,
   "metadata": {},
   "outputs": [
    {
     "data": {
      "text/plain": [
       "((7718, 13), 3826)"
      ]
     },
     "execution_count": 8,
     "metadata": {},
     "output_type": "execute_result"
    }
   ],
   "source": [
    "df.shape, df.MEMBERID.nunique()"
   ]
  },
  {
   "cell_type": "code",
   "execution_count": 9,
   "metadata": {},
   "outputs": [],
   "source": [
    "## duplicate removal\n",
    "df.drop_duplicates(inplace=True)"
   ]
  },
  {
   "cell_type": "code",
   "execution_count": 10,
   "metadata": {},
   "outputs": [
    {
     "data": {
      "text/plain": [
       "(7718, 13)"
      ]
     },
     "execution_count": 10,
     "metadata": {},
     "output_type": "execute_result"
    }
   ],
   "source": [
    "df.shape"
   ]
  },
  {
   "cell_type": "code",
   "execution_count": 17,
   "metadata": {
    "scrolled": true
   },
   "outputs": [
    {
     "data": {
      "text/plain": [
       "['Consistent readily available PPE such a clean masks and gowns between patients',\n",
       " 'We could be asymptomatic carriers and be passing this on to our family, etc',\n",
       " 'Asymptomatic transmissiom',\n",
       " 'Ever changing rules and policies are frustrating to those actually working with patients. Too many people in ivory towers making decisions that affect us. Some good some not so good. They need staff n',\n",
       " 'burnout rates; how best to deploy staff to minimize burnout and optimize patient outcomes; rates of seroconversion related to time in contact with COVID-19 patients while in full PPE and less than ful',\n",
       " 'How the return to normal hospital operations will go',\n",
       " 'PPE , mental health and communication',\n",
       " 'immunity, recurring infection',\n",
       " 'Immunity',\n",
       " 'Resurgence',\n",
       " 'exposure risks, supply/demand of PPE, mental health impact, burnout',\n",
       " 'mental health effects',\n",
       " 'mental health impact; access to care for patients',\n",
       " 'medical errors; cognitive bias, mental health',\n",
       " 'cognitive bias, mental health',\n",
       " 'The importance of having proper ppe available and set guidelines for its use for all medical professionals that come in contact with the patient.',\n",
       " 'The need for PPE for all healthcare workers and staff.',\n",
       " 'How it is transmitted',\n",
       " 'How it is transmitted, will antibodies give you immunity',\n",
       " 'How exactly it is spread.',\n",
       " 'exactly how the virus is spread, is constant masking every where necessary',\n",
       " 'How exactly is it transmitted, are the restrictions in the community necessary',\n",
       " 'Emotional/ mental toll',\n",
       " 'Not all health workers are nurses or doctors. Social workers seem to be forgotten, and yet we are all experiencing the same anxiety, depression, grief, etc. and many of us are also exposed as doctors',\n",
       " 'Stress, Anxiety, Salary',\n",
       " 'How it is spread.',\n",
       " 'How the virus is Spread, I what the long term effects are',\n",
       " \"I don't think some people understand the severity of the issue that we are faced with. Many people blow it off like it's no big deal. However, the complete opposite is true. We are seeing fatalities o\",\n",
       " \"Healthcare workers don't have a choice to stay home and isolate whereas most of the population does. It is difficult to find people willing to work during the pandemic\",\n",
       " 'Transmission and active symptoms for some patients but not all.',\n",
       " 'Importance of masks to keep the numbers of Covid infected patients low.',\n",
       " 'Stress and burnout, using PPE on multiple days',\n",
       " 'Contact tracing and spread family members of health care workers, clinic operations/telemedicine support, effect of reopening states on health care worker load and illness',\n",
       " 'Re-infection rates and immunity',\n",
       " \"We put ourselves at risk everyday to care for these patients and people still don't protect themselves and others in public by wearing face masks.\",\n",
       " \"I don't feel informed enough to make a meaningful response given the polarized opinions of the covid-19 pandemic. Overall I do think healthy individuals likely do not need to worry about becoming inca\",\n",
       " 'DECREASE FEAR AND INCREASE UNDERSTANDING',\n",
       " 'StAffing. With enough support of well trained coworkers, anything is possible',\n",
       " 'Everything',\n",
       " 'Asymptomatic transmission, N95 v surgical mask, sensitivity of available teating',\n",
       " 'PTSD related to unknown exposure, lack of PPE, lack of trust that your employer has your best interest',\n",
       " 'Infection rate with proper use of PPE',\n",
       " 'Transmission rate with PPE use as well as reuse of PPE.',\n",
       " 'Exposure risks with proper PPE. Appropriate time to return to work if asymptotic.',\n",
       " 'Rate of infection with proper PPE use',\n",
       " 'Infection rate with various mask use',\n",
       " 'Exposure risk with proper PPE use',\n",
       " 'Exposure risks with proper PPE',\n",
       " 'Stress and lack of PPE',\n",
       " 'What is adequate PPE for covid patients',\n",
       " 'covid status of patients preop',\n",
       " 'Testing healthcare workers with mild symptoms, to prevent the spread to patients and coworkers.',\n",
       " \"What sort of PPE is actually needed, whether or not there's any prophylaxis needed, what are the long term consequences of contracting the disease.\",\n",
       " 'Why masks are important to wear',\n",
       " 'immunity, ppe needs, vaccine, respiratory',\n",
       " 'transmission, asymptomatic transmission, antibody testing',\n",
       " 'transmission, antibody testing, different test accuracy',\n",
       " 'antibodies/serology; continued transmission; community use of face shields over masks',\n",
       " '2nd surge, continued use of facemasks/face shields in the public, rate of transmission based on all of the protesting & rioting and opening up of states',\n",
       " 'person to person spread even w/ppe & doing the right things; antibody testing, immunity',\n",
       " 'Quantitative COVID antibody titers, are they protective and how long do they last',\n",
       " 'Risks',\n",
       " 'Susceptibility, who is at risk of severe disease, transmission risks',\n",
       " 'Whether antibody tests predict susceptibility, and what might work better.',\n",
       " 'Anxiety, personal risk, and inequities between rich and poor, male vs female, black vs white HCW roles and differential risk.',\n",
       " 'Balancing contact with family, and chance of transmission.',\n",
       " 'Transmission and vectoring',\n",
       " 'How to cope after',\n",
       " 'How to keep from getting sick as clinics reopen',\n",
       " 'Whether those infected have persisting immunity',\n",
       " 'methods of transmission, including those without symptoms',\n",
       " 'Transmission (aerosols?)',\n",
       " 'transmission (aerosols)',\n",
       " 'Reinfection',\n",
       " \"Can't think of any at this moment\",\n",
       " 'Antibody testing specific to COVID 19 v any Coronavirus',\n",
       " \"How it's transmitted How long before symptoms Can you catch it twice\",\n",
       " \"How it's transmitted\",\n",
       " 'The mental health considerations around fear of the unknown and worries that organizations may not be protecting their employees enough.',\n",
       " 'What is our risk',\n",
       " \"The extra stress involved in following all the guidelines and working extra hours/days to cover screening at the front door. Seeing people who can't be with their loved one when they are sick or goin\",\n",
       " 'effect this has on families who are not able to be with their loved ones during serious illness or death',\n",
       " 'The stress of worrying about carrying the virus to someone else. All the changes that we have to undergo and understand because of the need to be cautious for our patients',\n",
       " 'financial impact',\n",
       " 'stress of financial effects or COVID 19. We are mandated to take 2 weeks off without pay',\n",
       " 'hazard pay, adequate PPE',\n",
       " 'Protection and containment of the virus',\n",
       " 'Exposure',\n",
       " 'antibodies and immunity',\n",
       " 'Social Distancing, PPE, and being able to obtain the supplies needed',\n",
       " 'no appreciation for working with exposure to covid without extra compensation',\n",
       " 'PPE concerns, along with others.',\n",
       " 'The stress that it has added to our lives.',\n",
       " \"Preop testing of patients to reopen ORs and testing staff on a regular basis so the department doesn't go down in one total wipeout\",\n",
       " 'stress relief',\n",
       " 'Lack of testing',\n",
       " 'immunity',\n",
       " 'Why do PPE requirements keep changing? I feel like it is changing according to what is available vs. what is truly considered safe.',\n",
       " \"I haven't cared for one Covid 19 patient yet, I don't know anyone that has reported symptoms or tested positive for it. It's frustrating to wear PPE all day, unable to breathe easily, see or communica\",\n",
       " \"Are we immune if we've already had a confirmed infection and/or test positive for antibodies?\",\n",
       " 'How to determine if a healthcare worker is an asymptomatic carrier',\n",
       " 'Transmission of disease and asymptomatic carriers',\n",
       " 'Transmission of disease',\n",
       " 'Transmission of disease',\n",
       " 'Exposure risk',\n",
       " 'That we are all not infected and/or contagious. Our friends and family are scared of us..',\n",
       " 'mental health support needs',\n",
       " 'mental health issues',\n",
       " 'mental healthcare access',\n",
       " 'when someone should be tested',\n",
       " 'How are we prepared for spike in cases',\n",
       " 'transmission factors, antibody importance',\n",
       " 'Emotional, Financial',\n",
       " 'PPE',\n",
       " 'Level of ppe needed',\n",
       " 'Ppe level of protection needed',\n",
       " 'Appropriate PPE and Isolation (i.e. N95 vs. Full body suit or BSL-3 or 4 level protection). Contamination level of surfaces, air, etc. in units and on providers for both known and asymptomatic patient',\n",
       " 'How to protect ourselves and our patients from COVID.',\n",
       " 'How to best protect us from infection',\n",
       " 'How to protect ourselves while caring for patients. Especially what masks are necessary in what situations',\n",
       " 'How to protect ourselves',\n",
       " 'How best to protect ourselves and what do we do after an exposure?',\n",
       " 'What to do after an exposure. how long to quarantine etc.',\n",
       " 'Stopping the spread of misinformation about COVID-19 in regards to its preventions and \"treatments/cures\". People will believe any clickbait article they read on Facebook or whatever nonsense the Pres',\n",
       " 'PTSD',\n",
       " 'transmission risk, personal protective equipment needed',\n",
       " 'What PPE is currently recommended for patients positive for covid',\n",
       " 'Asymptomatic disease, immunity after infection, transmission',\n",
       " 'Secondary victim, delayed trauma response, continued access to PPE, Job and Salary security',\n",
       " 'continued access to PPE, reopening procedures, mental health and PTSD',\n",
       " 'PPE, immunity, testing sensitivity',\n",
       " 'Access to ppe, job security, second wave, immunity',\n",
       " 'Ppe, vaccine, immunity, pay and sick leave',\n",
       " 'PPE, Job Security, Burnout',\n",
       " 'Exposures, risk, PPE',\n",
       " 'Due to the ever-evolving and rapidly changing guidelines, accurate and up-to-date information has been difficult to come by re: PPE required or available, new visitor policies, distancing guidelines,',\n",
       " 'Fear, how to balance work with risks of exposing family members at home',\n",
       " 'fatigue, guilt',\n",
       " 'Masks that fit properly',\n",
       " \"That it's real and very contagious\",\n",
       " 'Too much conflicting information regarding hospital safety related to COVID Exposer',\n",
       " 'exposure to incidence of disease and immunity after exposure or disease',\n",
       " 'The best way to protect ourselves and how not to bring it home to our families',\n",
       " 'The lack of PPE/Drugs',\n",
       " \"The pandemic isn't over stop going out to party.\",\n",
       " 'Lack of testing being done on healthcare workers.',\n",
       " \"Exposure and being taken care of financially when off I am at home sick and no coverage for healthcare workers from hospitals but anyone else who's off getting a covid package\",\n",
       " 'If we get a positive test results and are off we need compensation payed sick leave',\n",
       " 'We need to know if one is immune from reinfection after being infected and recovering, and we need reliable antibody tests if immunity can be established.',\n",
       " 'Immunity',\n",
       " 'Transmission of virus',\n",
       " 'Immunity',\n",
       " 'Transmissibility specifics, immunity, accurate testing',\n",
       " 'PPE, immunity',\n",
       " 'Are masks other then N95 or higher at all effective',\n",
       " 'Which PPE best protects employees',\n",
       " \"It hurts me to see that time has been taken over politically, where is the science? The need PPE's How this disease is taking such a mental toll on nurses at the bedside that have to watch people die\",\n",
       " 'How much has COVID-19 affected healthcare workers mental health.',\n",
       " 'Risk to their children and spouse',\n",
       " 'Access to PPE, workplace practices (appropriate staff coverage for call-ins,etc, sick leave policies that allow people to stay home when sick, etc)',\n",
       " \"What are the most effective preventive approaches for HCW's: which types of masks, for example, and how infectious are other people without symptoms or with potentially negative tests that are inaccur\",\n",
       " 'Impact of sustained COVID-19 pandemic concerns on healthcare worker well-being.',\n",
       " 'Benefits of masks, risk of transmission in different clinical settings, impacts on well-being (and solutions to sustain clinicians in the new normal)',\n",
       " 'Transmission risks -- what PPE are effective and needed; What quarantine and return-to-work parameters are safe.',\n",
       " 'How accurate are tests for individual risk determination? What PPE is truly protective for different clinical exposure settings?',\n",
       " 'rate of infection',\n",
       " 'length of immuniny',\n",
       " 'length of immunity from antibodies',\n",
       " 'length of immunity from antibodies',\n",
       " 'Still a threat to return in our area',\n",
       " 'Mental wellbeing, understanding why the rate of severe infection is higher in healthcare workers.',\n",
       " 'Incubation period of virus and transmission',\n",
       " 'that you can be asymptomatic and still transmit the disease.',\n",
       " 'Exposure',\n",
       " 'Lack of Ppe',\n",
       " 'hospitals furloughing the folks that keep patient care moving forward- pathology techs',\n",
       " 'Isolation, containment, and transmission',\n",
       " 'mental health issues',\n",
       " 'Concerns about job security and the future',\n",
       " 'How long will this last?',\n",
       " 'Testing for current infection and antibodies in the HCW population especially for non-symptomatic HCW.',\n",
       " 'Antibody testing for HCW. Rapid testing for inpatients upon admission to the hospital.',\n",
       " 'Antibody testing for HCW',\n",
       " 'When will Seattle open up to phase 1.5 or 2.',\n",
       " 'How to minimize possible covid transfer to family members.',\n",
       " 'Antibodies versus immunity to covid',\n",
       " 'When HCW will receive vaccine once available.',\n",
       " 'Correct usage of PPE',\n",
       " \"That there is not enough support or understanding from hospital admin. We don't have the PPE we need to protect us or other patients. We are working in stressful and scary conditions with no extra pay\",\n",
       " 'Does the PPE provided truly help keep me from being exposed in my role and what do I need to ensure I do to keep myself and my family members safe when I work near/around patients who are positive for',\n",
       " 'Job Security, PPE, health of workers',\n",
       " 'When will a vaccine be available.',\n",
       " 'The long duration of viral shedding and high percentage of asymptomatic carriers.',\n",
       " 'Lack of PPE, risk of exposure',\n",
       " 'ppe',\n",
       " 'healthcare worker to healthcare worker transmission',\n",
       " 'Healthcare worker to healthcare worker transmission of COVID19',\n",
       " 'transmission between healthcare workers',\n",
       " 'Routine surveillance testing on HCW',\n",
       " \"Workers are tired and afraid. Information is all over the map so be kind and respect others' beliefs.\",\n",
       " 'Stress on the healthcare workers, lack of national PPE preparation',\n",
       " 'Mental and emotional exhaustion',\n",
       " 'Practicing what we preach; mental fatigue',\n",
       " 'Losing money at the hospital, threatened with cutting positions',\n",
       " 'Exposure via environment- pneumatic tubes, door knobs, other supplies/ surroundings',\n",
       " 'Layoffs',\n",
       " 'Burnout',\n",
       " 'how long am i \"safe\" after testing positive?',\n",
       " 'True understanding of how long this may continue and the consequences of not following specified processes to protect our frontline caregivers.',\n",
       " 'A more thorough understanding of the virus itself and appropriate and sufficient PPE.',\n",
       " 'Continued PPE availability and personal physical and mental health.',\n",
       " 'seeing potentially positive covid-19 pending tests without proper PPE reusing masks and not using N95 masks',\n",
       " 'The stress that is put on us to make sure we are not only protecting ourselves but our patients as well',\n",
       " 'Why does it take a minimum of 14 days and 2 negative COVID tests to take a patient out of isolation but COVID positive employees can return to work after 10 days and no negative test needed, not even',\n",
       " 'Clinical studies on both prophylactic measures as well as effective treatments for those infected',\n",
       " 'How contagious it is and how to continue social distancing.',\n",
       " 'Ongoing access to sufficient PPE; Research studies to assess whether positive antibody in healthcare worker connotes protective immunity; eventual effective vaccine',\n",
       " 'none',\n",
       " 'that our status is unknown',\n",
       " 'Exposure risk',\n",
       " 'The stress it puts on us.',\n",
       " 'exposure risk',\n",
       " 'Direct access to true information',\n",
       " \"Taking the fear out of the equation and especially as to how it relates to the media's understanding of our acceptable risks and precautions.\",\n",
       " 'Increased work stress & anxiety',\n",
       " 'We are putting ourselves at risk everyday we go into work, yet our hours are cut therfore making less money than we would on unemployment.',\n",
       " 'Is there compounding risk with multiple exposures? How important is N95 vs surgical mask for healthcare workers?',\n",
       " 'Rapid testing for healthcare workera',\n",
       " 'Emotional trauma',\n",
       " 'Emotional trauma',\n",
       " 'trauma of caring for these patients and current work environment',\n",
       " 'Trauma of working during this time.',\n",
       " 'Emotional trauma',\n",
       " 'emotional trauma',\n",
       " 'prevention',\n",
       " 'Stress',\n",
       " 'RATE OF EXPOSURE OF LABORTORY TECHNICANS',\n",
       " 'We must have reassurance of adequate PPE. This is obviously a highly contagious virus but looks so in part because of the lack of immunity; we could better understand exactly how the health care worke',\n",
       " 'PPE security finding a vaccine/treatment',\n",
       " 'PPE, transmission',\n",
       " 'potential for airborne spread',\n",
       " 'any role for prophylaxis (non-covid vaccine, immune globulin, chloroquine)',\n",
       " 'More mental health support/naming sure Healthcare employees wear masks apprpriately/assisting asthma or other respiratory issues have better masks to work with',\n",
       " 'Healthcare Stress working in the hospital setting and COVID and techniques orovided by the institution to Healthcare employees to relieve stress.',\n",
       " 'After a person has tested positive for COVID, why to subsequent repeated tests continue positive and the rationale as to why pt is no longer contagious?',\n",
       " 'How exactly it is transferred and the proper training to minimize the spread',\n",
       " 'The logical deduction/medical reasoning that led to deciding the # of days HCW needed to be quarantined after having COVID-19, and why, in the early stages of the pandemic, were HCW allowed to come to',\n",
       " 'How important social distancing is to preventing spread of SARS-CoV-2 which in turn keeps the healthcare system from becoming overwhelmed and putting healthcare workers at increased risk.',\n",
       " 'Risk can be reduced but not eliminated',\n",
       " 'Testing and the number of positive cases that are asymptomatic',\n",
       " 'Antibody testing, and efficacy of antibodies.',\n",
       " 'transmission of disease and understanding of virus.',\n",
       " 'Contagion level.',\n",
       " 'Patterns of infection',\n",
       " 'Effectiveness of healthcare worker use of PPE',\n",
       " 'Lack of proper PPE. I use one mask for an entire week...',\n",
       " 'PPE is still scarce. It is being rationed and each staff only gets 1 mask per week at my hospital which has to be reused.',\n",
       " 'Not just the impact it is having now but as we start it to move away from this initial outbreak what this means for the future of healthcare and us as healthcare professionals. Also what it means for',\n",
       " 'Our mental health',\n",
       " 'Stress levels of frontline staff related to taking care of Covid patients',\n",
       " 'PPE coverage and does it work',\n",
       " 'Reliability of symptom based strategy vs. test based strategy (CDC Guidelines) for healthcare providers to be released to return to work? Is one better than the other? Are asymptomatic patients that s',\n",
       " 'Infection rates in healthcare workers broken down related to different types of practices.',\n",
       " 'Outpatient treatment and therapeutics.',\n",
       " 'Burden on employees',\n",
       " 'Who is being tested and how many tests are available?',\n",
       " 'Is it as simple as personal protective equipment and hand hygiene to keep us safe?',\n",
       " 'The divide of how we wear masks/PPE at work and the community inconsistencies with wearing masks.',\n",
       " \"Where you can get PPE's if your worksite is running out.\",\n",
       " 'Updates on what is understood to be best practices in the workplace and outside.',\n",
       " 'Ppe',\n",
       " 'Safety',\n",
       " 'the risk of spreading to family members',\n",
       " 'Will our pay be protected, if/when we test positive for COVID-19. As a healthcare worker, we should not have to worry about work comp pay, being less than our normal wages.',\n",
       " 'The stress they are suffering is a job not an hero mission',\n",
       " 'Continual Testing after each Exposure',\n",
       " 'PPE',\n",
       " 'Immunity',\n",
       " 'Stressors affecting personal life',\n",
       " 'Locally cases are rising rapidly, however general pubic seems to believe the opposite. Healthcare workers and general public both seem to be experiencing a type of \"concern fatigue\" as if they simply',\n",
       " 'diagnosis,surveillance,treatment',\n",
       " 'Surveillance',\n",
       " nan,\n",
       " 'That this is not going to end soon and that PPE will be used routinely for the for arable future',\n",
       " 'The psychological impact of wearing reused PPE, moving them back to acceptable practices',\n",
       " \"planning for the next phase and that this isn't going away\",\n",
       " 'Returning to Normal practices and being able to adjust to life in a pandemic',\n",
       " 'Why health cares feel that they do not need to wear a mask away from work',\n",
       " 'Keeping HCW focused on protecting themselves and to consider everyone positive until proven otherwise.',\n",
       " 'Safety/PPE needs, mental health, household/ family management difficulties',\n",
       " 'Patient care',\n",
       " 'Managing anxiety and stress',\n",
       " 'Reliability of test results',\n",
       " 'Transmission, treatment',\n",
       " 'pressure to be a hero',\n",
       " 'Appropriate use of PPE',\n",
       " 'Many feel completely exhausted and burned out. How to now deal with going \"back to normal\" and reopening for elective cases without a break or chance to recover mentally and emotionally.',\n",
       " 'Adequate PPE',\n",
       " 'exposure risk as healthcare systems \"reopen\" to elective services',\n",
       " 'None',\n",
       " 'Why are there so many antimaskers',\n",
       " 'Exposure risks',\n",
       " 'Antibodies and immunity',\n",
       " 'Proper PPE and testing',\n",
       " 'Does exposure or presence of antibodies prevent additional infection?',\n",
       " 'Why do people react so differently to the virus?',\n",
       " 'Mental health, safety for \"second waves\" of covid-19, how many of us HCWs may have antibodies from earlier exposures (and do these antibodies confer immunity?)',\n",
       " 'Physical safety needs as hospitals move toward re-opening and renewal (how to keep healthcare workers safe if overcrowding occurs?); ongoing and evolving mental health needs',\n",
       " 'Safety considerations for re-opening and possible second wave, mental health',\n",
       " 'Physical AND emotional safety during a potential \"second wave\" here in NYC',\n",
       " 'Viral vector modality to impede transmission during care.',\n",
       " 'What does presence of antibodies tell us about immunity? And how can we accurately increase antibody testing? What do we need to do to prepare for future increases in COVID-19, possibly in conjunctio',\n",
       " 'What is the appropriate PPE for different situations? We need accurate, reliable testing.',\n",
       " 'Sick pay for nurses and other staff. Presenteeism motivated by fear of job loss or lost pay. PPE availability. PTSD and burnout. Medical errors due to PTSD and burnout. TIme-off for rest and family. C',\n",
       " 'PTSD, burnout, incidence of asymptomatic infection, paid time off or sick leave, layoffs and furloughs',\n",
       " \"I've answered this question so many times already...\",\n",
       " 'anti maskism; PPE; paid time off for nurses and staff; disparrities in CoVID impact on healthcare staff based on race/ethnicity/income/etc',\n",
       " 'safety',\n",
       " 'Immunity',\n",
       " 'Public education',\n",
       " 'The stress of transmitting disease to your house hold members',\n",
       " 'keeping healthcare workers protected',\n",
       " 'testing',\n",
       " 'treatments',\n",
       " 'proper PPE',\n",
       " 'antibody effectiveness',\n",
       " 'continue to reduce the spread',\n",
       " \"long term effects of those who've had the illness, effects on children and unborn babies\",\n",
       " 'Why some people are getting so sick with covid and many others are completely asymptomatic. More needs to be done to understand what else is a factor in the severity of the disease. A young healthy',\n",
       " \"how long people are contagious. Why some are getting so sick who have no preexisting medical issues and others don't get sick at all. Why we aren't managing this more consistently on a national leve\",\n",
       " 'long term health effects of covid and whether one can get it more than once',\n",
       " 'need rapid turn around tests. Even many of our ICU patients who are tested are not resulted for over 48 hours. It makes me so mad, when we can test a whole stupid sports team every day and they know',\n",
       " 'Lack of PPE',\n",
       " 'personal protection issues',\n",
       " 'Prevention',\n",
       " 'PPE availability',\n",
       " 'that people at higher risk should be allowed to work from home',\n",
       " 'Psychological stress',\n",
       " 'I firmly believe that knowledge is power. I feel like our front line staff should know as much as they can about the virus so that we can better protect ourselves and educate patients.',\n",
       " 'We are not contagious',\n",
       " 'Availability and stock of PPE in our facilities, treatment for COVID-19',\n",
       " 'being a vector of disease to my family, co-workers & patients',\n",
       " 'How many in health care were tested that were asymptomatic vs symptomatic',\n",
       " 'Need to care for patients with non COVID-19 conditions expeditiously',\n",
       " 'Safety and exposure',\n",
       " 'PPE',\n",
       " 'Will we have adequate supplies to protect ourselves in the future.',\n",
       " 'Exposure rates- testing healthcare workers',\n",
       " 'Antibody resting/immunity profile for ALL pathogens',\n",
       " 'Better protection in general for all',\n",
       " 'General public protection',\n",
       " 'How and when healthcare workers should be tested for Covid 19',\n",
       " 'Transmission and testing for those in healthcare',\n",
       " 'risk of exposure',\n",
       " 'Treatment options',\n",
       " 'Training. Proactive.',\n",
       " 'EXPOSURE RISK AND PROPER EQUIPMENT TO PREVENT EXPOSURE',\n",
       " 'The emotional toll it takes on healthcare workers.',\n",
       " 'The emotional toll it takes',\n",
       " 'Fears of contaminating or infecting family members, being unknowingly exposed to the virus',\n",
       " 'There are just so many unknowns about this virus',\n",
       " 'Increased antibody testing and to understand if antibodies = immunity',\n",
       " 'If antibodies provided immunity',\n",
       " 'The longer term effects the virus will have on the body.',\n",
       " 'is prophylaxis medication any better than good IP techniques; does this vary based on what your role is/what type of patients you see/what type of procedures you preform',\n",
       " 'Participant actions/timeline during study',\n",
       " 'How to protect our vulnerable',\n",
       " 'how likely am I to get COVID from touching a surface',\n",
       " 'Immunity',\n",
       " 'Immunity',\n",
       " 'Treatment',\n",
       " \"How accurate the testing is in regards to false positives and negatives. I don't want to be a carrier and bring the virus to my patients and coworkers. If I am a carrier, my family has already been\",\n",
       " 'hazard pay',\n",
       " 'hazard pay for health care workers',\n",
       " 'hazard pay',\n",
       " 'What is appropriate PPE in every setting from outpatient clinics to ICU?',\n",
       " 'What is appropriate PPE for outpatient doctors and staff',\n",
       " 'What PPE is required in routine patient care for all medical specialties outpatient visits ?',\n",
       " 'why we are not testing enough',\n",
       " 'treatments',\n",
       " 'the unknown and that will come with time',\n",
       " 'potential long term effects from the virus',\n",
       " 'Previous exposure and serologic testing',\n",
       " 'the amount of products we use',\n",
       " 'What is the best protection for healthcare workers and taking care of these patients? Are we doing everything we can to protect ourselves and the community.',\n",
       " 'Antibody protection and personal protective equipment use requirements.',\n",
       " 'The risk taken when patients are not diagnosed or screened properly.',\n",
       " 'best way to get trusted (ie made in USA) supplies to the frontline staff and those working in healthcare.',\n",
       " 'The risk of exposure faced by EMS providers working in the field. What level of PPE is necessary? Is this airborne or not? When can we go back to normal?',\n",
       " 'Mental health related to the trauma of seeing so much death. Erosion of the public trust in healthcare institutions for political reasons.',\n",
       " 'anxiety coping methods',\n",
       " 'Changes to bedside care; ethical decision making; changes in critical thinking related to stress and exhaustion',\n",
       " 'ICU nurse PTSD',\n",
       " 'Ethics',\n",
       " 'Perceived vs actual risk.',\n",
       " 'Development of Immunity with infection',\n",
       " '1. Impact on families and the risk of infection being passed to family members. 2. Hazard pay for healthcare workers 3. Inconsistencies in policies at various hospitals and ambulance agencies regardi',\n",
       " 'Use of masks and social distance',\n",
       " 'Do positive antibodies mean immunity',\n",
       " 'Do antibodies protect you from reinfection',\n",
       " 'Immunity',\n",
       " 'Team dynamic, logistics of caring for these pts while isolated from normal resources',\n",
       " 'mental/emotional impact after caring for positive patients; worry over spreading it to family/community',\n",
       " 'why do healthcare workers experience worse outcomes? due to more frequent exposure?',\n",
       " 'Mental health, PPE, ethical dilemmas',\n",
       " 'Viral load and exposure, increasing risk of acquiring COVID so importance of PPE is paramount',\n",
       " 'We want to know accurate mortality rates',\n",
       " 'no family presence is hurting our patients',\n",
       " 'Mental health, mental wellbeing',\n",
       " 'none',\n",
       " 'taking the situation seriously, and protecting eachother',\n",
       " 'Risk of transmission',\n",
       " 'PPE',\n",
       " 'PPE and testing',\n",
       " 'contact precautions needed; how easily it is actually spread',\n",
       " 'What type of facial mask is appropriate for rule out patients?',\n",
       " \"It's not nearly as bad as the media implies\",\n",
       " 'PPE',\n",
       " 'The stress of coping with so much death.',\n",
       " 'Proper PPE',\n",
       " 'Do the presence of antibodies indicate immunity?',\n",
       " 'Whether or not the presence of antibodies indicate immunity.',\n",
       " 'If prior infection confers immunity',\n",
       " 'prevention, prevalence of infection, risk of prolonged exposure, likelihood of second infection',\n",
       " 'Need for disposable PPE - not reusing',\n",
       " 'Expectations.',\n",
       " 'Community education responsibilities',\n",
       " 'Education. For those delivering care but especially for the public.',\n",
       " 'How it affects pregnant women.',\n",
       " 'protection',\n",
       " 'That there will be a rise of positive COVID19 tests related to opening up businesses. People need to continue to take precautions (wear masks, wash hands)',\n",
       " 'Accurate information needs to be disseminated to the general public, from a TRUSTED health care system, not the media',\n",
       " 'The need for the public to practice safe distancing and wearing masks.',\n",
       " 'Public following recommended guidelines',\n",
       " 'The fact that masks do help and the proper way to wear a mask',\n",
       " 'How administration can better support front-line workers',\n",
       " 'Prophylactic treatments or vaccine',\n",
       " 'Keeping COVID out of the long term care setting',\n",
       " 'How to staff a COVID unit with a staffing shortage.',\n",
       " 'The importance of protecting themselves and the resident from COVID.',\n",
       " 'Vaccinnation',\n",
       " 'Safety',\n",
       " 'proper PPE sensitivity/specificity of testing',\n",
       " 'Viral mutations and possible reinfection; respiratory vs airborne transmission; better clarification of duration infected persons can transmit virus; true incidence of disease, given initial undertest',\n",
       " 'Sensitivity and specificity of CoV-19 PCR and antigen tests; vaccine development; protective factors',\n",
       " 'PPE, testing, protection by administration, mental toll, financial toll',\n",
       " 'We need standardized nursing practices to optimize pts prior to critical care or even hospitalization.',\n",
       " 'PPE, severity of managing stress of work environment',\n",
       " 'The effect of repeated exposed to covid-19. The risk that healthcare workers could be carrying/spreading the virus from patient to patient or to our families.',\n",
       " 'Effects of repeated exposure',\n",
       " 'Risks of continued exposure to covid 19. Mental health impact of this pandemic to healthcare workers.',\n",
       " 'Psychological impact of covid 19 on health care workers. Risk of healthcare workers as \"carriers\" of disease.',\n",
       " \"The likelihood that we are carriers since we've had so much exposure. Mental health toll.\",\n",
       " 'Mental health toll on health care workers. Level of burnout.',\n",
       " 'Compassion fatigue in healthcare workers',\n",
       " 'exposure risk',\n",
       " 'Mental health impacts, exposure risk, trauma and grief reaction, studies of relationship impacts',\n",
       " 'I think we need the public to be aware not to avoid seeking healthcare for their illnesses, especially those with chronic illness, it appears that people are waiting too long to access healthcare and',\n",
       " 'We need to stay vigilant with maintaining 6 feet distancing & wearing our masks. But we also need to recognize that we as a country must open States back up to prevent further demise of this country.',\n",
       " 'The importance of following guidelines, wearing a mask and social distancing to keep those at risk safe.',\n",
       " 'The need for washing hands, wearing a mask and social distancing. It seems many people are still out and about attending group events.',\n",
       " 'I cannot emphasize enough the importance of wearing a mask and social distancing.',\n",
       " 'Why such disparity in severity of cases - some are asymptomatic and some die.',\n",
       " \"Prevalence of undiagnosed covid; better understanding on why some get sick and others don't.\",\n",
       " \"Why some get sick and some don't at all.\",\n",
       " 'Understanding antibody protection',\n",
       " 'Should hospitals be randomly testing staff',\n",
       " 'Facilities being transparent with staff',\n",
       " 'How long does immunity last',\n",
       " 'Prevention and transmission',\n",
       " 'Transmission and activity on surfaces',\n",
       " 'Long term impacts on mental health; prevention strategies',\n",
       " 'the mental toll it takes on healthcare providers.',\n",
       " 'Mental health',\n",
       " 'Mental health and how to navigate the mid/begging of the end of Covid',\n",
       " 'Coping mechanisms',\n",
       " 'the proper protective equipment needed for dealing with asymptomatic patients',\n",
       " 'risk of contracting COVID from pediatric patients',\n",
       " 'mode of transmission (airborne or not?)',\n",
       " 'enough ppe and mental health as the crisis continues',\n",
       " 'fatigue and mental health',\n",
       " 'mental health days for off to recover from the stress and anguish off working non stop during the pandemic not vacation days',\n",
       " 'Caring for patients with COVID; newest strategies; caring for morbidly obese COVID patients and ECMO/Proning/Prevention of long-term effects such as PICS/PRIs/VAEs/etc.',\n",
       " 'Which PPE is appropriate for different types of patients.',\n",
       " 'Transmission and testing results',\n",
       " 'As a healthcare worker I am wearing a mask for 8 hrs a day, does wearing a mask actually prevent us from getting COVID? If I am exposed to it what should I do to prevent from getting it? Is there some',\n",
       " 'how it spread, what is the right ppe',\n",
       " 'Patients need to be tested for COVID-19',\n",
       " 'The use of ppe',\n",
       " 'The need for ppe and relief from the hob',\n",
       " 'The spread of virus from patients to healthcare workers',\n",
       " 'Exposure',\n",
       " 'Testing healthcare workers',\n",
       " \"The testing we should be the number one so we don't pass into patients\",\n",
       " 'The spread of the disease.',\n",
       " 'update info regarding current medication and treatment, patient census, is there enough PPE for all health care workers',\n",
       " 'Testing for COVID-19 event with no symptom.',\n",
       " 'vaccine and testing',\n",
       " 'testing',\n",
       " 'Details about immunity and reinfection',\n",
       " 'We are being told to reuse our N95 masks and we OR circulators are not allowed into an OR during intubation and extubation. Why cant we produce and have enough N95 masks for the circulators to assist',\n",
       " 'Transmission',\n",
       " 'What is a significant exposure and how to protect healthcare workers',\n",
       " 'PpE needed',\n",
       " 'Factual data',\n",
       " 'Not sure',\n",
       " 'PPE',\n",
       " 'safe staffing',\n",
       " 'PPE, regular testing or antibody testing',\n",
       " 'PPE, Antibody testing',\n",
       " 'Transmission risk from asymptomatic patients/coworkers, potential prophylactic agents, effective treatments',\n",
       " 'proper PPE',\n",
       " \"widespread availability of PCR testing as well as antibody testing to gain information in order to reduce potential exposure and calm family and friend's fears\",\n",
       " 'tachycardia in COVID-19 patients and when/how is it safe for HCW exposed to COVID-19 to live with their family members while working',\n",
       " 'when PCR tests change from negative to positive in patients we are working with, impact on PPE used',\n",
       " 'need for protective eyewear',\n",
       " 'PPE',\n",
       " \"properly isolating our patients until a result is available. As it is the results are taking 3 to 5 days and in the meantime our pt's are in the community on our unit and sometimes even sharing a roo\",\n",
       " 'The fact that we are being lied to',\n",
       " 'Transmission, Testing, Disease process, Immunity',\n",
       " 'Appropriate PPE; true risk of exposure at work; availability of testing for HCW and the public; when is a person not at risk of transmitting COVID - is it a week, 14days, longer?',\n",
       " 'asymptomatic spread, PIMS, cytokine storm - why are some just fine and others near death?',\n",
       " 'the intersection of race and COVID',\n",
       " 'PPE, stress and burnout',\n",
       " 'same as before: PPE, what is our true risk; do we need eye protection 24/7',\n",
       " 'Admin listening and PPE',\n",
       " 'Once a peak has happened in a community, antibody test healthcare works who were not sick through the peak to know if they were asymptomatic',\n",
       " 'PPE',\n",
       " 'People should wear facemasks',\n",
       " 'PPE',\n",
       " 'PPE',\n",
       " 'Testing, both of health care providers and community',\n",
       " 'Exposure risk',\n",
       " 'Transmission and PPE use',\n",
       " 'How it is passed, best ways to protect myself',\n",
       " 'Why the CDC keeps changing guidelines based on availability of equipment.',\n",
       " 'Accuracy of Data',\n",
       " 'More consistent communication, better protection',\n",
       " 'How to minimize exposure',\n",
       " 'How to prevent health care workers from contracting the virus.',\n",
       " 'How to protect health care workers from contracting Covid-19',\n",
       " 'How many of us get sick from COVID-19',\n",
       " 'Pathology, immunity, most effective PPE',\n",
       " 'Understanding the pathophysiology',\n",
       " 'Mental health',\n",
       " 'The stress and unknown of being on the frontline',\n",
       " 'Everything',\n",
       " 'The stress of the unknown',\n",
       " 'psychological safety',\n",
       " 'Transmission',\n",
       " 'None',\n",
       " 'The issue of testing non-symptomatic healthcare workers',\n",
       " 'Testing of healthcare workers',\n",
       " 'Testing for healthcare workers no symptoms',\n",
       " 'the need for proper staffing ratios',\n",
       " 'Stress of lack of supplies. Broken promises. Change of protocols. Effects on families. No testing for employees with contact. Being sent back to work symptomatic since symptoms are mild',\n",
       " 'Stress of the unknown. Fear of information not being fairly distributed. Favoritism of certain departments, shifts, or particular employees. Respect to those who have passed away due to covid 19. Bett',\n",
       " 'Long term plans. Shift schedule security. Longer hours less days a week are a must. Reduce number of staff commuting each day. Overlap shifts more hours to ensure enough relief from work pressures. Ha',\n",
       " 'Short staff as travelling tech contracts end. Extreme mental and physical fatigue. Decline in individual health. Building stress as administration continues to lean on clinical staff. Overall caution',\n",
       " 'Burnout, how we move on now, dealing with all the delayed operations with less help from travel techs',\n",
       " 'PPE stock security, extension of PTO time period use, support services if we contract the virus now, staff shortages, hospital debt, hiring freezes, loss of travel techs contracts, overworking staff,',\n",
       " 'Work and life balance, health and safety security',\n",
       " 'Psychosocial issues',\n",
       " 'Mental Health',\n",
       " 'Exposure risk and how to mitigate risk both personally and for our families',\n",
       " 'The need to keep the virus secure in assisted living facilities and understand how the virus spreads',\n",
       " 'Length of exposure If everyone in COVID units should be wearing N95 What wipes kill Covid (Oxivir vs bleach)',\n",
       " 'frequency of infection and serious complications in healthcare workers',\n",
       " 'Risk of infection, risk to HCW family/household members, effectiveness of different levels of PPE and infection control measures to prevent infection',\n",
       " 'Proper use of ppe',\n",
       " 'Protective factors against burnout',\n",
       " 'Staffing issues and PPE',\n",
       " 'Mental health',\n",
       " 'pressures of reopening',\n",
       " 'stress and staffing',\n",
       " 'supplies',\n",
       " 'burnout',\n",
       " 'appreciation, time off to enjoy our loved ones',\n",
       " 'The asymptomatic carriers of CV-19 & immunity to CV-19',\n",
       " 'The stress of the unknown, risk for work reduction, contracting the virus',\n",
       " 'job security, safety, PPE',\n",
       " 'Unintended exposures to covid positive patients',\n",
       " nan,\n",
       " 'N/a',\n",
       " \"How it spreads, how long virus stays in air and on surfaces, why so many false negs (what's the rate of false neg tests exactly), what is the actual death rate, why do some people get so much sicker t\",\n",
       " 'Pay',\n",
       " 'lack of proper and enough PPE',\n",
       " 'we need a consistent message about appropriate PPE: shields, safety glasses vs goggles with 1/2 respirators and where to use in community situations',\n",
       " \"how scary it is to work in health care when people around us don't take wearing of masks seriously\",\n",
       " \"How we handle the people who think it's 'just the flu' OR a government conspiracy. I'm afraid I will tell people EXACTLY what I think and it won't go well.\",\n",
       " 'Testing and PPEs',\n",
       " 'We need a vaccine.',\n",
       " 'Preventing unknown spread through EMS',\n",
       " 'If we have immunity since we have worked in this field or was exposed and not sure if we have been exposed or not.',\n",
       " 'How to have adequate Ppe and what appropriate ppe means',\n",
       " 'Immunity',\n",
       " 'All management to be on the same page with information.',\n",
       " \"When will this be considered equivalent to influenza? Being a novel virus, understand it's difficult to answer that question.\",\n",
       " 'anxiety',\n",
       " 'Safety. Transmission, testing and accurate facts',\n",
       " 'Is our PPE effective',\n",
       " 'consistency',\n",
       " 'testing of employees when sick. mixed messages with use of which mask you wear depending on type of patient stage',\n",
       " 'Clean hands',\n",
       " 'What are the proper precautions to take while caring for these patients.',\n",
       " 'What I need to be doing now to prepare for this to potentially hit again this winter',\n",
       " 'Will we have enough PPE',\n",
       " 'Treatments, Immunity after exposure, plasma from recovered patients',\n",
       " 'Vaccination',\n",
       " 'Risk of reusing N95',\n",
       " \"Exposure in general; proper PPE; safe PPE use with patients (ex: wearing an n95 or surgical mask for more than one shift (certainly more than one patient, one time like we've always been taught)); pur\",\n",
       " 'Exposure guidelines & incubation period. Recently had a coworker test positive after feeling ill. Our unit is very small & we often share tight, confined spaces. Our break room is an office space and',\n",
       " 'Susceptibility of contracting virus, protection from the virus, exact PPE requirements for interaction with general public and with COVID patients;',\n",
       " 'Ideal ventilation management',\n",
       " 'What specific PPE is needed for various encounters. Overall risks related to working in healthcare and COVID exposure.',\n",
       " 'Pay cuts and furloughs for frontline workers when Hospital administators are not subjected to same.',\n",
       " 'understaffing, inadequate PPE, stress and anxiety, PTSD, emotional trauma',\n",
       " 'Immunity and prevention',\n",
       " 'If infection provides immunity',\n",
       " 'What is the necessary level of PPE / can aerosolized spread actually occur - if so then why not treat this with extreme caution',\n",
       " 'Exposure to risk and what level of PPE is needed to prevent this infection. Aerosol vs. non-aerosol. Surgical vs. N95 masks is key.',\n",
       " 'How is the best way to prevent exposure',\n",
       " 'long term mental fatigue',\n",
       " 'Is there going to be a 2nd surge',\n",
       " 'Overall fatigue',\n",
       " 'mental fatigue of the length of this epidemic',\n",
       " 'Exposure risk',\n",
       " 'Need for proper PPE',\n",
       " 'Lack of PPE',\n",
       " 'The stress of not being able to answer questions or relieve fears because things are changing so quickly.',\n",
       " 'Role of hydroxychloroquine and Other anecdotal treatments: does antibody presence confer immunity or at least milder reinfection? If exposed to someone, how soon are you shedding virus during your pre',\n",
       " 'COVID-19 antigen and antibody tests need to be more accessible and we need PPE to be more available',\n",
       " 'prevention. Mother-baby transmission.',\n",
       " 'how it is actually transmitted',\n",
       " 'Antibody development, early detection, risk of exposure and prevention, treatment and immunization',\n",
       " 'access to serum antibody testing',\n",
       " 'Reuse of PPE, reduction of burnout',\n",
       " \"Knowing If they're asymptomatic carriers; best practices for management of critically ill covid positive patients (in terms of proper PPE)\",\n",
       " 'Risk of contracting the disease',\n",
       " 'Can you be re-infected?',\n",
       " 'Cure',\n",
       " 'mode of transmission',\n",
       " 'incubation period vector of transmission',\n",
       " 'Mask PPE',\n",
       " 'How to stop spreading it, avoid contact',\n",
       " 'PPE',\n",
       " 'Access to testing for pre op screening',\n",
       " 'PPE guidance',\n",
       " 'actual rate of infected patients; positive antibody rates',\n",
       " \"Effectiveness of re-used PPE, how effective is a 'decontaminated' N-95 for example.\",\n",
       " 'Level of contagion',\n",
       " 'Chance of exposure if you work in a small department',\n",
       " 'That it affects ALL hospital staff, not just nursing',\n",
       " 'How long will it last',\n",
       " 'Coworker interaction on the floor, in break rooms and in patient care areas, what are the risk and how can we minimize them when 6 feet is no an option',\n",
       " 'job loss',\n",
       " 'access to and affordability of healthcare, especially for minoritized and racialized populations.',\n",
       " 'Involuntary furloughs and inability to be paid during this time, inability to pay rent or qualify for cares act or stimulus check',\n",
       " 'PPE protection',\n",
       " 'Proper PPE and mental health',\n",
       " 'Burnout and proper PPE',\n",
       " 'Mental health',\n",
       " 'Who is infected and who has developed immunity',\n",
       " 'PPE',\n",
       " 'PPE',\n",
       " 'still PPE',\n",
       " 'Clarity on isolation precautions',\n",
       " 'What is the most appropiate PPE',\n",
       " 'pressure from employers to do procedures without proper protection',\n",
       " 'mandates for dental offices',\n",
       " 'Transmition in dental settings',\n",
       " 'Protecting dental workers',\n",
       " 'covid in the dental setting',\n",
       " 'PPE. I also encounter healthcare workers who had very limited knowledge of the clinical presentation or COVID when I was sick and being cared for',\n",
       " 'need for education of healthcare workers',\n",
       " 'appropriate testing',\n",
       " 'Better, more accurate, less invasive testing for the sarscov2 virus, and antibodies. Viral load exposure with various procedures or scenarios. Prophylaxis treatment.',\n",
       " 'Treatment of Covid',\n",
       " 'exposure risks, long term effects of covid both medical and mental, rightful compensation for this hazard',\n",
       " 'acquiring immunity. reliable treatment strategies',\n",
       " 'How to protect ourselves and the public.',\n",
       " 'What a person should do and not do once they test positive.',\n",
       " 'PPE and protection of healthcare workers',\n",
       " 'Testing',\n",
       " 'Respiratory staffing pre-covid was already tenuous. Even during busy seasons, there is no way to \"flex up\". With Covid, it highlights this problem even more.',\n",
       " 'what do we do if we are exposed?',\n",
       " 'The resources that are needed and not received',\n",
       " 'Fear - Mental Health',\n",
       " 'Mental Health',\n",
       " 'Burnout/exhaustion',\n",
       " 'Burnout',\n",
       " 'For some, Donning and Doffing PPE. Covid-19 testing turn around times.',\n",
       " 'Testing and exposure',\n",
       " 'That people need to be patient, and wear masks and still continue to practice social distancing',\n",
       " 'That we are doing our best to keep patients safe and patients need to be seen for other issues and not wait too long.',\n",
       " 'Wearing masks working 12 hr shifts is exhausting!',\n",
       " 'I would love an honest answer how effective wearing the same mask for 12 hours really is. Do they actually even stop the small corona particles?',\n",
       " 'Actual numbers of those infected',\n",
       " \"Deciphering what's helpful information and what's misinformation.\",\n",
       " 'Healthcare workers should be mindful of the incubation period and possibility of false negatives if tested too soon. Also, that a negative result on a COVID-19 test means there has not been exposed up',\n",
       " \"Exposure reduction is everyone's responsibility, not just that of HCPs.\",\n",
       " 'how to protect my self and family',\n",
       " 'Safety/best practices for non-compliant patient response (mental health, psychiatric units, etc.), staying time of the virus in the air, safety of positive patient escorts, high touch surfaces',\n",
       " 'Mental health and compensation',\n",
       " 'Side effects,',\n",
       " 'They need to listen to us about PPE',\n",
       " 'mode of transmission (is 6ft distancing truly good enough?), effectiveness of PPE, what medications have the most potential to help prevent or treat the virus',\n",
       " 'how the virus spreads, effective and routine testing measures for ALL, even if asymptomatic',\n",
       " 'transmission of disease and how to effectively protect all workers',\n",
       " 'length of exposure time of healthcare workers to COVID-positive patients and its impact on their own health; mode of transmission and effective PPE',\n",
       " 'how is it transmitted',\n",
       " \"exposure time that's safe; efficacy of PPE; mode of transmission\",\n",
       " 'mode of transmission and viral load',\n",
       " 'what helps them allay their fears.',\n",
       " 'Will I get infected again if I have the antibodies already?',\n",
       " 'Immunity',\n",
       " 'Efficacy of ppw and isolation protocols, specifics on dose response relationship with viral exposure',\n",
       " 'Mental Health',\n",
       " 'Mental health',\n",
       " 'transmission PPE',\n",
       " 'asymptomatic infection',\n",
       " 'what PPE is best',\n",
       " 'How it works? does it come back? When are you safe from getting it.',\n",
       " 'Better protection',\n",
       " 'Better communication',\n",
       " \"We don't have the capacity to take care of a significant amount of COVID-19 patients, the importance of staying home is making work manageable\",\n",
       " 'Are masks really helping? Or should healthcare and frontline workers be the only ones wearing them? How are families who work in healthcare supposed to work when they have kids that cannot be in schoo',\n",
       " 'How will we maintain social distancing if we add more clinics and providers/RN/MA in our team rooms? How will we have enough PPE adding more clinics?',\n",
       " 'What is being done to prepare for a second wave?',\n",
       " 'Maintaining social distancing as our hospital starts seeing more patients, more clinics, etc',\n",
       " 'Not able to social distance with staff, staff not wearing masks',\n",
       " 'Why we are running our clinics at full capacity at our hospital when COVID is getting worse',\n",
       " 'Communication and use of ppe',\n",
       " 'How to keep us the most efficiently and effectively safe. How to best minimize exposure.',\n",
       " 'Transmission sources',\n",
       " 'The stress and anxiety we endure',\n",
       " 'the stress and anxiety of it all',\n",
       " 'THAT WE DO NOT GET A SINGLE CENT OF HAZARD PAY',\n",
       " 'Do you need to be seen (or tested) for your symptoms',\n",
       " 'The transmission of the virus so we can protect ourselves and the community to the best of our ability. Second I would say developing a plan of care that works to kill the virus or at least improve sy',\n",
       " 'mental health impact on healthcare workers',\n",
       " 'Infection risks',\n",
       " 'stress, fear of exposure, spread to family',\n",
       " 'How COVID-19 negative patients need to be treated in high risk surgical cases.',\n",
       " 'antibody testing',\n",
       " 'Exposure time and ppe',\n",
       " 'Exposure time and ppe use',\n",
       " 'PPE supply, understanding how the virus spreads',\n",
       " 'Length of exposure with potential covid patients',\n",
       " 'Added stress of potential exposure in the health care environment. Keeping up with the constantly changing recommendations concerning Covid 19.',\n",
       " 'The underlying stress on the unit. General anxiety among coworkers. Wearing a mask all day long.',\n",
       " 'PPE',\n",
       " 'Better understanding the virus and how to protect the healthcare workers from contracting. Availability to be tested for confidence to not spread it within the workplace.',\n",
       " \"How to continue to proceed while maintaining safety for healthcare workers. What to do when there is a risk of a peak or in the fall when it's flu season and there is still no management of COVID-19\",\n",
       " 'How to keep us safe as restrictions are being lifted',\n",
       " 'As the state continues to move towards recovery phase how are we keeping us safe.',\n",
       " 'The increase of cases and no longer isolated in one part of the hospital and an increase chance of getting the virus.',\n",
       " 'Not allowing to wear PPE such as N95 for suspecting covid patients posing potential risk. Getting reprimanded if we do',\n",
       " 'PPE, safe staffing ratios, patient safety',\n",
       " 'Accurate testing and antibody testing',\n",
       " 'Ever changing testing parameters and hospital policies not being communicated to frontline staff',\n",
       " 'Accuracy of testing (antibody and diagnostic)',\n",
       " 'proper donning and doffing procedures, financial implications of furlough/layoffs',\n",
       " \"true rates of disease prevalence, transmission rates based on various forms of PPE, true stats on testing so we don't become falsely reassured after patients test negative\",\n",
       " 'common routes of infection transmission',\n",
       " 'Rate of infection acquired at work',\n",
       " 'risk of working if positive',\n",
       " 'is the risk really increased even with PPE as mentioned in a recent study',\n",
       " 'increased patient aquity',\n",
       " 'PPE',\n",
       " 'Being denied services because I take care of COVID-19 positive patients. For example, being denied barber/dental appts, etc...',\n",
       " 'Does the presence of antibodies suggest immunity;',\n",
       " 'Ways to mitigate exposure and spread',\n",
       " 'Proof of exposure - Antibody testing. Knowing that healthcare workers are properly protected.',\n",
       " 'Containment and Prevention',\n",
       " 'Keeping both patients and employees positive',\n",
       " 'A treatment or a vaccine.',\n",
       " 'Viral spread',\n",
       " 'The continued need for social distancing to prevent wider spread',\n",
       " 'It is sometimes impossible to social distance, but hygiene is always in the forefront.',\n",
       " 'COVID-19 has just disappeared because places are being opened up again, we still need to have practices in place to protect us.',\n",
       " 'Ease of transmission, relevance of antibodies',\n",
       " 'The meaning of antibody testing in the long run',\n",
       " 'Increase evidenced based answers about how Covid spreads, how long is it air borne, etc',\n",
       " 'Understaffing, taking care of patients outside of your scope of practice',\n",
       " 'Long term effects',\n",
       " 'Workflow efficiency',\n",
       " 'The need for systematic strategies to -recent degradation of high performance over time',\n",
       " 'Is the PPE we are using effective',\n",
       " 'disease transmission; needed PPE',\n",
       " 'emotional and mental stress',\n",
       " 'Availability of PPE; Disease transmission',\n",
       " 'Healthcare workers who have been exposed and are now postive',\n",
       " 'Access to PPE',\n",
       " 'Recovery for affected healthcare workers - are they recovering 100% and able to resume prior positions?',\n",
       " 'PPE',\n",
       " 'Protection against COVID-19',\n",
       " 'The need for PPE and test kits.',\n",
       " 'How we plan to reopen closed facilities and help get people back to work safely',\n",
       " 'what happens if we do contract the virus, can this virus reappear, what is life going to look like for nurses after this is over',\n",
       " 'updated policies and procedures; coverage',\n",
       " \"That the patient is not necessarily going to die. I have recently been getting patients who are not told they're positive until they are on our unit and then they begin to start telling their family t\",\n",
       " 'Transmission and risk for healthcare workers',\n",
       " 'How to avoid exposure',\n",
       " 'Long-term effects of being exposed to/infected with COVID; effective treatment of COVID+ patients; proper safety precautions',\n",
       " 'Proper PPE for COVID+ patients',\n",
       " 'Ptsd',\n",
       " 'risk, staffing ratios and education',\n",
       " 'Contracting Covid-19 and Spreading Covid-19',\n",
       " 'the spread of the COVID virus',\n",
       " 'If antibody positive and what are the implications of this.',\n",
       " 'What are best evidence based practices for preventing transmission to healthcare workers? For example, is viable SARS-CoV-2 really airborne, and if so, how long does viable virus persist? What level o',\n",
       " 'What level of PPE is really necessary to protect us in different settings? E.g., for what procedures and duration of exposure is an N95 mask called for, versus a surgical mask? When should we wear a d',\n",
       " 'status of vaccine development and efficacy',\n",
       " 'Transmission exposure risks & updates',\n",
       " 'information about protection and education about transmission',\n",
       " 'Using PPE',\n",
       " 'The costs (financial and human) of doing what we do - as an independent physician I am now in the red six figures thanks to the past five weeks and am facing bankruptcy, all while fighting to keep my',\n",
       " 'We show up because we care. But we are being treated like sacrificial lambs: all the fanfare, but its taken for granted that we will risk our lives and bankrupt ourselves to save others: inadequate PP',\n",
       " 'Taking care of those actively sick with COVID-19 is only one piece of the puzzle. I am a primary care doc who works 2 days a week in an inpatient high acuity unit, and 4 days a week providing outpatie',\n",
       " 'Funding primary care; job security / sick & survivors benefits / hazard pay, esp for lower-wage, higher-exposure positions such as CNAs, EVS, etc.; impact on quality and pace of care when teams are di',\n",
       " 'Primary care survival. Professional, economic, mental health, and caregiver support burdens to docs and practices - especially what comes from fielding dozens of calls from decompensated patients in',\n",
       " 'Moral injury of how the healthcare system \"manages\" the reality that those who most need our care in times like this are the populations least likely to have the economic resources or social/coping sk',\n",
       " \"That we on the front lines don't always have the power to fix the systems issues, and that we are working tirelessly at our own health and financial risk to protect the rest of you by trying to contai\",\n",
       " 'Moral injury. if the economic, social, emotional, family/relational, and health risk costs of providing care during a pandemic are all passed on to healthcare workers to subsidize uncompensated, we wi',\n",
       " 'excessive mask usage',\n",
       " 'Treatment, transmission, immunity',\n",
       " 'accurate testing with timely results for all offices. our home care office has not been able to get tests to test us so all of us are finding our own testing sites wasting so much time and putting us',\n",
       " 'Stress',\n",
       " 'Stress',\n",
       " 'Fatigue',\n",
       " 'What does having the antibodies mean? Can you get reinfected with the virus if you have the antibodies?',\n",
       " 'PPE and extended exposure to patients of unknown status in an outpatient setting',\n",
       " 'length of exposure and use of procedure mask level III surgical mask more effective than procedure mask.',\n",
       " 'opening of visitation at hospitals',\n",
       " 'moral distress and burnout',\n",
       " 'Emotional impact',\n",
       " 'Burnout and grief',\n",
       " 'Employee to employee transmission',\n",
       " 'Burnout, staff to staff exposure',\n",
       " 'burn-out, staff to staff infection',\n",
       " 'Burnout',\n",
       " 'Mental health and exhaustion',\n",
       " 'Better understanding of the virus, transmission, asymptomatic carriers',\n",
       " 'Transmission and immunity. Patient anxiety. Most effective PPE and practice was to protect caregivers and families.',\n",
       " \"Patient's perceptions of safety. Public awareness of effectiveness of masks and social distancing. Need for national leadership from someone other than the President.\",\n",
       " 'How to safely deliver needed care, guidelines for patients to be seen in clinic versus telemedicine. Appropriate reimbursement for appropriate care.',\n",
       " 'Optimization of reimbursement for virtual care, which is medically necessary for high-risk patients such as the elderly.',\n",
       " 'Universal masking and patient compliance',\n",
       " 'Staff and patients understanding of proper PPE use to prevent transmission',\n",
       " 'The risks we take daily and its impact on our family',\n",
       " 'Mental health',\n",
       " 'Mental health',\n",
       " 'I feel that a more accurate view of the true virus spread/exposure amongst the populace at large and specifically within Fire/EMS to include asymptomatic patients is crucial to understanding the level',\n",
       " 'How to keep ourselves protected',\n",
       " 'Method of transmission of virus. For example: How long is it airborne?',\n",
       " 'Financial stress',\n",
       " 'Support and adequate PPE',\n",
       " 'Public education/prevention, the public does not take it seriously.',\n",
       " 'Transmission, PPE, rate of infection amongst those without symptoms',\n",
       " 'The need to have proper PPE and for physicians to streamline Telemedicine during this time rather than making it optional for patients. That way it limits the exposure to patients and staff.',\n",
       " 'Prophylactic med efficacy',\n",
       " 'masks to be worn properly all day',\n",
       " 'is not consistant; a plan should have been in place',\n",
       " 'is a positive covid test on a patient mean no surgery?',\n",
       " 'Too many',\n",
       " 'how exhausting the assignments are',\n",
       " 'That all healthcare workers have experienced a complete shift in how things function at their job and how hard that is for them. New isolation rules, wearing a mask etc.',\n",
       " 'we are worried about a spike happening again',\n",
       " 'that the support is gone',\n",
       " 'We are all worried about immunity and how long we can shed the virus if we did indeed have it',\n",
       " 'Risk to us, risk to family at home',\n",
       " 'How do we continue to protect ourselves and our patients as our offices start to open back up to patients being seen in person. We obviously cannot socially distance and do an exam or a blood draw or',\n",
       " \"Why can't we do testing of asymptomatic people in our community (Durham, NC)? What to do with people who have been exposed but need to work.\",\n",
       " 'How to decide what is a low risk exposure and what is a high risk exposure so that i know how to council patients about quarantining.',\n",
       " \"For COVID, why do some people get sick and others don't? Why do some people seem to be oblivious or opposed to mask wearing? Why don't they get it?\",\n",
       " \"what's politically motivated news and what's real\",\n",
       " 'If the aerosolization of saliva in the dental setting means dentist and staff need to wear n95s. I am concerned about the long amounts of time we wear them and the side effects of that.',\n",
       " 'Emotional fatigue',\n",
       " 'Is it airborne?',\n",
       " 'the volume of patients we experienced and the \"trauma\" associated with it',\n",
       " 'how scary it can be for healthcare workers',\n",
       " 'Transmission and care',\n",
       " 'Physical/emotional stressors related to changes in care models/ COVID19',\n",
       " 'Healthcare workers health/wellbeing related to adjustments in workplace due to covid',\n",
       " 'Long-term effects on social, emotional, and financial well-being',\n",
       " 'How it will affect the hospital/finances in the long-run',\n",
       " 'PPE, wellness resources, time off',\n",
       " 'long term effect and exposure of children',\n",
       " 'Risk of exposure with all the changing CDC guidelines and rationing of PPE',\n",
       " 'actual routes/methods of exposure',\n",
       " 'What being essential means, and how we can be better protected for ourselves and our families',\n",
       " 'I see hospital staff minimizing COVID-19 symptoms',\n",
       " 'Not to get complacent with this pandemic',\n",
       " 'use of PPE',\n",
       " 'prevention and treatment',\n",
       " 'treatment for patients with covid',\n",
       " 'timeframe',\n",
       " 'GWAS studies to understand host-pathogen interactions and individual genetic risk factors for severe disease; viral kinetics; broader testing to understand epidemiologic impact and asymptomatic transm',\n",
       " 'more robust testing',\n",
       " 'Viral transmission in asymptomatic, epigenetics that predispose certain people to worse disease, treaments',\n",
       " 'Asymptomatic transmission, genetic susceptibility, viral dynamics, improved SARS-COV-2 test development',\n",
       " 'Antibody test characteristics and implications for providers, titers and serology over time after COVID disease',\n",
       " 'Genetic differences that predispose certain people to worse infection, vaccine development, therapeutics',\n",
       " 'how to keep informed when things are changing everyday',\n",
       " 'Consistency and following through',\n",
       " 'fatigue, feeling of scared to infect our families',\n",
       " 'exposure',\n",
       " 'infection rate of HCW',\n",
       " 'Treatment',\n",
       " 'Burnout, stress, suicide, effects on family, requirements for employers to protect workers',\n",
       " 'Effectiveness of various mask types in preventing spread (in hospital setting, not in a lab)',\n",
       " \"We are doing our best to give the best information/treatments possible and we aren't a part of a conspiracy to take away rights or hurt anyone. We are not only fighting a pandemic, we are fighting mis\",\n",
       " 'mental health',\n",
       " 'Mental health',\n",
       " \"That we work until we nearly collapse to help people and it's infuriating to see people in public not practicing social distancing\",\n",
       " 'any long term effects from Covid exposure',\n",
       " 'Long term stress',\n",
       " 'Covid-19 exposure between staff and patients',\n",
       " 'Being short staffed',\n",
       " 'Just keeping us informed of the many changes that are taking place with new employee and patient screening processes etc.',\n",
       " 'Making sure there is enough PPE/masks/cleansing wipes for the clinic',\n",
       " 'What is the status of the vaccine?',\n",
       " 'when a coworker is diagnosed with Covid-19',\n",
       " 'The fact that we are more at risk of contracting the virus and the amount of PPE we use',\n",
       " 'Immunity issues, modes of transmission',\n",
       " 'transmission and immunity',\n",
       " 'unsure',\n",
       " 'Identification of carriers',\n",
       " 'finding asymptomatic carriers',\n",
       " 'none',\n",
       " 'None',\n",
       " 'appropriate use of PPE for variable clinical encounters',\n",
       " \"That are safety matters. If we care for just four people on our shift, and then we become ill; it is not just one person I'll but one person that could have impacted four other persons health.\",\n",
       " 'The burn out and amount of work and anxiety wearing ppe.',\n",
       " 'Keeping moral up',\n",
       " 'is this virus as dangerous/deadly to the average person in average health?',\n",
       " 'PPE and support from leadership',\n",
       " 'how it is tranmitted',\n",
       " \"Potential risk even while wearing PPE. I'm also interested in the particular risk bedside ICU nurses experience regarding Covid19. In my hospital docs are sometimes better protected even though they\",\n",
       " \"That the PPE itself is exhausting: the time it takes to don and doff safely, the decreased communication, the stimulation in your face and in your ears... it's tiring and uncomfortable but necessary.\",\n",
       " 'The physical and emotional toll on murses',\n",
       " 'The impact the uncertainty, ever-changing policies, health risks, alone patients has on the healthcare worker',\n",
       " \"The emotional and physical toll on workers, that this isn't letting up and the public is not supportive at All now. Almost seems like reckless disregard\",\n",
       " 'What we go through daily',\n",
       " 'Testing protocols and outcomes are they helping??',\n",
       " 'Screening criteria- this determines how the healthcare worker (HCW) will engage and interact with the patient. For both patients (on presentation to the ED) and HCW (prior to beginning their shift) s',\n",
       " 'Eliminating COVID',\n",
       " 'lack of PPE, risk of infection',\n",
       " 'Lack of ppe',\n",
       " 'Mental burn out',\n",
       " 'Stress',\n",
       " \"It isn't over\",\n",
       " 'Is there going to be a resurgence in the dall',\n",
       " 'Childcare concerns',\n",
       " 'Proper PPE (what is necessary), when to return to work after positive, work should offer testing to all employees',\n",
       " 'PPE',\n",
       " 'PPE availability',\n",
       " 'Lack of PPE',\n",
       " 'Why are we not testing / checking antibodies on everyone?',\n",
       " 'PPE, risk mitigation, anxiety and work related stress',\n",
       " 'Anxiety in the context of the larger crisis (not just work related)',\n",
       " 'The risk across all healthcare workers, not just those at the bedside. The mental health risks associated with living in this time of uncertainty. Health disparities within our healthcare worker commu',\n",
       " 'Proper PPE and how to efficiently decrease transmission. Immunity too. Half of us are probably immune already.',\n",
       " 'How to protect healthcare workers and patients inside hospital from contracting virus. How to identify those at risk of deteriorating and what are the red flags (as with sepsis). Strategies for the no',\n",
       " \"Proper PPE and efficient use of it -- at my place of work we wear the PPE all day, all areas of work and it's the SAME one from beginning of shift. Wearing the same gown from COVID pt to the nurses st\",\n",
       " \"Returning to 'normal' business activity in healthcare facilities\",\n",
       " 'Transmission, how to teach the general public',\n",
       " 'The fear of contracting the disease, passing it to our families, etc',\n",
       " \"The pandemic isn't over!\",\n",
       " 'Whether HCQ is protective against developing COVID (primary prevention)',\n",
       " 'Adequate PPE; research for a vaccine; mental health',\n",
       " 'better ways on prevention',\n",
       " 'Modes of transmission, length of incubation period, infection phases',\n",
       " 'PPE availability, mental health of workers',\n",
       " 'Ppe availability,',\n",
       " 'Probability of transmission from individuals with COVID-19 antibodies.',\n",
       " 'Reinfection',\n",
       " 'Contact precautions',\n",
       " 'Contraction',\n",
       " 'A symptomatic transmissibility',\n",
       " 'A symptomatic transmissibility',\n",
       " 'Asymtomatic transmission',\n",
       " 'risks of infection, prevention of infection, emotional toll',\n",
       " 'Stress on family life',\n",
       " 'How to manage wellness in front-line COVID workers AND those not on the front-line, continuing to find ways to protect healthcare workers to ensure that the workforce remains healthy enough to care fo',\n",
       " 'long-term impact of COVID on psychological wellbeing of all HCW (not just frontline)',\n",
       " 'How to continue to stay vigilant despite relaxation of shelter in place orders, etc.',\n",
       " 'why some get ill while others have no symptoms',\n",
       " 'best practice for protection and prevent spread to family',\n",
       " 'Best practice for prevention and support',\n",
       " 'personal health risk of myself and family',\n",
       " 'PPE safety',\n",
       " 'Proper PPE to protect staff; exposure quarantine measures needed.',\n",
       " 'The wearing of masks by all public to protect the ever increasing spread of COVID-19',\n",
       " 'testing and quarantine guidelines importance',\n",
       " 'contagiousness, incubation, transmission',\n",
       " 'worker to worker transmission',\n",
       " 'PPE',\n",
       " 'PPE use, testing healthcare workers before returning to normal state or out of state workers who came for the crisis be tested before heading home.',\n",
       " ...]"
      ]
     },
     "execution_count": 17,
     "metadata": {},
     "output_type": "execute_result"
    }
   ],
   "source": [
    "df.HDEISSUE.tolist()"
   ]
  },
  {
   "cell_type": "markdown",
   "metadata": {},
   "source": [
    "# pre-processing the data"
   ]
  },
  {
   "cell_type": "code",
   "execution_count": 11,
   "metadata": {},
   "outputs": [],
   "source": [
    "### data pre-processing class\n",
    "class DataPreprocessor(object):\n",
    "\n",
    "    def __init__(self):\n",
    "        ## contraction pairs\n",
    "        self.contraction_pairs=[(r'won\\'t', 'will not'), (r'can\\'t', 'cannot'),\n",
    "                                 (r'i\\'m', 'i am'), (r'ain\\'t', 'is not'), \n",
    "                                 (r'(\\w+)\\'ll', '\\g<1> will'), \n",
    "                                 (r'(\\w+)n\\'t', '\\g<1> not'),\n",
    "                                 (r'(\\w+)\\'ve', '\\g<1> have'),\n",
    "                                 (r'(\\w+)\\'s', '\\g<1> is'),\n",
    "                                 (r'(\\w+)\\'re', '\\g<1> are'), \n",
    "                                 (r'(\\w+)\\'d', '\\g<1> would'), \n",
    "                                 (r'&', 'and'), \n",
    "                                 (r'dammit', 'damn it'), (r'dont', 'do not'),\n",
    "                                 (r'wont', 'will not') ]\n",
    "        self.contraction_patterns = [(re.compile(regex), repl)\\\n",
    "                                     for (regex, repl) in self.contraction_pairs]\n",
    "    \n",
    "    @classmethod\n",
    "    def split_emails(self, text):\n",
    "        \"\"\"\n",
    "        split a text into different emails\n",
    "        \n",
    "        :params[in]: text, string, a piece of text made up of emails shooting \n",
    "                     back and forth\n",
    "        \n",
    "        :params[out]: latest email of a list of separate emails\n",
    "        \"\"\"\n",
    "        ## pattern of reply emails\n",
    "        email_reply = re.compile('----- Message -----')              \n",
    "        # current utterance after removing conversation logs\n",
    "        curr_utter = email_reply.split(text)[0]    \n",
    "        return curr_utter\n",
    "        \n",
    "    def replace_contraction(self, text):\n",
    "        \"\"\"\n",
    "        :params[in]: text, a piece of text to replace\n",
    "        \n",
    "        :params[out]: text, text after replacing contractions\n",
    "        \"\"\"\n",
    "        for (pattern, repl) in self.contraction_patterns:\n",
    "            text = re.sub(pattern, repl, text)\n",
    "        return text\n",
    "    \n",
    "    ## remove unicode\n",
    "    def remove_unicode(self, text):\n",
    "        \"\"\" Removes unicode strings like \"\\u002c\" and \"x96\" \"\"\"\n",
    "        text = re.sub('\\s+',r' ', text)\n",
    "        text = re.sub('&apos;',r' ', text)\n",
    "        text = re.sub('&amp;',r'and', text)\n",
    "        text = re.sub(r'(\\\\u[0-9A-Fa-f]+)',r' ', text)       \n",
    "        text = re.sub(r'[^\\x00-\\x7f]',r' ',text)\n",
    "        return text\n",
    "  \n",
    "    def replace_url(self, text):\n",
    "        \"\"\" Replaces url address with \"url\" \"\"\"\n",
    "        text = re.sub('((www\\.[^\\s]+)|(https?://[^\\s]+))','url',text)\n",
    "        text = re.sub(r'#([^\\s]+)', r'\\1', text)\n",
    "        return text\n",
    "    \n",
    "    def preprocess_remove_stopwords(self, text):\n",
    "        \"\"\" simple preprocessing the documents and remove stop words \n",
    "        :params[in]: text, a text\n",
    "        \n",
    "        :params[out]: list of words\n",
    "        \"\"\"\n",
    "        return [word for word in simple_preprocess(str(text)) if word \\\n",
    "                 not in stop_words]\n",
    "    \n",
    "    ## preprocess messages\n",
    "    def full_preprocessor(self, text):\n",
    "        \"\"\" fully preprocess a document\n",
    "        :params[in]: text, a string\n",
    "        \n",
    "        :params[out]: words, list of words\n",
    "        \"\"\"\n",
    "        #latest_email=self.split_emails(text)\n",
    "        #text1=self.replace_contraction(latest_email)\n",
    "        text2=self.remove_unicode(text)\n",
    "        text3=self.replace_url(text2)\n",
    "        words=self.preprocess_remove_stopwords(text3)\n",
    "        return words\n",
    "    \n",
    "    ## a static method\n",
    "    @staticmethod\n",
    "    def check_keywords(sentences, words):\n",
    "        \"\"\"\n",
    "        check sentences that contain at least one word in a list\n",
    "        :params[in]: sentences, a list of sentences\n",
    "        :params[in]: words, a list of keywords\\\n",
    "    \n",
    "        :params[out]: a list of tuples of form (id, text)\n",
    "        \"\"\"\n",
    "        ## True/False of a sentence has at least one word\n",
    "        res = [any([k in s for k in words]) for s in sentences] \n",
    "        return [(i,sentences[i]) for i in range(0, len(res)) if res[i]] \n",
    "\n",
    "    ## a static method\n",
    "    @staticmethod\n",
    "    def check_keywords_in(sentences, words):\n",
    "        \"\"\"\n",
    "        check sentences that contain at least one word in a list\n",
    "        :params[in]: sentences, a list of sentences\n",
    "        :params[in]: words, a list of keywords\\\n",
    "    \n",
    "        :params[out]: a list of tuples of form (id, text)\n",
    "        \"\"\"\n",
    "        ## True/False of a sentence has at least one word\n",
    "        res = [any([k in s for k in words]) for s in sentences] \n",
    "        return res \n"
   ]
  },
  {
   "cell_type": "code",
   "execution_count": 12,
   "metadata": {},
   "outputs": [],
   "source": [
    "## texts\n",
    "df_text = df.HDEISSUE.tolist()"
   ]
  },
  {
   "cell_type": "markdown",
   "metadata": {},
   "source": [
    "## Tokenize words and Clean-up text\n",
    "\n",
    "Let’s tokenize each sentence into a list of words, removing punctuations and unnecessary characters altogether.\n",
    "\n",
    "Gensim’s simple_preprocess() is great for this. Additionally I have set deacc=True to remove the punctuations."
   ]
  },
  {
   "cell_type": "code",
   "execution_count": 13,
   "metadata": {},
   "outputs": [
    {
     "name": "stdout",
     "output_type": "stream",
     "text": [
      "[['consistent', 'readily', 'available', 'ppe', 'such', 'clean', 'masks', 'and', 'gowns', 'between', 'patients']]\n"
     ]
    }
   ],
   "source": [
    "def sent_to_words(sentences):\n",
    "    '''\n",
    "    :params[in], sentences, list of sentences\n",
    "    '''\n",
    "    for sentence in sentences:\n",
    "        yield(gensim.utils.simple_preprocess(str(sentence), deacc=True))  # deacc=True removes punctuations\n",
    "\n",
    "## split sentences into words        \n",
    "data_words = list(sent_to_words(df_text))\n",
    "\n",
    "print(data_words[:1])"
   ]
  },
  {
   "cell_type": "markdown",
   "metadata": {},
   "source": [
    "## Creating Bigram and Trigram Models\n",
    "\n",
    "Bigrams are two words frequently occurring together in the document. Trigrams are 3 words frequently occurring.\n",
    "\n",
    "Some examples in our example are: ‘front_bumper’, ‘oil_leak’, ‘maryland_college_park’ etc.\n",
    "\n",
    "Gensim’s Phrases model can build and implement the bigrams, trigrams, quadgrams and more. The two important arguments to Phrases are min_count and threshold. The higher the values of these param, the harder it is for words to be combined to bigrams."
   ]
  },
  {
   "cell_type": "code",
   "execution_count": 17,
   "metadata": {},
   "outputs": [
    {
     "ename": "NameError",
     "evalue": "name 'gensim' is not defined",
     "output_type": "error",
     "traceback": [
      "\u001b[0;31m---------------------------------------------------------------------------\u001b[0m",
      "\u001b[0;31mNameError\u001b[0m                                 Traceback (most recent call last)",
      "\u001b[0;32m<ipython-input-17-ea74bd3e17f8>\u001b[0m in \u001b[0;36m<module>\u001b[0;34m\u001b[0m\n\u001b[1;32m      1\u001b[0m \u001b[0;31m# Build the bigram and trigram models\u001b[0m\u001b[0;34m\u001b[0m\u001b[0;34m\u001b[0m\u001b[0m\n\u001b[0;32m----> 2\u001b[0;31m \u001b[0mbigram\u001b[0m \u001b[0;34m=\u001b[0m \u001b[0mgensim\u001b[0m\u001b[0;34m.\u001b[0m\u001b[0mmodels\u001b[0m\u001b[0;34m.\u001b[0m\u001b[0mPhrases\u001b[0m\u001b[0;34m(\u001b[0m\u001b[0mdata_words\u001b[0m\u001b[0;34m,\u001b[0m \u001b[0mmin_count\u001b[0m\u001b[0;34m=\u001b[0m\u001b[0;36m20\u001b[0m\u001b[0;34m,\u001b[0m \u001b[0mthreshold\u001b[0m\u001b[0;34m=\u001b[0m\u001b[0;36m10.0\u001b[0m\u001b[0;34m)\u001b[0m \u001b[0;31m# higher threshold fewer phrases.\u001b[0m\u001b[0;34m\u001b[0m\u001b[0m\n\u001b[0m\u001b[1;32m      3\u001b[0m \u001b[0mtrigram\u001b[0m \u001b[0;34m=\u001b[0m \u001b[0mgensim\u001b[0m\u001b[0;34m.\u001b[0m\u001b[0mmodels\u001b[0m\u001b[0;34m.\u001b[0m\u001b[0mPhrases\u001b[0m\u001b[0;34m(\u001b[0m\u001b[0mbigram\u001b[0m\u001b[0;34m[\u001b[0m\u001b[0mdata_words\u001b[0m\u001b[0;34m]\u001b[0m\u001b[0;34m,\u001b[0m \u001b[0mthreshold\u001b[0m\u001b[0;34m=\u001b[0m\u001b[0;36m10.0\u001b[0m\u001b[0;34m)\u001b[0m\u001b[0;34m\u001b[0m\u001b[0m\n\u001b[1;32m      4\u001b[0m \u001b[0;34m\u001b[0m\u001b[0m\n\u001b[1;32m      5\u001b[0m \u001b[0;31m# Faster way to get a sentence clubbed as a trigram/bigram\u001b[0m\u001b[0;34m\u001b[0m\u001b[0;34m\u001b[0m\u001b[0m\n",
      "\u001b[0;31mNameError\u001b[0m: name 'gensim' is not defined"
     ]
    }
   ],
   "source": [
    "### NOT NECESSARY   ###########\n",
    "\n",
    "# Build the bigram and trigram models\n",
    "bigram = gensim.models.Phrases(data_words, min_count=20, threshold=10.0) # higher threshold fewer phrases.\n",
    "trigram = gensim.models.Phrases(bigram[data_words], threshold=10.0)  \n",
    "\n",
    "# Faster way to get a sentence clubbed as a trigram/bigram\n",
    "bigram_mod = gensim.models.phrases.Phraser(bigram)\n",
    "trigram_mod = gensim.models.phrases.Phraser(trigram)\n",
    "\n",
    "# See trigram example\n",
    "print(trigram_mod[bigram_mod[data_words[0]]])"
   ]
  },
  {
   "cell_type": "markdown",
   "metadata": {},
   "source": [
    "## Remove Stopwords, Make Bigrams and Lemmatize\n",
    "\n",
    "The bigrams model is ready. Let’s define the functions to remove the stopwords, make bigrams and lemmatization and call them sequentially."
   ]
  },
  {
   "cell_type": "code",
   "execution_count": 14,
   "metadata": {},
   "outputs": [],
   "source": [
    "# Define functions for stopwords, bigrams, trigrams and lemmatization\n",
    "def remove_stopwords(texts):\n",
    "    return [[word for word in simple_preprocess(str(doc)) if word not in stop_words] for doc in texts]\n",
    "\n",
    "def make_bigrams(texts):\n",
    "    return [bigram_mod[doc] for doc in texts]\n",
    "\n",
    "def make_trigrams(texts):\n",
    "    return [trigram_mod[bigram_mod[doc]] for doc in texts]\n",
    "\n",
    "def lemmatization(texts, allowed_postags=['NOUN', 'ADJ', 'VERB', 'ADV']):\n",
    "    \"\"\"https://spacy.io/api/annotation\"\"\"\n",
    "    texts_out = []\n",
    "    for sent in texts:\n",
    "        doc = nlp(\" \".join(sent)) \n",
    "        texts_out.append([token.lemma_ for token in doc if token.pos_ in allowed_postags])\n",
    "    return texts_out"
   ]
  },
  {
   "cell_type": "code",
   "execution_count": 15,
   "metadata": {},
   "outputs": [
    {
     "name": "stdout",
     "output_type": "stream",
     "text": [
      "[['consistent', 'readily', 'available', 'ppe', 'clean', 'mask', 'gown', 'patient']]\n"
     ]
    }
   ],
   "source": [
    "# Let’s call the functions in order.\n",
    "# Remove Stop Words\n",
    "data_words_nostops = remove_stopwords(data_words)\n",
    "\n",
    "# Form Bigrams\n",
    "#data_words_bigrams = make_bigrams(data_words_nostops)\n",
    "\n",
    "# Initialize spacy 'en' model, keeping only tagger component (for efficiency)\n",
    "# python3 -m spacy download en\n",
    "#nlp = spacy.load('en', disable=['parser', 'ner'])\n",
    "\n",
    "# Do lemmatization keeping only noun, adj, vb, adv\n",
    "data_lemmatized = lemmatization(data_words_nostops, allowed_postags=['NOUN', 'ADJ', 'VERB', 'ADV'])\n",
    "\n",
    "print(data_lemmatized[:1])"
   ]
  },
  {
   "cell_type": "markdown",
   "metadata": {},
   "source": [
    "## Create the Dictionary and Corpus needed for Topic Modeling\n",
    "\n",
    "The two main inputs to the LDA topic model are the dictionary(id2word) and the corpus. Let’s create them."
   ]
  },
  {
   "cell_type": "code",
   "execution_count": 16,
   "metadata": {},
   "outputs": [
    {
     "name": "stdout",
     "output_type": "stream",
     "text": [
      "[[(0, 1), (1, 1), (2, 1), (3, 1), (4, 1), (5, 1), (6, 1), (7, 1)]]\n"
     ]
    }
   ],
   "source": [
    "# Create Dictionary\n",
    "id2word = corpora.Dictionary(data_lemmatized)\n",
    "\n",
    "\n",
    "# Term Document Frequency\n",
    "corpus = [id2word.doc2bow(text) for text in data_lemmatized]\n",
    "\n",
    "# View\n",
    "print(corpus[:1])"
   ]
  },
  {
   "cell_type": "code",
   "execution_count": 31,
   "metadata": {},
   "outputs": [],
   "source": [
    "## dump data into a .p file\n",
    "data_4_lda={'dataframe': df, 'tokenized_texts':data_lemmatized, 'id2word':id2word,\n",
    "           'corpus': corpus}\n",
    "with open('hero_LDA_sep5.p', 'wb') as jf:   ### hero_LDA_sep5.p is a file, name it as you want\n",
    "    pickle.dump(data_4_lda, jf)"
   ]
  },
  {
   "cell_type": "code",
   "execution_count": 6,
   "metadata": {},
   "outputs": [],
   "source": [
    "## load data with pickle\n",
    "with open('hero_LDA_sep5.p', 'rb') as jf:\n",
    "    data0=pickle.load(jf)"
   ]
  },
  {
   "cell_type": "code",
   "execution_count": 7,
   "metadata": {},
   "outputs": [],
   "source": [
    "df, data_lemmatized, id2word,corpus=data0['dataframe'],data0['tokenized_texts'],data0['id2word'],data0['corpus']"
   ]
  },
  {
   "cell_type": "markdown",
   "metadata": {},
   "source": [
    "Gensim creates a unique id for each word in the document. The produced corpus shown above is a mapping of (word_id, word_frequency).\n",
    "\n",
    "For example, (0, 1) above implies, word id 0 occurs once in the first document. Likewise, word id 1 occurs twice and so on.\n",
    "\n",
    "This is used as the input by the LDA model.\n",
    "\n",
    "If you want to see what word a given id corresponds to, pass the id as a key to the dictionary."
   ]
  },
  {
   "cell_type": "code",
   "execution_count": 8,
   "metadata": {},
   "outputs": [
    {
     "data": {
      "text/plain": [
       "'available'"
      ]
     },
     "execution_count": 8,
     "metadata": {},
     "output_type": "execute_result"
    }
   ],
   "source": [
    "id2word[0]"
   ]
  },
  {
   "cell_type": "markdown",
   "metadata": {},
   "source": [
    "## Building the Topic Model\n",
    "We have everything required to train the LDA model. In addition to the corpus and dictionary, you need to provide the number of topics as well.\n",
    "\n",
    "Apart from that, alpha and eta are hyperparameters that affect sparsity of the topics. According to the Gensim docs, both defaults to 1.0/num_topics prior.\n",
    "\n",
    "chunksize is the number of documents to be used in each training chunk. update_every determines how often the model parameters should be updated and passes is the total number of training passes."
   ]
  },
  {
   "cell_type": "markdown",
   "metadata": {},
   "source": [
    "### View the topics in LDA model\n",
    "The above LDA model is built with 20 different topics where each topic is a combination of keywords and each keyword contributes a certain weightage to the topic.\n",
    "\n",
    "You can see the keywords for each topic and the weightage(importance) of each keyword using lda_model.print_topics() as shown next."
   ]
  },
  {
   "cell_type": "markdown",
   "metadata": {},
   "source": [
    "## How to interpret this?\n",
    "\n",
    "For example: Topic 0 is a represented as _0.016“car” + 0.014“power” + 0.010“light” + 0.009“drive” + 0.007“mount” + 0.007“controller” + 0.007“cool” + 0.007“engine” + 0.007“back” + ‘0.006“turn”.\n",
    "\n",
    "It means the top 10 keywords that contribute to this topic are: ‘car’, ‘power’, ‘light’.. and so on and the weight of ‘car’ on topic 0 is 0.016.\n",
    "\n",
    "The weights reflect how important a keyword is to that topic.\n",
    "\n",
    "Looking at these keywords, can you guess what this topic could be? You may summarise it either are ‘cars’ or ‘automobiles’.\n",
    "\n",
    "Likewise, can you go through the remaining topic keywords and judge what the topic is?"
   ]
  },
  {
   "cell_type": "markdown",
   "metadata": {},
   "source": [
    "### Compute Model Perplexity and Coherence Score\n",
    "\n",
    "Model perplexity and topic coherence provide a convenient measure to judge how good a given topic model is. In my experience, topic coherence score, in particular, has been more helpful."
   ]
  },
  {
   "cell_type": "code",
   "execution_count": 17,
   "metadata": {},
   "outputs": [],
   "source": [
    "from gensim.models import LdaModel"
   ]
  },
  {
   "cell_type": "code",
   "execution_count": 18,
   "metadata": {},
   "outputs": [
    {
     "name": "stdout",
     "output_type": "stream",
     "text": [
      "\n",
      "Perplexity:  -7.165836706063271\n",
      "\n",
      "Coherence Score:  0.3235030085862554\n"
     ]
    }
   ],
   "source": [
    "lda_model = LdaModel(corpus=corpus, id2word=id2word, num_topics=10)\n",
    "# Compute Perplexity\n",
    "print('\\nPerplexity: ', lda_model.log_perplexity(corpus))  # a measure of how good the model is. lower the better.\n",
    "\n",
    "# Compute Coherence Score\n",
    "coherence_model_lda = CoherenceModel(model=lda_model, texts=data_lemmatized, dictionary=id2word, coherence='c_v')\n",
    "coherence_lda = coherence_model_lda.get_coherence()\n",
    "print('\\nCoherence Score: ', coherence_lda)"
   ]
  },
  {
   "cell_type": "code",
   "execution_count": 22,
   "metadata": {},
   "outputs": [
    {
     "name": "stdout",
     "output_type": "stream",
     "text": [
      "Help on method print_topics in module gensim.models.basemodel:\n",
      "\n",
      "print_topics(num_topics=20, num_words=10) method of gensim.models.ldamodel.LdaModel instance\n",
      "    Get the most significant topics (alias for `show_topics()` method).\n",
      "    \n",
      "    Parameters\n",
      "    ----------\n",
      "    num_topics : int, optional\n",
      "        The number of topics to be selected, if -1 - all topics will be in result (ordered by significance).\n",
      "    num_words : int, optional\n",
      "        The number of words to be included per topics (ordered by significance).\n",
      "    \n",
      "    Returns\n",
      "    -------\n",
      "    list of (int, list of (str, float))\n",
      "        Sequence with (topic_id, [(word, value), ... ]).\n",
      "\n"
     ]
    }
   ],
   "source": [
    "help(lda_model.print_topics)"
   ]
  },
  {
   "cell_type": "code",
   "execution_count": 21,
   "metadata": {},
   "outputs": [
    {
     "data": {
      "text/plain": [
       "[(0,\n",
       "  '0.076*\"exposure\" + 0.050*\"risk\" + 0.030*\"work\" + 0.030*\"patient\" + 0.027*\"need\" + 0.024*\"staff\" + 0.023*\"covid\" + 0.018*\"ppe\" + 0.017*\"change\" + 0.016*\"care\"'),\n",
       " (1,\n",
       "  '0.050*\"risk\" + 0.028*\"transmission\" + 0.025*\"availability\" + 0.024*\"infection\" + 0.022*\"protective\" + 0.021*\"prevention\" + 0.019*\"rate\" + 0.017*\"testing\" + 0.014*\"ppe\" + 0.013*\"worker\"'),\n",
       " (2,\n",
       "  '0.078*\"health\" + 0.067*\"mental\" + 0.055*\"mask\" + 0.036*\"public\" + 0.034*\"wear\" + 0.026*\"social\" + 0.021*\"importance\" + 0.020*\"distancing\" + 0.019*\"safety\" + 0.016*\"need\"'),\n",
       " (3,\n",
       "  '0.055*\"testing\" + 0.046*\"antibody\" + 0.040*\"immunity\" + 0.037*\"covid\" + 0.029*\"infection\" + 0.025*\"long\" + 0.022*\"test\" + 0.021*\"ppe\" + 0.019*\"use\" + 0.018*\"term\"'),\n",
       " (4,\n",
       "  '0.052*\"ppe\" + 0.050*\"worker\" + 0.034*\"healthcare\" + 0.032*\"treatment\" + 0.032*\"proper\" + 0.024*\"test\" + 0.020*\"patient\" + 0.019*\"testing\" + 0.018*\"well\" + 0.016*\"effective\"'),\n",
       " (5,\n",
       "  '0.098*\"transmission\" + 0.074*\"immunity\" + 0.046*\"virus\" + 0.038*\"asymptomatic\" + 0.022*\"long\" + 0.020*\"carrier\" + 0.016*\"spread\" + 0.013*\"test\" + 0.011*\"antibody\" + 0.010*\"emotional\"'),\n",
       " (6,\n",
       "  '0.043*\"patient\" + 0.031*\"family\" + 0.028*\"worker\" + 0.025*\"spread\" + 0.024*\"care\" + 0.024*\"stress\" + 0.022*\"covid\" + 0.022*\"vaccine\" + 0.021*\"work\" + 0.017*\"protect\"'),\n",
       " (7,\n",
       "  '0.037*\"test\" + 0.029*\"antibody\" + 0.023*\"safe\" + 0.021*\"testing\" + 0.015*\"work\" + 0.014*\"cause\" + 0.013*\"hospital\" + 0.012*\"keep\" + 0.012*\"people\" + 0.012*\"patient\"'),\n",
       " (8,\n",
       "  '0.054*\"ppe\" + 0.034*\"lack\" + 0.033*\"covid\" + 0.032*\"patient\" + 0.029*\"need\" + 0.022*\"get\" + 0.019*\"virus\" + 0.015*\"appropriate\" + 0.015*\"mask\" + 0.014*\"access\"'),\n",
       " (9,\n",
       "  '0.034*\"effect\" + 0.028*\"covid\" + 0.026*\"risk\" + 0.026*\"long\" + 0.024*\"term\" + 0.018*\"protect\" + 0.017*\"ppe\" + 0.017*\"patient\" + 0.017*\"get\" + 0.015*\"still\"')]"
      ]
     },
     "execution_count": 21,
     "metadata": {},
     "output_type": "execute_result"
    }
   ],
   "source": [
    "lda_model.print_topics()"
   ]
  },
  {
   "cell_type": "markdown",
   "metadata": {},
   "source": [
    "## Visualize the topics-keywords\n",
    "\n",
    "Now that the LDA model is built, the next step is to examine the produced topics and the associated keywords. There is no better tool than pyLDAvis package’s interactive chart and is designed to work well with jupyter notebooks."
   ]
  },
  {
   "cell_type": "markdown",
   "metadata": {},
   "source": [
    " So how to infer pyLDAvis’s output?\n",
    "\n",
    "Each bubble on the left-hand side plot represents a topic. The larger the bubble, the more prevalent is that topic.\n",
    "\n",
    "A good topic model will have fairly big, non-overlapping bubbles scattered throughout the chart instead of being clustered in one quadrant.\n",
    "\n",
    "A model with too many topics, will typically have many overlaps, small sized bubbles clustered in one region of the chart.\n",
    "\n",
    "Alright, if you move the cursor over one of the bubbles, the words and bars on the right-hand side will update. These words are the salient keywords that form the selected topic.\n",
    "\n",
    "We have successfully built a good looking topic model.\n",
    "\n",
    "Given our prior knowledge of the number of natural topics in the document, finding the best model was fairly straightforward.\n",
    "\n",
    "Upnext, we will improve upon this model by using Mallet’s version of LDA algorithm and then we will focus on how to arrive at the optimal number of topics given any large corpus of text."
   ]
  },
  {
   "cell_type": "markdown",
   "metadata": {},
   "source": [
    "## Building LDA Mallet Model\n",
    "\n",
    "So far you have seen Gensim’s inbuilt version of the LDA algorithm. Mallet’s version, however, often gives a better quality of topics.\n",
    "\n",
    "Gensim provides a wrapper to implement Mallet’s LDA from within Gensim itself. You only need to download the zipfile, unzip it and provide the path to mallet in the unzipped directory to gensim.models.wrappers.LdaMallet. See how I have done this below."
   ]
  },
  {
   "cell_type": "code",
   "execution_count": 19,
   "metadata": {},
   "outputs": [],
   "source": [
    "import os;os.getcwd()\n",
    "import time\n",
    "time.time()\n",
    "import os\n",
    "#os.environ.update({'MALLET_HOME': r'C:/new_mallet/mallet-2.0.8/bin'})\n",
    "os.environ.update({'MALLET_HOME': r'C:/mallet/bin',\n",
    "                   'JAVA_HOME': r'C:/Program Files/Java/jdk-14.0.2/bin'})"
   ]
  },
  {
   "cell_type": "code",
   "execution_count": 20,
   "metadata": {
    "scrolled": true
   },
   "outputs": [
    {
     "ename": "CalledProcessError",
     "evalue": "Command 'C:\\mallet\\bin\\mallet import-file --preserve-case --keep-sequence --remove-stopwords --token-regex \"\\S+\" --input C:\\Users\\shiji\\AppData\\Local\\Temp\\f56d57_corpus.txt --output C:\\Users\\shiji\\AppData\\Local\\Temp\\f56d57_corpus.mallet' returned non-zero exit status 1.",
     "output_type": "error",
     "traceback": [
      "\u001b[1;31m---------------------------------------------------------------------------\u001b[0m",
      "\u001b[1;31mCalledProcessError\u001b[0m                        Traceback (most recent call last)",
      "\u001b[1;32m<ipython-input-20-50759f4c483a>\u001b[0m in \u001b[0;36m<module>\u001b[1;34m\u001b[0m\n\u001b[0;32m      6\u001b[0m \u001b[0mstart_time\u001b[0m \u001b[1;33m=\u001b[0m \u001b[0mtime\u001b[0m\u001b[1;33m.\u001b[0m\u001b[0mtime\u001b[0m\u001b[1;33m(\u001b[0m\u001b[1;33m)\u001b[0m\u001b[1;33m\u001b[0m\u001b[1;33m\u001b[0m\u001b[0m\n\u001b[0;32m      7\u001b[0m ldamallet = gensim.models.wrappers.LdaMallet(mallet_path, corpus=corpus, num_topics=10, \n\u001b[1;32m----> 8\u001b[1;33m                                              id2word=id2word,iterations=8000)\n\u001b[0m\u001b[0;32m      9\u001b[0m \u001b[1;31m# Compute Coherence Score\u001b[0m\u001b[1;33m\u001b[0m\u001b[1;33m\u001b[0m\u001b[1;33m\u001b[0m\u001b[0m\n\u001b[0;32m     10\u001b[0m coherence_model_ldamallet = CoherenceModel(model=ldamallet, texts=data_lemmatized, \n",
      "\u001b[1;32m~\\Anaconda3\\envs\\topic_modeling\\lib\\site-packages\\gensim\\models\\wrappers\\ldamallet.py\u001b[0m in \u001b[0;36m__init__\u001b[1;34m(self, mallet_path, corpus, num_topics, alpha, id2word, workers, prefix, optimize_interval, iterations, topic_threshold, random_seed)\u001b[0m\n\u001b[0;32m    129\u001b[0m         \u001b[0mself\u001b[0m\u001b[1;33m.\u001b[0m\u001b[0mrandom_seed\u001b[0m \u001b[1;33m=\u001b[0m \u001b[0mrandom_seed\u001b[0m\u001b[1;33m\u001b[0m\u001b[1;33m\u001b[0m\u001b[0m\n\u001b[0;32m    130\u001b[0m         \u001b[1;32mif\u001b[0m \u001b[0mcorpus\u001b[0m \u001b[1;32mis\u001b[0m \u001b[1;32mnot\u001b[0m \u001b[1;32mNone\u001b[0m\u001b[1;33m:\u001b[0m\u001b[1;33m\u001b[0m\u001b[1;33m\u001b[0m\u001b[0m\n\u001b[1;32m--> 131\u001b[1;33m             \u001b[0mself\u001b[0m\u001b[1;33m.\u001b[0m\u001b[0mtrain\u001b[0m\u001b[1;33m(\u001b[0m\u001b[0mcorpus\u001b[0m\u001b[1;33m)\u001b[0m\u001b[1;33m\u001b[0m\u001b[1;33m\u001b[0m\u001b[0m\n\u001b[0m\u001b[0;32m    132\u001b[0m \u001b[1;33m\u001b[0m\u001b[0m\n\u001b[0;32m    133\u001b[0m     \u001b[1;32mdef\u001b[0m \u001b[0mfinferencer\u001b[0m\u001b[1;33m(\u001b[0m\u001b[0mself\u001b[0m\u001b[1;33m)\u001b[0m\u001b[1;33m:\u001b[0m\u001b[1;33m\u001b[0m\u001b[1;33m\u001b[0m\u001b[0m\n",
      "\u001b[1;32m~\\Anaconda3\\envs\\topic_modeling\\lib\\site-packages\\gensim\\models\\wrappers\\ldamallet.py\u001b[0m in \u001b[0;36mtrain\u001b[1;34m(self, corpus)\u001b[0m\n\u001b[0;32m    270\u001b[0m \u001b[1;33m\u001b[0m\u001b[0m\n\u001b[0;32m    271\u001b[0m         \"\"\"\n\u001b[1;32m--> 272\u001b[1;33m         \u001b[0mself\u001b[0m\u001b[1;33m.\u001b[0m\u001b[0mconvert_input\u001b[0m\u001b[1;33m(\u001b[0m\u001b[0mcorpus\u001b[0m\u001b[1;33m,\u001b[0m \u001b[0minfer\u001b[0m\u001b[1;33m=\u001b[0m\u001b[1;32mFalse\u001b[0m\u001b[1;33m)\u001b[0m\u001b[1;33m\u001b[0m\u001b[1;33m\u001b[0m\u001b[0m\n\u001b[0m\u001b[0;32m    273\u001b[0m         \u001b[0mcmd\u001b[0m \u001b[1;33m=\u001b[0m \u001b[0mself\u001b[0m\u001b[1;33m.\u001b[0m\u001b[0mmallet_path\u001b[0m \u001b[1;33m+\u001b[0m \u001b[1;34m' train-topics --input %s --num-topics %s  --alpha %s --optimize-interval %s '\u001b[0m\u001b[0;31m\\\u001b[0m\u001b[1;33m\u001b[0m\u001b[1;33m\u001b[0m\u001b[0m\n\u001b[0;32m    274\u001b[0m             \u001b[1;34m'--num-threads %s --output-state %s --output-doc-topics %s --output-topic-keys %s '\u001b[0m\u001b[0;31m\\\u001b[0m\u001b[1;33m\u001b[0m\u001b[1;33m\u001b[0m\u001b[0m\n",
      "\u001b[1;32m~\\Anaconda3\\envs\\topic_modeling\\lib\\site-packages\\gensim\\models\\wrappers\\ldamallet.py\u001b[0m in \u001b[0;36mconvert_input\u001b[1;34m(self, corpus, infer, serialize_corpus)\u001b[0m\n\u001b[0;32m    259\u001b[0m             \u001b[0mcmd\u001b[0m \u001b[1;33m=\u001b[0m \u001b[0mcmd\u001b[0m \u001b[1;33m%\u001b[0m \u001b[1;33m(\u001b[0m\u001b[0mself\u001b[0m\u001b[1;33m.\u001b[0m\u001b[0mfcorpustxt\u001b[0m\u001b[1;33m(\u001b[0m\u001b[1;33m)\u001b[0m\u001b[1;33m,\u001b[0m \u001b[0mself\u001b[0m\u001b[1;33m.\u001b[0m\u001b[0mfcorpusmallet\u001b[0m\u001b[1;33m(\u001b[0m\u001b[1;33m)\u001b[0m\u001b[1;33m)\u001b[0m\u001b[1;33m\u001b[0m\u001b[1;33m\u001b[0m\u001b[0m\n\u001b[0;32m    260\u001b[0m         \u001b[0mlogger\u001b[0m\u001b[1;33m.\u001b[0m\u001b[0minfo\u001b[0m\u001b[1;33m(\u001b[0m\u001b[1;34m\"converting temporary corpus to MALLET format with %s\"\u001b[0m\u001b[1;33m,\u001b[0m \u001b[0mcmd\u001b[0m\u001b[1;33m)\u001b[0m\u001b[1;33m\u001b[0m\u001b[1;33m\u001b[0m\u001b[0m\n\u001b[1;32m--> 261\u001b[1;33m         \u001b[0mcheck_output\u001b[0m\u001b[1;33m(\u001b[0m\u001b[0margs\u001b[0m\u001b[1;33m=\u001b[0m\u001b[0mcmd\u001b[0m\u001b[1;33m,\u001b[0m \u001b[0mshell\u001b[0m\u001b[1;33m=\u001b[0m\u001b[1;32mTrue\u001b[0m\u001b[1;33m)\u001b[0m\u001b[1;33m\u001b[0m\u001b[1;33m\u001b[0m\u001b[0m\n\u001b[0m\u001b[0;32m    262\u001b[0m \u001b[1;33m\u001b[0m\u001b[0m\n\u001b[0;32m    263\u001b[0m     \u001b[1;32mdef\u001b[0m \u001b[0mtrain\u001b[0m\u001b[1;33m(\u001b[0m\u001b[0mself\u001b[0m\u001b[1;33m,\u001b[0m \u001b[0mcorpus\u001b[0m\u001b[1;33m)\u001b[0m\u001b[1;33m:\u001b[0m\u001b[1;33m\u001b[0m\u001b[1;33m\u001b[0m\u001b[0m\n",
      "\u001b[1;32m~\\Anaconda3\\envs\\topic_modeling\\lib\\site-packages\\gensim\\utils.py\u001b[0m in \u001b[0;36mcheck_output\u001b[1;34m(stdout, *popenargs, **kwargs)\u001b[0m\n\u001b[0;32m   1930\u001b[0m             \u001b[0merror\u001b[0m \u001b[1;33m=\u001b[0m \u001b[0msubprocess\u001b[0m\u001b[1;33m.\u001b[0m\u001b[0mCalledProcessError\u001b[0m\u001b[1;33m(\u001b[0m\u001b[0mretcode\u001b[0m\u001b[1;33m,\u001b[0m \u001b[0mcmd\u001b[0m\u001b[1;33m)\u001b[0m\u001b[1;33m\u001b[0m\u001b[1;33m\u001b[0m\u001b[0m\n\u001b[0;32m   1931\u001b[0m             \u001b[0merror\u001b[0m\u001b[1;33m.\u001b[0m\u001b[0moutput\u001b[0m \u001b[1;33m=\u001b[0m \u001b[0moutput\u001b[0m\u001b[1;33m\u001b[0m\u001b[1;33m\u001b[0m\u001b[0m\n\u001b[1;32m-> 1932\u001b[1;33m             \u001b[1;32mraise\u001b[0m \u001b[0merror\u001b[0m\u001b[1;33m\u001b[0m\u001b[1;33m\u001b[0m\u001b[0m\n\u001b[0m\u001b[0;32m   1933\u001b[0m         \u001b[1;32mreturn\u001b[0m \u001b[0moutput\u001b[0m\u001b[1;33m\u001b[0m\u001b[1;33m\u001b[0m\u001b[0m\n\u001b[0;32m   1934\u001b[0m     \u001b[1;32mexcept\u001b[0m \u001b[0mKeyboardInterrupt\u001b[0m\u001b[1;33m:\u001b[0m\u001b[1;33m\u001b[0m\u001b[1;33m\u001b[0m\u001b[0m\n",
      "\u001b[1;31mCalledProcessError\u001b[0m: Command 'C:\\mallet\\bin\\mallet import-file --preserve-case --keep-sequence --remove-stopwords --token-regex \"\\S+\" --input C:\\Users\\shiji\\AppData\\Local\\Temp\\f56d57_corpus.txt --output C:\\Users\\shiji\\AppData\\Local\\Temp\\f56d57_corpus.mallet' returned non-zero exit status 1."
     ]
    }
   ],
   "source": [
    "# Download File: http://mallet.cs.umass.edu/dist/mallet-2.0.8.zip\n",
    "# the number of iterations may affect the coherence score\n",
    "# hyper-parameter optimization -- can improve the performance\n",
    "# mallet_path = 'C:\\\\new_mallet\\\\mallet-2.0.8\\\\bin\\\\mallet.bat'\n",
    "mallet_path = 'C:\\\\mallet\\\\bin\\\\mallet'\n",
    "start_time = time.time()\n",
    "ldamallet = gensim.models.wrappers.LdaMallet(mallet_path, corpus=corpus, num_topics=10, \n",
    "                                             id2word=id2word,iterations=8000)\n",
    "# Compute Coherence Score\n",
    "coherence_model_ldamallet = CoherenceModel(model=ldamallet, texts=data_lemmatized, \n",
    "                                           dictionary=id2word, coherence='c_v')\n",
    "coherence_ldamallet = coherence_model_ldamallet.get_coherence()\n",
    "print('\\nCoherence Score: ', coherence_ldamallet)\n",
    "time_cost = time.time()-start_time"
   ]
  },
  {
   "cell_type": "code",
   "execution_count": 69,
   "metadata": {},
   "outputs": [],
   "source": [
    "## iterations = 3000, without optimizing hyper-parameters, coherence val. = 0.537\n",
    "## iterations = 5000, without optimizing hyper-parameters, coherence val. = 0.577\n",
    "## iterations = 8000, without optimizing hyper-parameters, coherence val. = 0.573\n"
   ]
  },
  {
   "cell_type": "code",
   "execution_count": 68,
   "metadata": {},
   "outputs": [
    {
     "data": {
      "text/plain": [
       "4223.827516317368"
      ]
     },
     "execution_count": 68,
     "metadata": {},
     "output_type": "execute_result"
    }
   ],
   "source": [
    "time_cost"
   ]
  },
  {
   "cell_type": "code",
   "execution_count": 70,
   "metadata": {},
   "outputs": [],
   "source": [
    "## save model in a .p file: lda model, dataframe, corpus, and id2word mapping\n",
    "pickle.dump((ldamallet,df,data_lemmatized, corpus, id2word), open( \"myChartAug18.p\", \"wb\" ))"
   ]
  },
  {
   "cell_type": "markdown",
   "metadata": {},
   "source": [
    "## Clustering based on topics\n",
    "### vectorize documents by topics"
   ]
  },
  {
   "cell_type": "code",
   "execution_count": 120,
   "metadata": {},
   "outputs": [],
   "source": [
    "\n",
    "## get path to document topic text file\n",
    "optimal_model.fdoctopics()\n",
    "## load document topics, i.e., the weights of each topic in every document\n",
    "doc_topics=optimal_model.load_document_topics()"
   ]
  },
  {
   "cell_type": "code",
   "execution_count": 121,
   "metadata": {},
   "outputs": [],
   "source": [
    "doc_topic_mat=list(doc_topics)"
   ]
  },
  {
   "cell_type": "code",
   "execution_count": 125,
   "metadata": {},
   "outputs": [
    {
     "data": {
      "text/plain": [
       "10"
      ]
     },
     "execution_count": 125,
     "metadata": {},
     "output_type": "execute_result"
    }
   ],
   "source": []
  },
  {
   "cell_type": "code",
   "execution_count": 94,
   "metadata": {},
   "outputs": [],
   "source": [
    "## document topic weights matrix\n",
    "doc_topic_wt = [[w for i,w in it] for it in doc_topic_mat]"
   ]
  },
  {
   "cell_type": "code",
   "execution_count": 95,
   "metadata": {},
   "outputs": [],
   "source": [
    "## np.array\n",
    "doc_topic_np = np.array(doc_topic_wt)"
   ]
  },
  {
   "cell_type": "code",
   "execution_count": 96,
   "metadata": {},
   "outputs": [],
   "source": [
    "## take logarithm\n",
    "log_doc_topic = np.log(doc_topic_np)"
   ]
  },
  {
   "cell_type": "code",
   "execution_count": 97,
   "metadata": {},
   "outputs": [
    {
     "data": {
      "text/plain": [
       "(167042, 10)"
      ]
     },
     "execution_count": 97,
     "metadata": {},
     "output_type": "execute_result"
    }
   ],
   "source": [
    "log_doc_topic.shape"
   ]
  },
  {
   "cell_type": "code",
   "execution_count": 98,
   "metadata": {},
   "outputs": [],
   "source": [
    "from sklearn.cluster import MiniBatchKMeans"
   ]
  },
  {
   "cell_type": "code",
   "execution_count": 99,
   "metadata": {},
   "outputs": [],
   "source": [
    "def find_optimal_clusters(data, max_k):\n",
    "    iters = range(2, max_k+1, 2)\n",
    "    \n",
    "    sse = []\n",
    "    for k in iters:\n",
    "        sse.append(MiniBatchKMeans(n_clusters=k, batch_size=200000, random_state=20).fit(data).inertia_)\n",
    "        print('Fit {} clusters'.format(k))\n",
    "        \n",
    "    f, ax = plt.subplots(1, 1)\n",
    "    ax.plot(iters, sse, marker='o')\n",
    "    ax.set_xlabel('Cluster Centers')\n",
    "    ax.set_xticks(iters)\n",
    "    ax.set_xticklabels(iters)\n",
    "    ax.set_ylabel('SSE')\n",
    "    ax.set_title('SSE by Cluster Center Plot')\n",
    "    ## return the sse and cluster numbers\n",
    "    return list(iters),sse\n"
   ]
  },
  {
   "cell_type": "code",
   "execution_count": 8,
   "metadata": {
    "scrolled": true
   },
   "outputs": [
    {
     "ename": "NameError",
     "evalue": "name 'find_optimal_clusters' is not defined",
     "output_type": "error",
     "traceback": [
      "\u001b[0;31m---------------------------------------------------------------------------\u001b[0m",
      "\u001b[0;31mNameError\u001b[0m                                 Traceback (most recent call last)",
      "\u001b[0;32m<ipython-input-8-c10466198696>\u001b[0m in \u001b[0;36m<module>\u001b[0;34m\u001b[0m\n\u001b[0;32m----> 1\u001b[0;31m \u001b[0mnums\u001b[0m\u001b[0;34m,\u001b[0m\u001b[0msse\u001b[0m\u001b[0;34m=\u001b[0m\u001b[0mfind_optimal_clusters\u001b[0m\u001b[0;34m(\u001b[0m\u001b[0mlog_doc_topic\u001b[0m\u001b[0;34m,\u001b[0m \u001b[0;36m100\u001b[0m\u001b[0;34m)\u001b[0m\u001b[0;34m\u001b[0m\u001b[0m\n\u001b[0m",
      "\u001b[0;31mNameError\u001b[0m: name 'find_optimal_clusters' is not defined"
     ]
    }
   ],
   "source": [
    "nums,sse=find_optimal_clusters(log_doc_topic, 100)"
   ]
  },
  {
   "cell_type": "code",
   "execution_count": 101,
   "metadata": {},
   "outputs": [
    {
     "data": {
      "text/plain": [
       "26"
      ]
     },
     "execution_count": 101,
     "metadata": {},
     "output_type": "execute_result"
    }
   ],
   "source": [
    "nums[12]"
   ]
  },
  {
   "cell_type": "code",
   "execution_count": 102,
   "metadata": {
    "scrolled": true
   },
   "outputs": [
    {
     "data": {
      "text/plain": [
       "KMeans(algorithm='auto', copy_x=True, init='k-means++', max_iter=300,\n",
       "       n_clusters=25, n_init=10, n_jobs=None, precompute_distances='auto',\n",
       "       random_state=None, tol=0.0001, verbose=0)"
      ]
     },
     "execution_count": 102,
     "metadata": {},
     "output_type": "execute_result"
    }
   ],
   "source": [
    "# Use k-means method\n",
    "from sklearn.cluster import KMeans\n",
    "kmeans = KMeans(n_clusters=25)\n",
    "kmeans.fit(log_doc_topic)"
   ]
  },
  {
   "cell_type": "code",
   "execution_count": 131,
   "metadata": {},
   "outputs": [],
   "source": [
    "model_data={'model':kmeans, 'doc_topics':log_doc_topic}\n",
    "with open('kmeans_model_dec27.p', 'wb') as fi:\n",
    "    pickle.dump(model_data, fi)"
   ]
  },
  {
   "cell_type": "code",
   "execution_count": 7,
   "metadata": {
    "scrolled": true
   },
   "outputs": [
    {
     "ename": "NameError",
     "evalue": "name 'kmeans' is not defined",
     "output_type": "error",
     "traceback": [
      "\u001b[0;31m---------------------------------------------------------------------------\u001b[0m",
      "\u001b[0;31mNameError\u001b[0m                                 Traceback (most recent call last)",
      "\u001b[0;32m<ipython-input-7-fbe4c22da8ee>\u001b[0m in \u001b[0;36m<module>\u001b[0;34m\u001b[0m\n\u001b[0;32m----> 1\u001b[0;31m \u001b[0mkmeans\u001b[0m\u001b[0;34m.\u001b[0m\u001b[0mcluster_centers_\u001b[0m\u001b[0;34m\u001b[0m\u001b[0m\n\u001b[0m",
      "\u001b[0;31mNameError\u001b[0m: name 'kmeans' is not defined"
     ]
    }
   ],
   "source": [
    "kmeans.cluster_centers_"
   ]
  },
  {
   "cell_type": "code",
   "execution_count": 104,
   "metadata": {},
   "outputs": [
    {
     "data": {
      "text/plain": [
       "(167042,)"
      ]
     },
     "execution_count": 104,
     "metadata": {},
     "output_type": "execute_result"
    }
   ],
   "source": [
    "## cluster labels\n",
    "kmeans.labels_.shape"
   ]
  },
  {
   "cell_type": "code",
   "execution_count": 105,
   "metadata": {},
   "outputs": [],
   "source": [
    "df['cluster_label'] = kmeans.labels_"
   ]
  },
  {
   "cell_type": "code",
   "execution_count": 110,
   "metadata": {},
   "outputs": [],
   "source": [
    "import random"
   ]
  },
  {
   "cell_type": "code",
   "execution_count": 106,
   "metadata": {},
   "outputs": [],
   "source": [
    "## save the data to pickle\n",
    "pickle.dump((df,sse, nums), open(\"myChartClusterDec28.p\", \"wb\"))"
   ]
  },
  {
   "cell_type": "code",
   "execution_count": 106,
   "metadata": {},
   "outputs": [],
   "source": [
    "## keep patients' emails\n",
    "cluster_df0 = cluster_df[cluster_df.MESSAGE_TO_FROM_PATIENT=='From Patient']"
   ]
  },
  {
   "cell_type": "code",
   "execution_count": 21,
   "metadata": {
    "scrolled": true
   },
   "outputs": [
    {
     "ename": "NameError",
     "evalue": "name 'cluster_df0' is not defined",
     "output_type": "error",
     "traceback": [
      "\u001b[0;31m---------------------------------------------------------------------------\u001b[0m",
      "\u001b[0;31mNameError\u001b[0m                                 Traceback (most recent call last)",
      "\u001b[0;32m<ipython-input-21-555841305908>\u001b[0m in \u001b[0;36m<module>\u001b[0;34m\u001b[0m\n\u001b[0;32m----> 1\u001b[0;31m \u001b[0mcluster_df0\u001b[0m\u001b[0;34m.\u001b[0m\u001b[0mgroupby\u001b[0m\u001b[0;34m(\u001b[0m\u001b[0;34m'cluster_label'\u001b[0m\u001b[0;34m)\u001b[0m\u001b[0;34m.\u001b[0m\u001b[0mcount\u001b[0m\u001b[0;34m(\u001b[0m\u001b[0;34m)\u001b[0m\u001b[0;34m\u001b[0m\u001b[0m\n\u001b[0m",
      "\u001b[0;31mNameError\u001b[0m: name 'cluster_df0' is not defined"
     ]
    }
   ],
   "source": [
    "cluster_df0.groupby('cluster_label').count()"
   ]
  },
  {
   "cell_type": "code",
   "execution_count": 114,
   "metadata": {},
   "outputs": [],
   "source": [
    "cluster_labels, sample_texts, clean_messages=[],[],[]\n",
    "## random select \n",
    "for lab in range(20):\n",
    "    ls0 = cluster_df0[cluster_df0.cluster_label==lab].MESSAGE_TEXT.to_list()\n",
    "    ls1 = cluster_df0[cluster_df0.cluster_label==lab].Clean_message.to_list()\n",
    "    if len(ls0)<=200:\n",
    "        cluster_labels.extend([lab]*len(ls0))\n",
    "        sample_texts.extend(ls0)\n",
    "        clean_messages.extend(ls1)\n",
    "    else: # greater than 200, draw random sample\n",
    "        ind0 = random.sample(list(range(len(ls0))), 200)\n",
    "        cluster_labels.extend([lab]*200)\n",
    "        sample_texts.extend([ls0[i] for i in ind0])\n",
    "        clean_messages.extend([ls1[i] for i in ind0])"
   ]
  },
  {
   "cell_type": "code",
   "execution_count": 119,
   "metadata": {},
   "outputs": [],
   "source": [
    "tmp_dict = {'cluster':cluster_labels, 'sample_text':sample_texts, 'clean_message':clean_messages}"
   ]
  },
  {
   "cell_type": "code",
   "execution_count": 122,
   "metadata": {},
   "outputs": [],
   "source": [
    "tmp_df=pd.DataFrame.from_dict(tmp_dict)\n",
    "tmp_df.to_excel('sample_text.xlsx', index=False)"
   ]
  },
  {
   "cell_type": "code",
   "execution_count": 111,
   "metadata": {},
   "outputs": [
    {
     "data": {
      "text/plain": [
       "[99, 42, 45, 29, 9, 53, 47, 18, 17, 74]"
      ]
     },
     "execution_count": 111,
     "metadata": {},
     "output_type": "execute_result"
    }
   ],
   "source": [
    "random.sample(list(range(100)), 10)"
   ]
  },
  {
   "cell_type": "code",
   "execution_count": 89,
   "metadata": {},
   "outputs": [],
   "source": [
    "df0 = df[df.cluster_label==0]"
   ]
  },
  {
   "cell_type": "code",
   "execution_count": 92,
   "metadata": {},
   "outputs": [
    {
     "data": {
      "text/plain": [
       "27316"
      ]
     },
     "execution_count": 92,
     "metadata": {},
     "output_type": "execute_result"
    }
   ],
   "source": [
    "df0.shape[0]"
   ]
  },
  {
   "cell_type": "code",
   "execution_count": 107,
   "metadata": {},
   "outputs": [],
   "source": [
    "## number of elements in each cluster\n",
    "num_cluster = []\n",
    "for it in range(25):\n",
    "    num_cluster.append(df[df.cluster_label==it].shape[0])"
   ]
  },
  {
   "cell_type": "code",
   "execution_count": 22,
   "metadata": {
    "scrolled": false
   },
   "outputs": [
    {
     "ename": "NameError",
     "evalue": "name 'num_cluster' is not defined",
     "output_type": "error",
     "traceback": [
      "\u001b[0;31m---------------------------------------------------------------------------\u001b[0m",
      "\u001b[0;31mNameError\u001b[0m                                 Traceback (most recent call last)",
      "\u001b[0;32m<ipython-input-22-f9a0d41cd594>\u001b[0m in \u001b[0;36m<module>\u001b[0;34m\u001b[0m\n\u001b[0;32m----> 1\u001b[0;31m \u001b[0mnum_cluster\u001b[0m\u001b[0;34m\u001b[0m\u001b[0m\n\u001b[0m",
      "\u001b[0;31mNameError\u001b[0m: name 'num_cluster' is not defined"
     ]
    }
   ],
   "source": [
    "num_cluster"
   ]
  },
  {
   "cell_type": "code",
   "execution_count": 110,
   "metadata": {},
   "outputs": [],
   "source": [
    "df.to_excel('myChartMessage_clusters_dec28.xlsx', index=False)"
   ]
  },
  {
   "cell_type": "code",
   "execution_count": null,
   "metadata": {},
   "outputs": [],
   "source": [
    "import pickle\n",
    "pickle.s"
   ]
  },
  {
   "cell_type": "code",
   "execution_count": 99,
   "metadata": {},
   "outputs": [],
   "source": [
    "import random"
   ]
  },
  {
   "cell_type": "code",
   "execution_count": 106,
   "metadata": {},
   "outputs": [
    {
     "data": {
      "text/plain": [
       "[8, 4, 10]"
      ]
     },
     "execution_count": 106,
     "metadata": {},
     "output_type": "execute_result"
    }
   ],
   "source": [
    "l0 = [1, 4, 6, 8, 10]\n",
    "random.sample(l0, 3)"
   ]
  },
  {
   "cell_type": "code",
   "execution_count": 107,
   "metadata": {},
   "outputs": [],
   "source": [
    "l0=[]\n",
    "l0.extend([0]*4)"
   ]
  },
  {
   "cell_type": "code",
   "execution_count": 109,
   "metadata": {},
   "outputs": [],
   "source": [
    "l0.extend([1]*4)"
   ]
  },
  {
   "cell_type": "code",
   "execution_count": 110,
   "metadata": {},
   "outputs": [
    {
     "data": {
      "text/plain": [
       "[0, 0, 0, 0, 1, 1, 1, 1]"
      ]
     },
     "execution_count": 110,
     "metadata": {},
     "output_type": "execute_result"
    }
   ],
   "source": [
    "l0"
   ]
  },
  {
   "cell_type": "code",
   "execution_count": 111,
   "metadata": {},
   "outputs": [],
   "source": [
    "cluster_labels, sample_texts=[],[]\n",
    "## random select \n",
    "for lab in range(20):\n",
    "    ls0 = df[df.cluster_label==lab].MESSAGE_TEXT.to_list()\n",
    "    cluster_labels.extend([lab]*100)\n",
    "    sample_texts.extend(random.sample(ls0, 100))"
   ]
  },
  {
   "cell_type": "code",
   "execution_count": 114,
   "metadata": {},
   "outputs": [],
   "source": [
    "tmp_dict = {'cluster_label':cluster_labels, 'sample_text':sample_texts}"
   ]
  },
  {
   "cell_type": "code",
   "execution_count": 116,
   "metadata": {},
   "outputs": [],
   "source": [
    "tmp_df=pd.DataFrame.from_dict(tmp_dict)\n",
    "tmp_df.to_excel('sample_text.xlsx', index=False)"
   ]
  },
  {
   "cell_type": "code",
   "execution_count": 109,
   "metadata": {},
   "outputs": [],
   "source": [
    "## import hierarchical clustering libraries\n",
    "import scipy.cluster.hierarchy as sch\n",
    "from sklearn.cluster import AgglomerativeClustering\n",
    "from sklearn.manifold import TSNE"
   ]
  },
  {
   "cell_type": "markdown",
   "metadata": {},
   "source": [
    "What we can do is reduce the number of dimensions drastically whilst trying to retain as much of the ‘variation’ in the information as possible. This is where we get to dimensionality reduction. Lets first take a look at something known as Principal Component Analysis.\n",
    "\n",
    "PCA is a technique for reducing the number of dimensions in a dataset whilst retaining most information. It is using the correlation between some dimensions and tries to provide a minimum number of variables that keeps the maximum amount of variation or information about how the original data is distributed. It does not do this using guesswork but using hard mathematics and it uses something known as the eigenvalues and eigenvectors of the data-matrix. These eigenvectors of the covariance matrix have the property that they point along the major directions of variation in the data. These are the directions of maximum variation in a dataset.\n",
    "\n",
    "T-Distributed Stochastic Neighbouring Entities (t-SNE)\n",
    "\n",
    "t-Distributed Stochastic Neighbor Embedding (t-SNE) is another technique for dimensionality reduction and is particularly well suited for the visualization of high-dimensional datasets. Contrary to PCA it is not a mathematical technique but a probablistic one. The original paper describes the working of t-SNE as:\n",
    "\n",
    "“t-Distributed stochastic neighbor embedding (t-SNE) minimizes the divergence between two distributions: a distribution that measures pairwise similarities of the input objects and a distribution that measures pairwise similarities of the corresponding low-dimensional points in the embedding”."
   ]
  },
  {
   "cell_type": "code",
   "execution_count": 116,
   "metadata": {
    "scrolled": true
   },
   "outputs": [
    {
     "name": "stdout",
     "output_type": "stream",
     "text": [
      "[t-SNE] Computing 91 nearest neighbors...\n",
      "[t-SNE] Indexed 345270 samples in 2.809s...\n",
      "[t-SNE] Computed neighbors for 345270 samples in 67.142s...\n",
      "[t-SNE] Computed conditional probabilities for sample 1000 / 345270\n",
      "[t-SNE] Computed conditional probabilities for sample 2000 / 345270\n",
      "[t-SNE] Computed conditional probabilities for sample 3000 / 345270\n",
      "[t-SNE] Computed conditional probabilities for sample 4000 / 345270\n",
      "[t-SNE] Computed conditional probabilities for sample 5000 / 345270\n",
      "[t-SNE] Computed conditional probabilities for sample 6000 / 345270\n",
      "[t-SNE] Computed conditional probabilities for sample 7000 / 345270\n",
      "[t-SNE] Computed conditional probabilities for sample 8000 / 345270\n",
      "[t-SNE] Computed conditional probabilities for sample 9000 / 345270\n",
      "[t-SNE] Computed conditional probabilities for sample 10000 / 345270\n",
      "[t-SNE] Computed conditional probabilities for sample 11000 / 345270\n",
      "[t-SNE] Computed conditional probabilities for sample 12000 / 345270\n",
      "[t-SNE] Computed conditional probabilities for sample 13000 / 345270\n",
      "[t-SNE] Computed conditional probabilities for sample 14000 / 345270\n",
      "[t-SNE] Computed conditional probabilities for sample 15000 / 345270\n",
      "[t-SNE] Computed conditional probabilities for sample 16000 / 345270\n",
      "[t-SNE] Computed conditional probabilities for sample 17000 / 345270\n",
      "[t-SNE] Computed conditional probabilities for sample 18000 / 345270\n",
      "[t-SNE] Computed conditional probabilities for sample 19000 / 345270\n",
      "[t-SNE] Computed conditional probabilities for sample 20000 / 345270\n",
      "[t-SNE] Computed conditional probabilities for sample 21000 / 345270\n",
      "[t-SNE] Computed conditional probabilities for sample 22000 / 345270\n",
      "[t-SNE] Computed conditional probabilities for sample 23000 / 345270\n",
      "[t-SNE] Computed conditional probabilities for sample 24000 / 345270\n",
      "[t-SNE] Computed conditional probabilities for sample 25000 / 345270\n",
      "[t-SNE] Computed conditional probabilities for sample 26000 / 345270\n",
      "[t-SNE] Computed conditional probabilities for sample 27000 / 345270\n",
      "[t-SNE] Computed conditional probabilities for sample 28000 / 345270\n",
      "[t-SNE] Computed conditional probabilities for sample 29000 / 345270\n",
      "[t-SNE] Computed conditional probabilities for sample 30000 / 345270\n",
      "[t-SNE] Computed conditional probabilities for sample 31000 / 345270\n",
      "[t-SNE] Computed conditional probabilities for sample 32000 / 345270\n",
      "[t-SNE] Computed conditional probabilities for sample 33000 / 345270\n",
      "[t-SNE] Computed conditional probabilities for sample 34000 / 345270\n",
      "[t-SNE] Computed conditional probabilities for sample 35000 / 345270\n",
      "[t-SNE] Computed conditional probabilities for sample 36000 / 345270\n",
      "[t-SNE] Computed conditional probabilities for sample 37000 / 345270\n",
      "[t-SNE] Computed conditional probabilities for sample 38000 / 345270\n",
      "[t-SNE] Computed conditional probabilities for sample 39000 / 345270\n",
      "[t-SNE] Computed conditional probabilities for sample 40000 / 345270\n",
      "[t-SNE] Computed conditional probabilities for sample 41000 / 345270\n",
      "[t-SNE] Computed conditional probabilities for sample 42000 / 345270\n",
      "[t-SNE] Computed conditional probabilities for sample 43000 / 345270\n",
      "[t-SNE] Computed conditional probabilities for sample 44000 / 345270\n",
      "[t-SNE] Computed conditional probabilities for sample 45000 / 345270\n",
      "[t-SNE] Computed conditional probabilities for sample 46000 / 345270\n",
      "[t-SNE] Computed conditional probabilities for sample 47000 / 345270\n",
      "[t-SNE] Computed conditional probabilities for sample 48000 / 345270\n",
      "[t-SNE] Computed conditional probabilities for sample 49000 / 345270\n",
      "[t-SNE] Computed conditional probabilities for sample 50000 / 345270\n",
      "[t-SNE] Computed conditional probabilities for sample 51000 / 345270\n",
      "[t-SNE] Computed conditional probabilities for sample 52000 / 345270\n",
      "[t-SNE] Computed conditional probabilities for sample 53000 / 345270\n",
      "[t-SNE] Computed conditional probabilities for sample 54000 / 345270\n",
      "[t-SNE] Computed conditional probabilities for sample 55000 / 345270\n",
      "[t-SNE] Computed conditional probabilities for sample 56000 / 345270\n",
      "[t-SNE] Computed conditional probabilities for sample 57000 / 345270\n",
      "[t-SNE] Computed conditional probabilities for sample 58000 / 345270\n",
      "[t-SNE] Computed conditional probabilities for sample 59000 / 345270\n",
      "[t-SNE] Computed conditional probabilities for sample 60000 / 345270\n",
      "[t-SNE] Computed conditional probabilities for sample 61000 / 345270\n",
      "[t-SNE] Computed conditional probabilities for sample 62000 / 345270\n",
      "[t-SNE] Computed conditional probabilities for sample 63000 / 345270\n",
      "[t-SNE] Computed conditional probabilities for sample 64000 / 345270\n",
      "[t-SNE] Computed conditional probabilities for sample 65000 / 345270\n",
      "[t-SNE] Computed conditional probabilities for sample 66000 / 345270\n",
      "[t-SNE] Computed conditional probabilities for sample 67000 / 345270\n",
      "[t-SNE] Computed conditional probabilities for sample 68000 / 345270\n",
      "[t-SNE] Computed conditional probabilities for sample 69000 / 345270\n",
      "[t-SNE] Computed conditional probabilities for sample 70000 / 345270\n",
      "[t-SNE] Computed conditional probabilities for sample 71000 / 345270\n",
      "[t-SNE] Computed conditional probabilities for sample 72000 / 345270\n",
      "[t-SNE] Computed conditional probabilities for sample 73000 / 345270\n",
      "[t-SNE] Computed conditional probabilities for sample 74000 / 345270\n",
      "[t-SNE] Computed conditional probabilities for sample 75000 / 345270\n",
      "[t-SNE] Computed conditional probabilities for sample 76000 / 345270\n",
      "[t-SNE] Computed conditional probabilities for sample 77000 / 345270\n",
      "[t-SNE] Computed conditional probabilities for sample 78000 / 345270\n",
      "[t-SNE] Computed conditional probabilities for sample 79000 / 345270\n",
      "[t-SNE] Computed conditional probabilities for sample 80000 / 345270\n",
      "[t-SNE] Computed conditional probabilities for sample 81000 / 345270\n",
      "[t-SNE] Computed conditional probabilities for sample 82000 / 345270\n",
      "[t-SNE] Computed conditional probabilities for sample 83000 / 345270\n",
      "[t-SNE] Computed conditional probabilities for sample 84000 / 345270\n",
      "[t-SNE] Computed conditional probabilities for sample 85000 / 345270\n",
      "[t-SNE] Computed conditional probabilities for sample 86000 / 345270\n",
      "[t-SNE] Computed conditional probabilities for sample 87000 / 345270\n",
      "[t-SNE] Computed conditional probabilities for sample 88000 / 345270\n",
      "[t-SNE] Computed conditional probabilities for sample 89000 / 345270\n",
      "[t-SNE] Computed conditional probabilities for sample 90000 / 345270\n",
      "[t-SNE] Computed conditional probabilities for sample 91000 / 345270\n",
      "[t-SNE] Computed conditional probabilities for sample 92000 / 345270\n",
      "[t-SNE] Computed conditional probabilities for sample 93000 / 345270\n",
      "[t-SNE] Computed conditional probabilities for sample 94000 / 345270\n",
      "[t-SNE] Computed conditional probabilities for sample 95000 / 345270\n",
      "[t-SNE] Computed conditional probabilities for sample 96000 / 345270\n",
      "[t-SNE] Computed conditional probabilities for sample 97000 / 345270\n",
      "[t-SNE] Computed conditional probabilities for sample 98000 / 345270\n",
      "[t-SNE] Computed conditional probabilities for sample 99000 / 345270\n",
      "[t-SNE] Computed conditional probabilities for sample 100000 / 345270\n",
      "[t-SNE] Computed conditional probabilities for sample 101000 / 345270\n",
      "[t-SNE] Computed conditional probabilities for sample 102000 / 345270\n",
      "[t-SNE] Computed conditional probabilities for sample 103000 / 345270\n",
      "[t-SNE] Computed conditional probabilities for sample 104000 / 345270\n",
      "[t-SNE] Computed conditional probabilities for sample 105000 / 345270\n",
      "[t-SNE] Computed conditional probabilities for sample 106000 / 345270\n",
      "[t-SNE] Computed conditional probabilities for sample 107000 / 345270\n",
      "[t-SNE] Computed conditional probabilities for sample 108000 / 345270\n",
      "[t-SNE] Computed conditional probabilities for sample 109000 / 345270\n",
      "[t-SNE] Computed conditional probabilities for sample 110000 / 345270\n",
      "[t-SNE] Computed conditional probabilities for sample 111000 / 345270\n",
      "[t-SNE] Computed conditional probabilities for sample 112000 / 345270\n",
      "[t-SNE] Computed conditional probabilities for sample 113000 / 345270\n",
      "[t-SNE] Computed conditional probabilities for sample 114000 / 345270\n",
      "[t-SNE] Computed conditional probabilities for sample 115000 / 345270\n",
      "[t-SNE] Computed conditional probabilities for sample 116000 / 345270\n",
      "[t-SNE] Computed conditional probabilities for sample 117000 / 345270\n",
      "[t-SNE] Computed conditional probabilities for sample 118000 / 345270\n",
      "[t-SNE] Computed conditional probabilities for sample 119000 / 345270\n",
      "[t-SNE] Computed conditional probabilities for sample 120000 / 345270\n",
      "[t-SNE] Computed conditional probabilities for sample 121000 / 345270\n",
      "[t-SNE] Computed conditional probabilities for sample 122000 / 345270\n",
      "[t-SNE] Computed conditional probabilities for sample 123000 / 345270\n",
      "[t-SNE] Computed conditional probabilities for sample 124000 / 345270\n",
      "[t-SNE] Computed conditional probabilities for sample 125000 / 345270\n",
      "[t-SNE] Computed conditional probabilities for sample 126000 / 345270\n",
      "[t-SNE] Computed conditional probabilities for sample 127000 / 345270\n",
      "[t-SNE] Computed conditional probabilities for sample 128000 / 345270\n",
      "[t-SNE] Computed conditional probabilities for sample 129000 / 345270\n",
      "[t-SNE] Computed conditional probabilities for sample 130000 / 345270\n",
      "[t-SNE] Computed conditional probabilities for sample 131000 / 345270\n",
      "[t-SNE] Computed conditional probabilities for sample 132000 / 345270\n",
      "[t-SNE] Computed conditional probabilities for sample 133000 / 345270\n",
      "[t-SNE] Computed conditional probabilities for sample 134000 / 345270\n",
      "[t-SNE] Computed conditional probabilities for sample 135000 / 345270\n",
      "[t-SNE] Computed conditional probabilities for sample 136000 / 345270\n",
      "[t-SNE] Computed conditional probabilities for sample 137000 / 345270\n",
      "[t-SNE] Computed conditional probabilities for sample 138000 / 345270\n",
      "[t-SNE] Computed conditional probabilities for sample 139000 / 345270\n",
      "[t-SNE] Computed conditional probabilities for sample 140000 / 345270\n",
      "[t-SNE] Computed conditional probabilities for sample 141000 / 345270\n",
      "[t-SNE] Computed conditional probabilities for sample 142000 / 345270\n",
      "[t-SNE] Computed conditional probabilities for sample 143000 / 345270\n",
      "[t-SNE] Computed conditional probabilities for sample 144000 / 345270\n",
      "[t-SNE] Computed conditional probabilities for sample 145000 / 345270\n",
      "[t-SNE] Computed conditional probabilities for sample 146000 / 345270\n",
      "[t-SNE] Computed conditional probabilities for sample 147000 / 345270\n",
      "[t-SNE] Computed conditional probabilities for sample 148000 / 345270\n",
      "[t-SNE] Computed conditional probabilities for sample 149000 / 345270\n",
      "[t-SNE] Computed conditional probabilities for sample 150000 / 345270\n",
      "[t-SNE] Computed conditional probabilities for sample 151000 / 345270\n",
      "[t-SNE] Computed conditional probabilities for sample 152000 / 345270\n",
      "[t-SNE] Computed conditional probabilities for sample 153000 / 345270\n",
      "[t-SNE] Computed conditional probabilities for sample 154000 / 345270\n",
      "[t-SNE] Computed conditional probabilities for sample 155000 / 345270\n",
      "[t-SNE] Computed conditional probabilities for sample 156000 / 345270\n",
      "[t-SNE] Computed conditional probabilities for sample 157000 / 345270\n",
      "[t-SNE] Computed conditional probabilities for sample 158000 / 345270\n",
      "[t-SNE] Computed conditional probabilities for sample 159000 / 345270\n",
      "[t-SNE] Computed conditional probabilities for sample 160000 / 345270\n",
      "[t-SNE] Computed conditional probabilities for sample 161000 / 345270\n",
      "[t-SNE] Computed conditional probabilities for sample 162000 / 345270\n",
      "[t-SNE] Computed conditional probabilities for sample 163000 / 345270\n",
      "[t-SNE] Computed conditional probabilities for sample 164000 / 345270\n",
      "[t-SNE] Computed conditional probabilities for sample 165000 / 345270\n",
      "[t-SNE] Computed conditional probabilities for sample 166000 / 345270\n",
      "[t-SNE] Computed conditional probabilities for sample 167000 / 345270\n",
      "[t-SNE] Computed conditional probabilities for sample 168000 / 345270\n",
      "[t-SNE] Computed conditional probabilities for sample 169000 / 345270\n",
      "[t-SNE] Computed conditional probabilities for sample 170000 / 345270\n",
      "[t-SNE] Computed conditional probabilities for sample 171000 / 345270\n",
      "[t-SNE] Computed conditional probabilities for sample 172000 / 345270\n",
      "[t-SNE] Computed conditional probabilities for sample 173000 / 345270\n",
      "[t-SNE] Computed conditional probabilities for sample 174000 / 345270\n",
      "[t-SNE] Computed conditional probabilities for sample 175000 / 345270\n",
      "[t-SNE] Computed conditional probabilities for sample 176000 / 345270\n",
      "[t-SNE] Computed conditional probabilities for sample 177000 / 345270\n",
      "[t-SNE] Computed conditional probabilities for sample 178000 / 345270\n",
      "[t-SNE] Computed conditional probabilities for sample 179000 / 345270\n",
      "[t-SNE] Computed conditional probabilities for sample 180000 / 345270\n",
      "[t-SNE] Computed conditional probabilities for sample 181000 / 345270\n",
      "[t-SNE] Computed conditional probabilities for sample 182000 / 345270\n",
      "[t-SNE] Computed conditional probabilities for sample 183000 / 345270\n",
      "[t-SNE] Computed conditional probabilities for sample 184000 / 345270\n",
      "[t-SNE] Computed conditional probabilities for sample 185000 / 345270\n",
      "[t-SNE] Computed conditional probabilities for sample 186000 / 345270\n",
      "[t-SNE] Computed conditional probabilities for sample 187000 / 345270\n",
      "[t-SNE] Computed conditional probabilities for sample 188000 / 345270\n",
      "[t-SNE] Computed conditional probabilities for sample 189000 / 345270\n",
      "[t-SNE] Computed conditional probabilities for sample 190000 / 345270\n",
      "[t-SNE] Computed conditional probabilities for sample 191000 / 345270\n",
      "[t-SNE] Computed conditional probabilities for sample 192000 / 345270\n",
      "[t-SNE] Computed conditional probabilities for sample 193000 / 345270\n",
      "[t-SNE] Computed conditional probabilities for sample 194000 / 345270\n",
      "[t-SNE] Computed conditional probabilities for sample 195000 / 345270\n",
      "[t-SNE] Computed conditional probabilities for sample 196000 / 345270\n",
      "[t-SNE] Computed conditional probabilities for sample 197000 / 345270\n",
      "[t-SNE] Computed conditional probabilities for sample 198000 / 345270\n",
      "[t-SNE] Computed conditional probabilities for sample 199000 / 345270\n",
      "[t-SNE] Computed conditional probabilities for sample 200000 / 345270\n",
      "[t-SNE] Computed conditional probabilities for sample 201000 / 345270\n",
      "[t-SNE] Computed conditional probabilities for sample 202000 / 345270\n",
      "[t-SNE] Computed conditional probabilities for sample 203000 / 345270\n",
      "[t-SNE] Computed conditional probabilities for sample 204000 / 345270\n",
      "[t-SNE] Computed conditional probabilities for sample 205000 / 345270\n",
      "[t-SNE] Computed conditional probabilities for sample 206000 / 345270\n",
      "[t-SNE] Computed conditional probabilities for sample 207000 / 345270\n",
      "[t-SNE] Computed conditional probabilities for sample 208000 / 345270\n",
      "[t-SNE] Computed conditional probabilities for sample 209000 / 345270\n",
      "[t-SNE] Computed conditional probabilities for sample 210000 / 345270\n",
      "[t-SNE] Computed conditional probabilities for sample 211000 / 345270\n",
      "[t-SNE] Computed conditional probabilities for sample 212000 / 345270\n",
      "[t-SNE] Computed conditional probabilities for sample 213000 / 345270\n",
      "[t-SNE] Computed conditional probabilities for sample 214000 / 345270\n",
      "[t-SNE] Computed conditional probabilities for sample 215000 / 345270\n",
      "[t-SNE] Computed conditional probabilities for sample 216000 / 345270\n",
      "[t-SNE] Computed conditional probabilities for sample 217000 / 345270\n",
      "[t-SNE] Computed conditional probabilities for sample 218000 / 345270\n",
      "[t-SNE] Computed conditional probabilities for sample 219000 / 345270\n",
      "[t-SNE] Computed conditional probabilities for sample 220000 / 345270\n",
      "[t-SNE] Computed conditional probabilities for sample 221000 / 345270\n",
      "[t-SNE] Computed conditional probabilities for sample 222000 / 345270\n",
      "[t-SNE] Computed conditional probabilities for sample 223000 / 345270\n",
      "[t-SNE] Computed conditional probabilities for sample 224000 / 345270\n",
      "[t-SNE] Computed conditional probabilities for sample 225000 / 345270\n",
      "[t-SNE] Computed conditional probabilities for sample 226000 / 345270\n",
      "[t-SNE] Computed conditional probabilities for sample 227000 / 345270\n",
      "[t-SNE] Computed conditional probabilities for sample 228000 / 345270\n",
      "[t-SNE] Computed conditional probabilities for sample 229000 / 345270\n",
      "[t-SNE] Computed conditional probabilities for sample 230000 / 345270\n",
      "[t-SNE] Computed conditional probabilities for sample 231000 / 345270\n",
      "[t-SNE] Computed conditional probabilities for sample 232000 / 345270\n",
      "[t-SNE] Computed conditional probabilities for sample 233000 / 345270\n",
      "[t-SNE] Computed conditional probabilities for sample 234000 / 345270\n",
      "[t-SNE] Computed conditional probabilities for sample 235000 / 345270\n",
      "[t-SNE] Computed conditional probabilities for sample 236000 / 345270\n",
      "[t-SNE] Computed conditional probabilities for sample 237000 / 345270\n",
      "[t-SNE] Computed conditional probabilities for sample 238000 / 345270\n",
      "[t-SNE] Computed conditional probabilities for sample 239000 / 345270\n",
      "[t-SNE] Computed conditional probabilities for sample 240000 / 345270\n",
      "[t-SNE] Computed conditional probabilities for sample 241000 / 345270\n",
      "[t-SNE] Computed conditional probabilities for sample 242000 / 345270\n",
      "[t-SNE] Computed conditional probabilities for sample 243000 / 345270\n",
      "[t-SNE] Computed conditional probabilities for sample 244000 / 345270\n",
      "[t-SNE] Computed conditional probabilities for sample 245000 / 345270\n",
      "[t-SNE] Computed conditional probabilities for sample 246000 / 345270\n",
      "[t-SNE] Computed conditional probabilities for sample 247000 / 345270\n",
      "[t-SNE] Computed conditional probabilities for sample 248000 / 345270\n",
      "[t-SNE] Computed conditional probabilities for sample 249000 / 345270\n",
      "[t-SNE] Computed conditional probabilities for sample 250000 / 345270\n",
      "[t-SNE] Computed conditional probabilities for sample 251000 / 345270\n",
      "[t-SNE] Computed conditional probabilities for sample 252000 / 345270\n",
      "[t-SNE] Computed conditional probabilities for sample 253000 / 345270\n",
      "[t-SNE] Computed conditional probabilities for sample 254000 / 345270\n",
      "[t-SNE] Computed conditional probabilities for sample 255000 / 345270\n",
      "[t-SNE] Computed conditional probabilities for sample 256000 / 345270\n",
      "[t-SNE] Computed conditional probabilities for sample 257000 / 345270\n",
      "[t-SNE] Computed conditional probabilities for sample 258000 / 345270\n",
      "[t-SNE] Computed conditional probabilities for sample 259000 / 345270\n",
      "[t-SNE] Computed conditional probabilities for sample 260000 / 345270\n",
      "[t-SNE] Computed conditional probabilities for sample 261000 / 345270\n",
      "[t-SNE] Computed conditional probabilities for sample 262000 / 345270\n",
      "[t-SNE] Computed conditional probabilities for sample 263000 / 345270\n",
      "[t-SNE] Computed conditional probabilities for sample 264000 / 345270\n",
      "[t-SNE] Computed conditional probabilities for sample 265000 / 345270\n",
      "[t-SNE] Computed conditional probabilities for sample 266000 / 345270\n",
      "[t-SNE] Computed conditional probabilities for sample 267000 / 345270\n",
      "[t-SNE] Computed conditional probabilities for sample 268000 / 345270\n",
      "[t-SNE] Computed conditional probabilities for sample 269000 / 345270\n",
      "[t-SNE] Computed conditional probabilities for sample 270000 / 345270\n",
      "[t-SNE] Computed conditional probabilities for sample 271000 / 345270\n",
      "[t-SNE] Computed conditional probabilities for sample 272000 / 345270\n",
      "[t-SNE] Computed conditional probabilities for sample 273000 / 345270\n",
      "[t-SNE] Computed conditional probabilities for sample 274000 / 345270\n",
      "[t-SNE] Computed conditional probabilities for sample 275000 / 345270\n",
      "[t-SNE] Computed conditional probabilities for sample 276000 / 345270\n",
      "[t-SNE] Computed conditional probabilities for sample 277000 / 345270\n",
      "[t-SNE] Computed conditional probabilities for sample 278000 / 345270\n",
      "[t-SNE] Computed conditional probabilities for sample 279000 / 345270\n",
      "[t-SNE] Computed conditional probabilities for sample 280000 / 345270\n",
      "[t-SNE] Computed conditional probabilities for sample 281000 / 345270\n",
      "[t-SNE] Computed conditional probabilities for sample 282000 / 345270\n",
      "[t-SNE] Computed conditional probabilities for sample 283000 / 345270\n",
      "[t-SNE] Computed conditional probabilities for sample 284000 / 345270\n",
      "[t-SNE] Computed conditional probabilities for sample 285000 / 345270\n",
      "[t-SNE] Computed conditional probabilities for sample 286000 / 345270\n",
      "[t-SNE] Computed conditional probabilities for sample 287000 / 345270\n",
      "[t-SNE] Computed conditional probabilities for sample 288000 / 345270\n",
      "[t-SNE] Computed conditional probabilities for sample 289000 / 345270\n",
      "[t-SNE] Computed conditional probabilities for sample 290000 / 345270\n",
      "[t-SNE] Computed conditional probabilities for sample 291000 / 345270\n",
      "[t-SNE] Computed conditional probabilities for sample 292000 / 345270\n",
      "[t-SNE] Computed conditional probabilities for sample 293000 / 345270\n",
      "[t-SNE] Computed conditional probabilities for sample 294000 / 345270\n",
      "[t-SNE] Computed conditional probabilities for sample 295000 / 345270\n",
      "[t-SNE] Computed conditional probabilities for sample 296000 / 345270\n",
      "[t-SNE] Computed conditional probabilities for sample 297000 / 345270\n",
      "[t-SNE] Computed conditional probabilities for sample 298000 / 345270\n",
      "[t-SNE] Computed conditional probabilities for sample 299000 / 345270\n",
      "[t-SNE] Computed conditional probabilities for sample 300000 / 345270\n",
      "[t-SNE] Computed conditional probabilities for sample 301000 / 345270\n",
      "[t-SNE] Computed conditional probabilities for sample 302000 / 345270\n",
      "[t-SNE] Computed conditional probabilities for sample 303000 / 345270\n",
      "[t-SNE] Computed conditional probabilities for sample 304000 / 345270\n",
      "[t-SNE] Computed conditional probabilities for sample 305000 / 345270\n",
      "[t-SNE] Computed conditional probabilities for sample 306000 / 345270\n",
      "[t-SNE] Computed conditional probabilities for sample 307000 / 345270\n",
      "[t-SNE] Computed conditional probabilities for sample 308000 / 345270\n",
      "[t-SNE] Computed conditional probabilities for sample 309000 / 345270\n",
      "[t-SNE] Computed conditional probabilities for sample 310000 / 345270\n",
      "[t-SNE] Computed conditional probabilities for sample 311000 / 345270\n",
      "[t-SNE] Computed conditional probabilities for sample 312000 / 345270\n",
      "[t-SNE] Computed conditional probabilities for sample 313000 / 345270\n",
      "[t-SNE] Computed conditional probabilities for sample 314000 / 345270\n",
      "[t-SNE] Computed conditional probabilities for sample 315000 / 345270\n",
      "[t-SNE] Computed conditional probabilities for sample 316000 / 345270\n",
      "[t-SNE] Computed conditional probabilities for sample 317000 / 345270\n",
      "[t-SNE] Computed conditional probabilities for sample 318000 / 345270\n",
      "[t-SNE] Computed conditional probabilities for sample 319000 / 345270\n",
      "[t-SNE] Computed conditional probabilities for sample 320000 / 345270\n",
      "[t-SNE] Computed conditional probabilities for sample 321000 / 345270\n",
      "[t-SNE] Computed conditional probabilities for sample 322000 / 345270\n",
      "[t-SNE] Computed conditional probabilities for sample 323000 / 345270\n",
      "[t-SNE] Computed conditional probabilities for sample 324000 / 345270\n",
      "[t-SNE] Computed conditional probabilities for sample 325000 / 345270\n",
      "[t-SNE] Computed conditional probabilities for sample 326000 / 345270\n",
      "[t-SNE] Computed conditional probabilities for sample 327000 / 345270\n",
      "[t-SNE] Computed conditional probabilities for sample 328000 / 345270\n",
      "[t-SNE] Computed conditional probabilities for sample 329000 / 345270\n",
      "[t-SNE] Computed conditional probabilities for sample 330000 / 345270\n",
      "[t-SNE] Computed conditional probabilities for sample 331000 / 345270\n",
      "[t-SNE] Computed conditional probabilities for sample 332000 / 345270\n",
      "[t-SNE] Computed conditional probabilities for sample 333000 / 345270\n",
      "[t-SNE] Computed conditional probabilities for sample 334000 / 345270\n",
      "[t-SNE] Computed conditional probabilities for sample 335000 / 345270\n",
      "[t-SNE] Computed conditional probabilities for sample 336000 / 345270\n",
      "[t-SNE] Computed conditional probabilities for sample 337000 / 345270\n",
      "[t-SNE] Computed conditional probabilities for sample 338000 / 345270\n",
      "[t-SNE] Computed conditional probabilities for sample 339000 / 345270\n",
      "[t-SNE] Computed conditional probabilities for sample 340000 / 345270\n",
      "[t-SNE] Computed conditional probabilities for sample 341000 / 345270\n",
      "[t-SNE] Computed conditional probabilities for sample 342000 / 345270\n",
      "[t-SNE] Computed conditional probabilities for sample 343000 / 345270\n",
      "[t-SNE] Computed conditional probabilities for sample 344000 / 345270\n",
      "[t-SNE] Computed conditional probabilities for sample 345000 / 345270\n",
      "[t-SNE] Computed conditional probabilities for sample 345270 / 345270\n",
      "[t-SNE] Mean sigma: 0.000000\n",
      "[t-SNE] KL divergence after 250 iterations with early exaggeration: 98.416679\n",
      "[t-SNE] KL divergence after 1000 iterations: 3.696463\n",
      "t-SNE done! Time elapsed: 8172.693476438522 seconds\n"
     ]
    }
   ],
   "source": [
    "import time\n",
    "## use t-SNE method to reduce dimension and to visualize data\n",
    "time_start = time.time()\n",
    "tsne = TSNE(n_components=2, verbose=1, perplexity=30, n_iter=1000, learning_rate=200.0)\n",
    "tsne_results = tsne.fit_transform(log_doc_topic)\n",
    "\n",
    "print('t-SNE done! Time elapsed: {} seconds'.format(time.time()-time_start))"
   ]
  },
  {
   "cell_type": "code",
   "execution_count": 114,
   "metadata": {},
   "outputs": [],
   "source": [
    "## import seaborn\n",
    "import seaborn as sns"
   ]
  },
  {
   "cell_type": "code",
   "execution_count": 124,
   "metadata": {},
   "outputs": [
    {
     "data": {
      "image/png": "[encoded data removed]",
      "text/plain": [
       "<Figure size 576x576 with 1 Axes>"
      ]
     },
     "metadata": {
      "needs_background": "light"
     },
     "output_type": "display_data"
    }
   ],
   "source": [
    "fig, axes = plt.subplots(1, 1, figsize=(8, 8))\n",
    "#Z = sch.linkage(ytdist, 'single')\n",
    "dendrogram = sch.dendrogram(sch.linkage(tsne_results[0:2000,:], method='ward'), ax=axes)"
   ]
  },
  {
   "cell_type": "code",
   "execution_count": 125,
   "metadata": {},
   "outputs": [],
   "source": [
    "fig.savefig('dendrogram2000.png', quality=95, bbox_inches='tight')"
   ]
  },
  {
   "cell_type": "code",
   "execution_count": 117,
   "metadata": {
    "scrolled": true
   },
   "outputs": [
    {
     "data": {
      "text/plain": [
       "<matplotlib.axes._subplots.AxesSubplot at 0x7fe829a6e518>"
      ]
     },
     "execution_count": 117,
     "metadata": {},
     "output_type": "execute_result"
    },
    {
     "data": {
      "image/png": "[encoded data removed]",
      "text/plain": [
       "<Figure size 720x720 with 1 Axes>"
      ]
     },
     "metadata": {
      "needs_background": "light"
     },
     "output_type": "display_data"
    }
   ],
   "source": [
    "df_subset=pd.DataFrame()\n",
    "df_subset['tsne-dimension1'] = tsne_results[:,0]\n",
    "df_subset['tsne-dimension2'] = tsne_results[:,1]\n",
    "\n",
    "plt.figure(figsize=(10,10))\n",
    "sns.scatterplot(\n",
    "    x=\"tsne-dimension1\", y=\"tsne-dimension2\",\n",
    "    palette=sns.color_palette(\"hls\", 10),\n",
    "    data=df_subset,\n",
    "    legend=\"full\",\n",
    "    alpha=0.3\n",
    ")"
   ]
  },
  {
   "cell_type": "code",
   "execution_count": null,
   "metadata": {},
   "outputs": [],
   "source": [
    "fig.savefig('quad_kernel.png', quality=95, bbox_inches='tight')"
   ]
  },
  {
   "cell_type": "code",
   "execution_count": 109,
   "metadata": {
    "scrolled": true
   },
   "outputs": [
    {
     "ename": "ValueError",
     "evalue": "Length n of condensed distance matrix 'y' must be a binomial coefficient, i.e.there must be a k such that (k \\choose 2)=n)!",
     "output_type": "error",
     "traceback": [
      "\u001b[0;31m---------------------------------------------------------------------------\u001b[0m",
      "\u001b[0;31mValueError\u001b[0m                                Traceback (most recent call last)",
      "\u001b[0;32m<ipython-input-109-f6cffbb4ff7b>\u001b[0m in \u001b[0;36m<module>\u001b[0;34m\u001b[0m\n\u001b[1;32m      1\u001b[0m \u001b[0mxt\u001b[0m \u001b[0;34m=\u001b[0m \u001b[0mnp\u001b[0m\u001b[0;34m.\u001b[0m\u001b[0mrandom\u001b[0m\u001b[0;34m.\u001b[0m\u001b[0mnormal\u001b[0m\u001b[0;34m(\u001b[0m\u001b[0msize\u001b[0m\u001b[0;34m=\u001b[0m\u001b[0;34m(\u001b[0m\u001b[0;36m100\u001b[0m\u001b[0;34m,\u001b[0m\u001b[0;34m)\u001b[0m\u001b[0;34m)\u001b[0m\u001b[0;34m*\u001b[0m\u001b[0;36m100\u001b[0m\u001b[0;34m\u001b[0m\u001b[0;34m\u001b[0m\u001b[0m\n\u001b[0;32m----> 2\u001b[0;31m \u001b[0mxt1\u001b[0m \u001b[0;34m=\u001b[0m \u001b[0msch\u001b[0m\u001b[0;34m.\u001b[0m\u001b[0mlinkage\u001b[0m\u001b[0;34m(\u001b[0m\u001b[0mxt\u001b[0m\u001b[0;34m,\u001b[0m \u001b[0;34m'single'\u001b[0m\u001b[0;34m)\u001b[0m\u001b[0;34m\u001b[0m\u001b[0;34m\u001b[0m\u001b[0m\n\u001b[0m\u001b[1;32m      3\u001b[0m \u001b[0mplt\u001b[0m\u001b[0;34m.\u001b[0m\u001b[0mfigure\u001b[0m\u001b[0;34m(\u001b[0m\u001b[0;34m)\u001b[0m\u001b[0;34m\u001b[0m\u001b[0;34m\u001b[0m\u001b[0m\n\u001b[1;32m      4\u001b[0m \u001b[0mdn\u001b[0m \u001b[0;34m=\u001b[0m \u001b[0msch\u001b[0m\u001b[0;34m.\u001b[0m\u001b[0mdendrogram\u001b[0m\u001b[0;34m(\u001b[0m\u001b[0mxt1\u001b[0m\u001b[0;34m)\u001b[0m\u001b[0;34m\u001b[0m\u001b[0;34m\u001b[0m\u001b[0m\n",
      "\u001b[0;32m~/.local/lib/python3.7/site-packages/scipy/cluster/hierarchy.py\u001b[0m in \u001b[0;36mlinkage\u001b[0;34m(y, method, metric, optimal_ordering)\u001b[0m\n\u001b[1;32m   1043\u001b[0m \u001b[0;34m\u001b[0m\u001b[0m\n\u001b[1;32m   1044\u001b[0m     \u001b[0;32mif\u001b[0m \u001b[0my\u001b[0m\u001b[0;34m.\u001b[0m\u001b[0mndim\u001b[0m \u001b[0;34m==\u001b[0m \u001b[0;36m1\u001b[0m\u001b[0;34m:\u001b[0m\u001b[0;34m\u001b[0m\u001b[0;34m\u001b[0m\u001b[0m\n\u001b[0;32m-> 1045\u001b[0;31m         \u001b[0mdistance\u001b[0m\u001b[0;34m.\u001b[0m\u001b[0mis_valid_y\u001b[0m\u001b[0;34m(\u001b[0m\u001b[0my\u001b[0m\u001b[0;34m,\u001b[0m \u001b[0mthrow\u001b[0m\u001b[0;34m=\u001b[0m\u001b[0;32mTrue\u001b[0m\u001b[0;34m,\u001b[0m \u001b[0mname\u001b[0m\u001b[0;34m=\u001b[0m\u001b[0;34m'y'\u001b[0m\u001b[0;34m)\u001b[0m\u001b[0;34m\u001b[0m\u001b[0;34m\u001b[0m\u001b[0m\n\u001b[0m\u001b[1;32m   1046\u001b[0m         \u001b[0;34m[\u001b[0m\u001b[0my\u001b[0m\u001b[0;34m]\u001b[0m \u001b[0;34m=\u001b[0m \u001b[0m_copy_arrays_if_base_present\u001b[0m\u001b[0;34m(\u001b[0m\u001b[0;34m[\u001b[0m\u001b[0my\u001b[0m\u001b[0;34m]\u001b[0m\u001b[0;34m)\u001b[0m\u001b[0;34m\u001b[0m\u001b[0;34m\u001b[0m\u001b[0m\n\u001b[1;32m   1047\u001b[0m     \u001b[0;32melif\u001b[0m \u001b[0my\u001b[0m\u001b[0;34m.\u001b[0m\u001b[0mndim\u001b[0m \u001b[0;34m==\u001b[0m \u001b[0;36m2\u001b[0m\u001b[0;34m:\u001b[0m\u001b[0;34m\u001b[0m\u001b[0;34m\u001b[0m\u001b[0m\n",
      "\u001b[0;32m~/.local/lib/python3.7/site-packages/scipy/spatial/distance.py\u001b[0m in \u001b[0;36mis_valid_y\u001b[0;34m(y, warning, throw, name)\u001b[0m\n\u001b[1;32m   2346\u001b[0m                                   \u001b[0;34m'\\'%s\\' must be a binomial coefficient, i.e.'\u001b[0m\u001b[0;34m\u001b[0m\u001b[0;34m\u001b[0m\u001b[0m\n\u001b[1;32m   2347\u001b[0m                                   \u001b[0;34m'there must be a k such that '\u001b[0m\u001b[0;34m\u001b[0m\u001b[0;34m\u001b[0m\u001b[0m\n\u001b[0;32m-> 2348\u001b[0;31m                                   '(k \\\\choose 2)=n)!') % name)\n\u001b[0m\u001b[1;32m   2349\u001b[0m             \u001b[0;32melse\u001b[0m\u001b[0;34m:\u001b[0m\u001b[0;34m\u001b[0m\u001b[0;34m\u001b[0m\u001b[0m\n\u001b[1;32m   2350\u001b[0m                 raise ValueError('Length n of condensed distance matrix must '\n",
      "\u001b[0;31mValueError\u001b[0m: Length n of condensed distance matrix 'y' must be a binomial coefficient, i.e.there must be a k such that (k \\choose 2)=n)!"
     ]
    }
   ],
   "source": [
    "xt = np.random.normal(size=(100,))*100\n",
    "xt1 = sch.linkage(xt, 'single')\n",
    "plt.figure()\n",
    "dn = sch.dendrogram(xt1)"
   ]
  },
  {
   "cell_type": "code",
   "execution_count": 89,
   "metadata": {
    "scrolled": true
   },
   "outputs": [
    {
     "ename": "MemoryError",
     "evalue": "",
     "output_type": "error",
     "traceback": [
      "\u001b[0;31m---------------------------------------------------------------------------\u001b[0m",
      "\u001b[0;31mMemoryError\u001b[0m                               Traceback (most recent call last)",
      "\u001b[0;32m<ipython-input-89-4689cbbe7752>\u001b[0m in \u001b[0;36m<module>\u001b[0;34m\u001b[0m\n\u001b[1;32m      1\u001b[0m \u001b[0;31m# create dendrogram\u001b[0m\u001b[0;34m\u001b[0m\u001b[0;34m\u001b[0m\u001b[0;34m\u001b[0m\u001b[0m\n\u001b[0;32m----> 2\u001b[0;31m \u001b[0mdendrogram\u001b[0m \u001b[0;34m=\u001b[0m \u001b[0msch\u001b[0m\u001b[0;34m.\u001b[0m\u001b[0mdendrogram\u001b[0m\u001b[0;34m(\u001b[0m\u001b[0msch\u001b[0m\u001b[0;34m.\u001b[0m\u001b[0mlinkage\u001b[0m\u001b[0;34m(\u001b[0m\u001b[0mtsne_results\u001b[0m\u001b[0;34m,\u001b[0m \u001b[0mmethod\u001b[0m\u001b[0;34m=\u001b[0m\u001b[0;34m'ward'\u001b[0m\u001b[0;34m)\u001b[0m\u001b[0;34m)\u001b[0m\u001b[0;34m\u001b[0m\u001b[0;34m\u001b[0m\u001b[0m\n\u001b[0m",
      "\u001b[0;32m~/.local/lib/python3.7/site-packages/scipy/cluster/hierarchy.py\u001b[0m in \u001b[0;36mlinkage\u001b[0;34m(y, method, metric, optimal_ordering)\u001b[0m\n\u001b[1;32m   1054\u001b[0m                          \u001b[0;34m'matrix looks suspiciously like an uncondensed '\u001b[0m\u001b[0;34m\u001b[0m\u001b[0;34m\u001b[0m\u001b[0m\n\u001b[1;32m   1055\u001b[0m                          'distance matrix')\n\u001b[0;32m-> 1056\u001b[0;31m         \u001b[0my\u001b[0m \u001b[0;34m=\u001b[0m \u001b[0mdistance\u001b[0m\u001b[0;34m.\u001b[0m\u001b[0mpdist\u001b[0m\u001b[0;34m(\u001b[0m\u001b[0my\u001b[0m\u001b[0;34m,\u001b[0m \u001b[0mmetric\u001b[0m\u001b[0;34m)\u001b[0m\u001b[0;34m\u001b[0m\u001b[0;34m\u001b[0m\u001b[0m\n\u001b[0m\u001b[1;32m   1057\u001b[0m     \u001b[0;32melse\u001b[0m\u001b[0;34m:\u001b[0m\u001b[0;34m\u001b[0m\u001b[0;34m\u001b[0m\u001b[0m\n\u001b[1;32m   1058\u001b[0m         \u001b[0;32mraise\u001b[0m \u001b[0mValueError\u001b[0m\u001b[0;34m(\u001b[0m\u001b[0;34m\"`y` must be 1 or 2 dimensional.\"\u001b[0m\u001b[0;34m)\u001b[0m\u001b[0;34m\u001b[0m\u001b[0;34m\u001b[0m\u001b[0m\n",
      "\u001b[0;32m~/.local/lib/python3.7/site-packages/scipy/spatial/distance.py\u001b[0m in \u001b[0;36mpdist\u001b[0;34m(X, metric, *args, **kwargs)\u001b[0m\n\u001b[1;32m   2002\u001b[0m     \u001b[0mout\u001b[0m \u001b[0;34m=\u001b[0m \u001b[0mkwargs\u001b[0m\u001b[0;34m.\u001b[0m\u001b[0mpop\u001b[0m\u001b[0;34m(\u001b[0m\u001b[0;34m\"out\"\u001b[0m\u001b[0;34m,\u001b[0m \u001b[0;32mNone\u001b[0m\u001b[0;34m)\u001b[0m\u001b[0;34m\u001b[0m\u001b[0;34m\u001b[0m\u001b[0m\n\u001b[1;32m   2003\u001b[0m     \u001b[0;32mif\u001b[0m \u001b[0mout\u001b[0m \u001b[0;32mis\u001b[0m \u001b[0;32mNone\u001b[0m\u001b[0;34m:\u001b[0m\u001b[0;34m\u001b[0m\u001b[0;34m\u001b[0m\u001b[0m\n\u001b[0;32m-> 2004\u001b[0;31m         \u001b[0mdm\u001b[0m \u001b[0;34m=\u001b[0m \u001b[0mnp\u001b[0m\u001b[0;34m.\u001b[0m\u001b[0mempty\u001b[0m\u001b[0;34m(\u001b[0m\u001b[0;34m(\u001b[0m\u001b[0mm\u001b[0m \u001b[0;34m*\u001b[0m \u001b[0;34m(\u001b[0m\u001b[0mm\u001b[0m \u001b[0;34m-\u001b[0m \u001b[0;36m1\u001b[0m\u001b[0;34m)\u001b[0m\u001b[0;34m)\u001b[0m \u001b[0;34m//\u001b[0m \u001b[0;36m2\u001b[0m\u001b[0;34m,\u001b[0m \u001b[0mdtype\u001b[0m\u001b[0;34m=\u001b[0m\u001b[0mnp\u001b[0m\u001b[0;34m.\u001b[0m\u001b[0mdouble\u001b[0m\u001b[0;34m)\u001b[0m\u001b[0;34m\u001b[0m\u001b[0;34m\u001b[0m\u001b[0m\n\u001b[0m\u001b[1;32m   2005\u001b[0m     \u001b[0;32melse\u001b[0m\u001b[0;34m:\u001b[0m\u001b[0;34m\u001b[0m\u001b[0;34m\u001b[0m\u001b[0m\n\u001b[1;32m   2006\u001b[0m         \u001b[0;32mif\u001b[0m \u001b[0mout\u001b[0m\u001b[0;34m.\u001b[0m\u001b[0mshape\u001b[0m \u001b[0;34m!=\u001b[0m \u001b[0;34m(\u001b[0m\u001b[0mm\u001b[0m \u001b[0;34m*\u001b[0m \u001b[0;34m(\u001b[0m\u001b[0mm\u001b[0m \u001b[0;34m-\u001b[0m \u001b[0;36m1\u001b[0m\u001b[0;34m)\u001b[0m \u001b[0;34m//\u001b[0m \u001b[0;36m2\u001b[0m\u001b[0;34m,\u001b[0m\u001b[0;34m)\u001b[0m\u001b[0;34m:\u001b[0m\u001b[0;34m\u001b[0m\u001b[0;34m\u001b[0m\u001b[0m\n",
      "\u001b[0;31mMemoryError\u001b[0m: "
     ]
    }
   ],
   "source": [
    "# create dendrogram\n",
    "dendrogram = sch.dendrogram(sch.linkage(tsne_results, method='ward'))"
   ]
  },
  {
   "cell_type": "markdown",
   "metadata": {},
   "source": [
    "# show topics"
   ]
  },
  {
   "cell_type": "code",
   "execution_count": 1,
   "metadata": {
    "scrolled": true
   },
   "outputs": [
    {
     "name": "stdout",
     "output_type": "stream",
     "text": [
      "Pretty printing has been turned OFF\n"
     ]
    }
   ],
   "source": [
    "pprint(ldamallet.show_topics(formatted=True))"
   ]
  },
  {
   "cell_type": "code",
   "execution_count": 2,
   "metadata": {},
   "outputs": [
    {
     "ename": "NameError",
     "evalue": "name 'pprint' is not defined",
     "output_type": "error",
     "traceback": [
      "\u001b[0;31m---------------------------------------------------------------------------\u001b[0m",
      "\u001b[0;31mNameError\u001b[0m                                 Traceback (most recent call last)",
      "\u001b[0;32m<ipython-input-2-3be558840627>\u001b[0m in \u001b[0;36m<module>\u001b[0;34m\u001b[0m\n\u001b[1;32m      1\u001b[0m \u001b[0;31m# Show Topics\u001b[0m\u001b[0;34m\u001b[0m\u001b[0;34m\u001b[0m\u001b[0m\n\u001b[0;32m----> 2\u001b[0;31m \u001b[0mpprint\u001b[0m\u001b[0;34m(\u001b[0m\u001b[0mldamallet\u001b[0m\u001b[0;34m.\u001b[0m\u001b[0mshow_topics\u001b[0m\u001b[0;34m(\u001b[0m\u001b[0mformatted\u001b[0m\u001b[0;34m=\u001b[0m\u001b[0;32mFalse\u001b[0m\u001b[0;34m)\u001b[0m\u001b[0;34m)\u001b[0m\u001b[0;34m\u001b[0m\u001b[0m\n\u001b[0m\u001b[1;32m      3\u001b[0m \u001b[0;34m\u001b[0m\u001b[0m\n\u001b[1;32m      4\u001b[0m \u001b[0;31m# Compute Coherence Score\u001b[0m\u001b[0;34m\u001b[0m\u001b[0;34m\u001b[0m\u001b[0m\n\u001b[1;32m      5\u001b[0m \u001b[0mcoherence_model_ldamallet\u001b[0m \u001b[0;34m=\u001b[0m \u001b[0mCoherenceModel\u001b[0m\u001b[0;34m(\u001b[0m\u001b[0mmodel\u001b[0m\u001b[0;34m=\u001b[0m\u001b[0mldamallet\u001b[0m\u001b[0;34m,\u001b[0m \u001b[0mtexts\u001b[0m\u001b[0;34m=\u001b[0m\u001b[0mdata_lemmatized\u001b[0m\u001b[0;34m,\u001b[0m \u001b[0mdictionary\u001b[0m\u001b[0;34m=\u001b[0m\u001b[0mid2word\u001b[0m\u001b[0;34m,\u001b[0m \u001b[0mcoherence\u001b[0m\u001b[0;34m=\u001b[0m\u001b[0;34m'c_v'\u001b[0m\u001b[0;34m)\u001b[0m\u001b[0;34m\u001b[0m\u001b[0m\n",
      "\u001b[0;31mNameError\u001b[0m: name 'pprint' is not defined"
     ]
    }
   ],
   "source": [
    "# Show Topics\n",
    "pprint(ldamallet.show_topics(formatted=False))\n",
    "\n",
    "# Compute Coherence Score\n",
    "coherence_model_ldamallet = CoherenceModel(model=ldamallet, texts=data_lemmatized, dictionary=id2word, coherence='c_v')\n",
    "coherence_ldamallet = coherence_model_ldamallet.get_coherence()\n",
    "print('\\nCoherence Score: ', coherence_ldamallet)"
   ]
  },
  {
   "cell_type": "markdown",
   "metadata": {},
   "source": [
    "Just by changing the LDA algorithm and number of topics, the coherence score from .39 to .60. Not bad!"
   ]
  },
  {
   "cell_type": "markdown",
   "metadata": {},
   "source": [
    "## How to find the optimal number of topics for LDA?\n",
    "\n",
    "My approach to finding the optimal number of topics is to build many LDA models with different values of number of topics (k) and pick the one that gives the highest coherence value.\n",
    "\n",
    "Choosing a ‘k’ that marks the end of a rapid growth of topic coherence usually offers meaningful and interpretable topics. Picking an even higher value can sometimes provide more granular sub-topics.\n",
    "\n",
    "If you see the same keywords being repeated in multiple topics, it’s probably a sign that the ‘k’ is too large.\n",
    "\n",
    "The compute_coherence_values() (see below) trains multiple LDA models and provides the models and their corresponding coherence scores."
   ]
  },
  {
   "cell_type": "code",
   "execution_count": 14,
   "metadata": {},
   "outputs": [],
   "source": [
    "def compute_coherence_values(dictionary, corpus, texts, limit, start=2, step=3):\n",
    "    \"\"\"\n",
    "    Compute c_v coherence for various number of topics\n",
    "\n",
    "    Parameters:\n",
    "    ----------\n",
    "    dictionary : Gensim dictionary\n",
    "    corpus : Gensim corpus\n",
    "    texts : List of input texts\n",
    "    limit : Max num of topics\n",
    "\n",
    "    Returns:\n",
    "    -------\n",
    "    model_list : List of LDA topic models\n",
    "    coherence_values : Coherence values corresponding to the LDA model with respective number of topics\n",
    "    \"\"\"\n",
    "    coherence_values = []\n",
    "    model_list = []\n",
    "    for num_topics in range(start, limit, step):\n",
    "        model = gensim.models.wrappers.LdaMallet(mallet_path, corpus=corpus, num_topics=num_topics, id2word=id2word)\n",
    "        model_list.append(model)\n",
    "        coherencemodel = CoherenceModel(model=model, texts=texts, dictionary=dictionary, coherence='c_v')\n",
    "        coherence_values.append(coherencemodel.get_coherence())\n",
    "\n",
    "    return model_list, coherence_values"
   ]
  },
  {
   "cell_type": "code",
   "execution_count": 26,
   "metadata": {
    "scrolled": true
   },
   "outputs": [
    {
     "ename": "CalledProcessError",
     "evalue": "Command 'mallet-2.0.8/bin/mallet import-file --preserve-case --keep-sequence --remove-stopwords --token-regex \"\\S+\" --input C:\\Users\\shiji\\AppData\\Local\\Temp\\100cae_corpus.txt --output C:\\Users\\shiji\\AppData\\Local\\Temp\\100cae_corpus.mallet' returned non-zero exit status 1.",
     "output_type": "error",
     "traceback": [
      "\u001b[1;31m---------------------------------------------------------------------------\u001b[0m",
      "\u001b[1;31mCalledProcessError\u001b[0m                        Traceback (most recent call last)",
      "\u001b[1;32m<ipython-input-26-fd0bf9570124>\u001b[0m in \u001b[0;36m<module>\u001b[1;34m\u001b[0m\n\u001b[0;32m      3\u001b[0m \u001b[0mmallet_path\u001b[0m \u001b[1;33m=\u001b[0m \u001b[1;34m'mallet-2.0.8/bin/mallet'\u001b[0m \u001b[1;31m# update this path\u001b[0m\u001b[1;33m\u001b[0m\u001b[1;33m\u001b[0m\u001b[0m\n\u001b[0;32m      4\u001b[0m \u001b[1;33m\u001b[0m\u001b[0m\n\u001b[1;32m----> 5\u001b[1;33m \u001b[0mmodel_list\u001b[0m\u001b[1;33m,\u001b[0m \u001b[0mcoherence_values\u001b[0m \u001b[1;33m=\u001b[0m \u001b[0mcompute_coherence_values\u001b[0m\u001b[1;33m(\u001b[0m\u001b[0mdictionary\u001b[0m\u001b[1;33m=\u001b[0m\u001b[0mid2word\u001b[0m\u001b[1;33m,\u001b[0m \u001b[0mcorpus\u001b[0m\u001b[1;33m=\u001b[0m\u001b[0mcorpus\u001b[0m\u001b[1;33m,\u001b[0m \u001b[0mtexts\u001b[0m\u001b[1;33m=\u001b[0m\u001b[0mdata_lemmatized\u001b[0m\u001b[1;33m,\u001b[0m \u001b[0mstart\u001b[0m\u001b[1;33m=\u001b[0m\u001b[1;36m6\u001b[0m\u001b[1;33m,\u001b[0m \u001b[0mlimit\u001b[0m\u001b[1;33m=\u001b[0m\u001b[1;36m21\u001b[0m\u001b[1;33m,\u001b[0m \u001b[0mstep\u001b[0m\u001b[1;33m=\u001b[0m\u001b[1;36m2\u001b[0m\u001b[1;33m)\u001b[0m\u001b[1;33m\u001b[0m\u001b[1;33m\u001b[0m\u001b[0m\n\u001b[0m\u001b[0;32m      6\u001b[0m \u001b[0mtime_cost\u001b[0m \u001b[1;33m=\u001b[0m \u001b[0mtime\u001b[0m\u001b[1;33m.\u001b[0m\u001b[0mtime\u001b[0m\u001b[1;33m(\u001b[0m\u001b[1;33m)\u001b[0m\u001b[1;33m-\u001b[0m\u001b[0mstart_time\u001b[0m\u001b[1;33m\u001b[0m\u001b[1;33m\u001b[0m\u001b[0m\n",
      "\u001b[1;32m<ipython-input-14-f6c10e56a163>\u001b[0m in \u001b[0;36mcompute_coherence_values\u001b[1;34m(dictionary, corpus, texts, limit, start, step)\u001b[0m\n\u001b[0;32m     18\u001b[0m     \u001b[0mmodel_list\u001b[0m \u001b[1;33m=\u001b[0m \u001b[1;33m[\u001b[0m\u001b[1;33m]\u001b[0m\u001b[1;33m\u001b[0m\u001b[1;33m\u001b[0m\u001b[0m\n\u001b[0;32m     19\u001b[0m     \u001b[1;32mfor\u001b[0m \u001b[0mnum_topics\u001b[0m \u001b[1;32min\u001b[0m \u001b[0mrange\u001b[0m\u001b[1;33m(\u001b[0m\u001b[0mstart\u001b[0m\u001b[1;33m,\u001b[0m \u001b[0mlimit\u001b[0m\u001b[1;33m,\u001b[0m \u001b[0mstep\u001b[0m\u001b[1;33m)\u001b[0m\u001b[1;33m:\u001b[0m\u001b[1;33m\u001b[0m\u001b[1;33m\u001b[0m\u001b[0m\n\u001b[1;32m---> 20\u001b[1;33m         \u001b[0mmodel\u001b[0m \u001b[1;33m=\u001b[0m \u001b[0mgensim\u001b[0m\u001b[1;33m.\u001b[0m\u001b[0mmodels\u001b[0m\u001b[1;33m.\u001b[0m\u001b[0mwrappers\u001b[0m\u001b[1;33m.\u001b[0m\u001b[0mLdaMallet\u001b[0m\u001b[1;33m(\u001b[0m\u001b[0mmallet_path\u001b[0m\u001b[1;33m,\u001b[0m \u001b[0mcorpus\u001b[0m\u001b[1;33m=\u001b[0m\u001b[0mcorpus\u001b[0m\u001b[1;33m,\u001b[0m \u001b[0mnum_topics\u001b[0m\u001b[1;33m=\u001b[0m\u001b[0mnum_topics\u001b[0m\u001b[1;33m,\u001b[0m \u001b[0mid2word\u001b[0m\u001b[1;33m=\u001b[0m\u001b[0mid2word\u001b[0m\u001b[1;33m)\u001b[0m\u001b[1;33m\u001b[0m\u001b[1;33m\u001b[0m\u001b[0m\n\u001b[0m\u001b[0;32m     21\u001b[0m         \u001b[0mmodel_list\u001b[0m\u001b[1;33m.\u001b[0m\u001b[0mappend\u001b[0m\u001b[1;33m(\u001b[0m\u001b[0mmodel\u001b[0m\u001b[1;33m)\u001b[0m\u001b[1;33m\u001b[0m\u001b[1;33m\u001b[0m\u001b[0m\n\u001b[0;32m     22\u001b[0m         \u001b[0mcoherencemodel\u001b[0m \u001b[1;33m=\u001b[0m \u001b[0mCoherenceModel\u001b[0m\u001b[1;33m(\u001b[0m\u001b[0mmodel\u001b[0m\u001b[1;33m=\u001b[0m\u001b[0mmodel\u001b[0m\u001b[1;33m,\u001b[0m \u001b[0mtexts\u001b[0m\u001b[1;33m=\u001b[0m\u001b[0mtexts\u001b[0m\u001b[1;33m,\u001b[0m \u001b[0mdictionary\u001b[0m\u001b[1;33m=\u001b[0m\u001b[0mdictionary\u001b[0m\u001b[1;33m,\u001b[0m \u001b[0mcoherence\u001b[0m\u001b[1;33m=\u001b[0m\u001b[1;34m'c_v'\u001b[0m\u001b[1;33m)\u001b[0m\u001b[1;33m\u001b[0m\u001b[1;33m\u001b[0m\u001b[0m\n",
      "\u001b[1;32m~\\Anaconda3\\envs\\topic_modeling\\lib\\site-packages\\gensim\\models\\wrappers\\ldamallet.py\u001b[0m in \u001b[0;36m__init__\u001b[1;34m(self, mallet_path, corpus, num_topics, alpha, id2word, workers, prefix, optimize_interval, iterations, topic_threshold, random_seed)\u001b[0m\n\u001b[0;32m    129\u001b[0m         \u001b[0mself\u001b[0m\u001b[1;33m.\u001b[0m\u001b[0mrandom_seed\u001b[0m \u001b[1;33m=\u001b[0m \u001b[0mrandom_seed\u001b[0m\u001b[1;33m\u001b[0m\u001b[1;33m\u001b[0m\u001b[0m\n\u001b[0;32m    130\u001b[0m         \u001b[1;32mif\u001b[0m \u001b[0mcorpus\u001b[0m \u001b[1;32mis\u001b[0m \u001b[1;32mnot\u001b[0m \u001b[1;32mNone\u001b[0m\u001b[1;33m:\u001b[0m\u001b[1;33m\u001b[0m\u001b[1;33m\u001b[0m\u001b[0m\n\u001b[1;32m--> 131\u001b[1;33m             \u001b[0mself\u001b[0m\u001b[1;33m.\u001b[0m\u001b[0mtrain\u001b[0m\u001b[1;33m(\u001b[0m\u001b[0mcorpus\u001b[0m\u001b[1;33m)\u001b[0m\u001b[1;33m\u001b[0m\u001b[1;33m\u001b[0m\u001b[0m\n\u001b[0m\u001b[0;32m    132\u001b[0m \u001b[1;33m\u001b[0m\u001b[0m\n\u001b[0;32m    133\u001b[0m     \u001b[1;32mdef\u001b[0m \u001b[0mfinferencer\u001b[0m\u001b[1;33m(\u001b[0m\u001b[0mself\u001b[0m\u001b[1;33m)\u001b[0m\u001b[1;33m:\u001b[0m\u001b[1;33m\u001b[0m\u001b[1;33m\u001b[0m\u001b[0m\n",
      "\u001b[1;32m~\\Anaconda3\\envs\\topic_modeling\\lib\\site-packages\\gensim\\models\\wrappers\\ldamallet.py\u001b[0m in \u001b[0;36mtrain\u001b[1;34m(self, corpus)\u001b[0m\n\u001b[0;32m    270\u001b[0m \u001b[1;33m\u001b[0m\u001b[0m\n\u001b[0;32m    271\u001b[0m         \"\"\"\n\u001b[1;32m--> 272\u001b[1;33m         \u001b[0mself\u001b[0m\u001b[1;33m.\u001b[0m\u001b[0mconvert_input\u001b[0m\u001b[1;33m(\u001b[0m\u001b[0mcorpus\u001b[0m\u001b[1;33m,\u001b[0m \u001b[0minfer\u001b[0m\u001b[1;33m=\u001b[0m\u001b[1;32mFalse\u001b[0m\u001b[1;33m)\u001b[0m\u001b[1;33m\u001b[0m\u001b[1;33m\u001b[0m\u001b[0m\n\u001b[0m\u001b[0;32m    273\u001b[0m         \u001b[0mcmd\u001b[0m \u001b[1;33m=\u001b[0m \u001b[0mself\u001b[0m\u001b[1;33m.\u001b[0m\u001b[0mmallet_path\u001b[0m \u001b[1;33m+\u001b[0m \u001b[1;34m' train-topics --input %s --num-topics %s  --alpha %s --optimize-interval %s '\u001b[0m\u001b[0;31m\\\u001b[0m\u001b[1;33m\u001b[0m\u001b[1;33m\u001b[0m\u001b[0m\n\u001b[0;32m    274\u001b[0m             \u001b[1;34m'--num-threads %s --output-state %s --output-doc-topics %s --output-topic-keys %s '\u001b[0m\u001b[0;31m\\\u001b[0m\u001b[1;33m\u001b[0m\u001b[1;33m\u001b[0m\u001b[0m\n",
      "\u001b[1;32m~\\Anaconda3\\envs\\topic_modeling\\lib\\site-packages\\gensim\\models\\wrappers\\ldamallet.py\u001b[0m in \u001b[0;36mconvert_input\u001b[1;34m(self, corpus, infer, serialize_corpus)\u001b[0m\n\u001b[0;32m    259\u001b[0m             \u001b[0mcmd\u001b[0m \u001b[1;33m=\u001b[0m \u001b[0mcmd\u001b[0m \u001b[1;33m%\u001b[0m \u001b[1;33m(\u001b[0m\u001b[0mself\u001b[0m\u001b[1;33m.\u001b[0m\u001b[0mfcorpustxt\u001b[0m\u001b[1;33m(\u001b[0m\u001b[1;33m)\u001b[0m\u001b[1;33m,\u001b[0m \u001b[0mself\u001b[0m\u001b[1;33m.\u001b[0m\u001b[0mfcorpusmallet\u001b[0m\u001b[1;33m(\u001b[0m\u001b[1;33m)\u001b[0m\u001b[1;33m)\u001b[0m\u001b[1;33m\u001b[0m\u001b[1;33m\u001b[0m\u001b[0m\n\u001b[0;32m    260\u001b[0m         \u001b[0mlogger\u001b[0m\u001b[1;33m.\u001b[0m\u001b[0minfo\u001b[0m\u001b[1;33m(\u001b[0m\u001b[1;34m\"converting temporary corpus to MALLET format with %s\"\u001b[0m\u001b[1;33m,\u001b[0m \u001b[0mcmd\u001b[0m\u001b[1;33m)\u001b[0m\u001b[1;33m\u001b[0m\u001b[1;33m\u001b[0m\u001b[0m\n\u001b[1;32m--> 261\u001b[1;33m         \u001b[0mcheck_output\u001b[0m\u001b[1;33m(\u001b[0m\u001b[0margs\u001b[0m\u001b[1;33m=\u001b[0m\u001b[0mcmd\u001b[0m\u001b[1;33m,\u001b[0m \u001b[0mshell\u001b[0m\u001b[1;33m=\u001b[0m\u001b[1;32mTrue\u001b[0m\u001b[1;33m)\u001b[0m\u001b[1;33m\u001b[0m\u001b[1;33m\u001b[0m\u001b[0m\n\u001b[0m\u001b[0;32m    262\u001b[0m \u001b[1;33m\u001b[0m\u001b[0m\n\u001b[0;32m    263\u001b[0m     \u001b[1;32mdef\u001b[0m \u001b[0mtrain\u001b[0m\u001b[1;33m(\u001b[0m\u001b[0mself\u001b[0m\u001b[1;33m,\u001b[0m \u001b[0mcorpus\u001b[0m\u001b[1;33m)\u001b[0m\u001b[1;33m:\u001b[0m\u001b[1;33m\u001b[0m\u001b[1;33m\u001b[0m\u001b[0m\n",
      "\u001b[1;32m~\\Anaconda3\\envs\\topic_modeling\\lib\\site-packages\\gensim\\utils.py\u001b[0m in \u001b[0;36mcheck_output\u001b[1;34m(stdout, *popenargs, **kwargs)\u001b[0m\n\u001b[0;32m   1930\u001b[0m             \u001b[0merror\u001b[0m \u001b[1;33m=\u001b[0m \u001b[0msubprocess\u001b[0m\u001b[1;33m.\u001b[0m\u001b[0mCalledProcessError\u001b[0m\u001b[1;33m(\u001b[0m\u001b[0mretcode\u001b[0m\u001b[1;33m,\u001b[0m \u001b[0mcmd\u001b[0m\u001b[1;33m)\u001b[0m\u001b[1;33m\u001b[0m\u001b[1;33m\u001b[0m\u001b[0m\n\u001b[0;32m   1931\u001b[0m             \u001b[0merror\u001b[0m\u001b[1;33m.\u001b[0m\u001b[0moutput\u001b[0m \u001b[1;33m=\u001b[0m \u001b[0moutput\u001b[0m\u001b[1;33m\u001b[0m\u001b[1;33m\u001b[0m\u001b[0m\n\u001b[1;32m-> 1932\u001b[1;33m             \u001b[1;32mraise\u001b[0m \u001b[0merror\u001b[0m\u001b[1;33m\u001b[0m\u001b[1;33m\u001b[0m\u001b[0m\n\u001b[0m\u001b[0;32m   1933\u001b[0m         \u001b[1;32mreturn\u001b[0m \u001b[0moutput\u001b[0m\u001b[1;33m\u001b[0m\u001b[1;33m\u001b[0m\u001b[0m\n\u001b[0;32m   1934\u001b[0m     \u001b[1;32mexcept\u001b[0m \u001b[0mKeyboardInterrupt\u001b[0m\u001b[1;33m:\u001b[0m\u001b[1;33m\u001b[0m\u001b[1;33m\u001b[0m\u001b[0m\n",
      "\u001b[1;31mCalledProcessError\u001b[0m: Command 'mallet-2.0.8/bin/mallet import-file --preserve-case --keep-sequence --remove-stopwords --token-regex \"\\S+\" --input C:\\Users\\shiji\\AppData\\Local\\Temp\\100cae_corpus.txt --output C:\\Users\\shiji\\AppData\\Local\\Temp\\100cae_corpus.mallet' returned non-zero exit status 1."
     ]
    }
   ],
   "source": [
    "start_time = time.time()\n",
    "# Can take a long time to run.\n",
    "mallet_path = 'mallet-2.0.8/bin/mallet' # update this path\n",
    "\n",
    "model_list, coherence_values = compute_coherence_values(dictionary=id2word, corpus=corpus, texts=data_lemmatized, start=6, limit=21, step=2)\n",
    "time_cost = time.time()-start_time"
   ]
  },
  {
   "cell_type": "code",
   "execution_count": 74,
   "metadata": {},
   "outputs": [
    {
     "data": {
      "text/plain": [
       "2966.1473474502563"
      ]
     },
     "execution_count": 74,
     "metadata": {},
     "output_type": "execute_result"
    }
   ],
   "source": [
    "time_cost"
   ]
  },
  {
   "cell_type": "code",
   "execution_count": 75,
   "metadata": {},
   "outputs": [
    {
     "data": {
      "image/png": "[encoded data removed]",
      "text/plain": [
       "<Figure size 432x288 with 1 Axes>"
      ]
     },
     "metadata": {
      "needs_background": "light"
     },
     "output_type": "display_data"
    }
   ],
   "source": [
    "# Show graph\n",
    "start=6; limit=21; step=2;\n",
    "x = range(start, limit, step)\n",
    "plt.plot(x, coherence_values)\n",
    "plt.xlabel(\"Num Topics\")\n",
    "plt.ylabel(\"Coherence score\")\n",
    "plt.legend((\"coherence_values\"), loc='best')\n",
    "plt.show()"
   ]
  },
  {
   "cell_type": "code",
   "execution_count": 76,
   "metadata": {
    "scrolled": true
   },
   "outputs": [
    {
     "name": "stdout",
     "output_type": "stream",
     "text": [
      "Num Topics = 6  has Coherence Value of 0.6495\n",
      "Num Topics = 8  has Coherence Value of 0.637\n",
      "Num Topics = 10  has Coherence Value of 0.6397\n",
      "Num Topics = 12  has Coherence Value of 0.6248\n",
      "Num Topics = 14  has Coherence Value of 0.636\n",
      "Num Topics = 16  has Coherence Value of 0.6391\n",
      "Num Topics = 18  has Coherence Value of 0.6474\n",
      "Num Topics = 20  has Coherence Value of 0.6458\n"
     ]
    }
   ],
   "source": [
    "# Print the coherence scores\n",
    "for m, cv in zip(x, coherence_values):\n",
    "    print(\"Num Topics =\", m, \" has Coherence Value of\", round(cv, 4))"
   ]
  },
  {
   "cell_type": "code",
   "execution_count": 77,
   "metadata": {},
   "outputs": [],
   "source": [
    "optimal_model=model_list[2]"
   ]
  },
  {
   "cell_type": "code",
   "execution_count": 119,
   "metadata": {},
   "outputs": [],
   "source": [
    "optimal_model.save('dec28_lda_model')"
   ]
  },
  {
   "cell_type": "code",
   "execution_count": 133,
   "metadata": {
    "scrolled": true
   },
   "outputs": [
    {
     "data": {
      "text/plain": [
       "[(0, 0.1414141414141414),\n",
       " (1, 0.09090909090909091),\n",
       " (2, 0.09292929292929293),\n",
       " (3, 0.09090909090909091),\n",
       " (4, 0.1292929292929293),\n",
       " (5, 0.09090909090909091),\n",
       " (6, 0.09090909090909091),\n",
       " (7, 0.09090909090909091),\n",
       " (8, 0.09090909090909091),\n",
       " (9, 0.09090909090909091)]"
      ]
     },
     "execution_count": 133,
     "metadata": {},
     "output_type": "execute_result"
    }
   ],
   "source": [
    "## use lda model for prediction\n",
    "optimal_model.__getitem__([(1,1),(2,1),(5,1),(10,2)])"
   ]
  },
  {
   "cell_type": "code",
   "execution_count": 6,
   "metadata": {
    "scrolled": true
   },
   "outputs": [
    {
     "ename": "NameError",
     "evalue": "name 'optimal_model' is not defined",
     "output_type": "error",
     "traceback": [
      "\u001b[0;31m---------------------------------------------------------------------------\u001b[0m",
      "\u001b[0;31mNameError\u001b[0m                                 Traceback (most recent call last)",
      "\u001b[0;32m<ipython-input-6-4558df1707fc>\u001b[0m in \u001b[0;36m<module>\u001b[0;34m\u001b[0m\n\u001b[0;32m----> 1\u001b[0;31m \u001b[0moptimal_model\u001b[0m\u001b[0;34m.\u001b[0m\u001b[0mprint_topics\u001b[0m\u001b[0;34m(\u001b[0m\u001b[0mnum_topics\u001b[0m\u001b[0;34m=\u001b[0m\u001b[0;34m-\u001b[0m\u001b[0;36m1\u001b[0m\u001b[0;34m,\u001b[0m \u001b[0mnum_words\u001b[0m\u001b[0;34m=\u001b[0m\u001b[0;36m20\u001b[0m\u001b[0;34m)\u001b[0m\u001b[0;34m\u001b[0m\u001b[0m\n\u001b[0m",
      "\u001b[0;31mNameError\u001b[0m: name 'optimal_model' is not defined"
     ]
    }
   ],
   "source": [
    "optimal_model.print_topics(num_topics=-1, num_words=20)"
   ]
  },
  {
   "cell_type": "code",
   "execution_count": 112,
   "metadata": {},
   "outputs": [
    {
     "data": {
      "text/plain": [
       "'/tmp/c6fbe9_wordweights.txt'"
      ]
     },
     "execution_count": 112,
     "metadata": {},
     "output_type": "execute_result"
    }
   ],
   "source": [
    "optimal_model.fwordweights()"
   ]
  },
  {
   "cell_type": "code",
   "execution_count": 113,
   "metadata": {},
   "outputs": [
    {
     "ename": "FileNotFoundError",
     "evalue": "[Errno 2] No such file or directory: '/tmp/c6fbe9_wordweights.txt'",
     "output_type": "error",
     "traceback": [
      "\u001b[0;31m---------------------------------------------------------------------------\u001b[0m",
      "\u001b[0;31mFileNotFoundError\u001b[0m                         Traceback (most recent call last)",
      "\u001b[0;32m<ipython-input-113-6d9be5b98cb5>\u001b[0m in \u001b[0;36m<module>\u001b[0;34m\u001b[0m\n\u001b[0;32m----> 1\u001b[0;31m \u001b[0mf1\u001b[0m \u001b[0;34m=\u001b[0m \u001b[0mopen\u001b[0m\u001b[0;34m(\u001b[0m\u001b[0;34m'/tmp/c6fbe9_wordweights.txt'\u001b[0m\u001b[0;34m,\u001b[0m \u001b[0;34m'r'\u001b[0m\u001b[0;34m)\u001b[0m\u001b[0;34m\u001b[0m\u001b[0m\n\u001b[0m\u001b[1;32m      2\u001b[0m \u001b[0mlines\u001b[0m \u001b[0;34m=\u001b[0m \u001b[0mf1\u001b[0m\u001b[0;34m.\u001b[0m\u001b[0mreadlines\u001b[0m\u001b[0;34m(\u001b[0m\u001b[0;34m)\u001b[0m\u001b[0;34m\u001b[0m\u001b[0m\n",
      "\u001b[0;31mFileNotFoundError\u001b[0m: [Errno 2] No such file or directory: '/tmp/c6fbe9_wordweights.txt'"
     ]
    }
   ],
   "source": [
    "f1 = open('/tmp/c6fbe9_wordweights.txt', 'r')\n",
    "lines = f1.readlines()"
   ]
  },
  {
   "cell_type": "markdown",
   "metadata": {},
   "source": [
    "If the coherence score seems to keep increasing, it may make better sense to pick the model that gave the highest CV before flattening out. This is exactly the case here.\n",
    "\n",
    "So for further steps I will choose the model with 20 topics itself."
   ]
  },
  {
   "cell_type": "code",
   "execution_count": 69,
   "metadata": {},
   "outputs": [
    {
     "data": {
      "text/plain": [
       "[<gensim.models.wrappers.ldamallet.LdaMallet at 0x7fce8c7b07f0>,\n",
       " <gensim.models.wrappers.ldamallet.LdaMallet at 0x7fce8c7b0f98>,\n",
       " <gensim.models.wrappers.ldamallet.LdaMallet at 0x7fcdbf92efd0>,\n",
       " <gensim.models.wrappers.ldamallet.LdaMallet at 0x7fce8af5ddd8>,\n",
       " <gensim.models.wrappers.ldamallet.LdaMallet at 0x7fce8c7bb978>,\n",
       " <gensim.models.wrappers.ldamallet.LdaMallet at 0x7fce8c7bb5f8>,\n",
       " <gensim.models.wrappers.ldamallet.LdaMallet at 0x7fce8c7bb240>,\n",
       " <gensim.models.wrappers.ldamallet.LdaMallet at 0x7fcee3ca7b00>,\n",
       " <gensim.models.wrappers.ldamallet.LdaMallet at 0x7fcee6f600b8>]"
      ]
     },
     "execution_count": 69,
     "metadata": {},
     "output_type": "execute_result"
    }
   ],
   "source": [
    "model_list"
   ]
  },
  {
   "cell_type": "code",
   "execution_count": 12,
   "metadata": {},
   "outputs": [],
   "source": [
    "import pickle"
   ]
  },
  {
   "cell_type": "code",
   "execution_count": null,
   "metadata": {},
   "outputs": [],
   "source": [
    "## save model in a .p file: lda model, dataframe, corpus, and id2word mapping\n",
    "pickle.dump((x, model_list, df,data_lemmatized, corpus, id2word), open( \"myChartAug8.p\", \"wb\" ))"
   ]
  },
  {
   "cell_type": "code",
   "execution_count": 13,
   "metadata": {},
   "outputs": [
    {
     "ename": "FileNotFoundError",
     "evalue": "[Errno 2] No such file or directory: 'myChartAug8.p'",
     "output_type": "error",
     "traceback": [
      "\u001b[0;31m---------------------------------------------------------------------------\u001b[0m",
      "\u001b[0;31mFileNotFoundError\u001b[0m                         Traceback (most recent call last)",
      "\u001b[0;32m<ipython-input-13-750d15c8bc5e>\u001b[0m in \u001b[0;36m<module>\u001b[0;34m\u001b[0m\n\u001b[1;32m      1\u001b[0m \u001b[0;31m## pickle load .p file\u001b[0m\u001b[0;34m\u001b[0m\u001b[0;34m\u001b[0m\u001b[0m\n\u001b[0;32m----> 2\u001b[0;31m \u001b[0;34m(\u001b[0m\u001b[0mx\u001b[0m\u001b[0;34m,\u001b[0m \u001b[0mmodel_list\u001b[0m\u001b[0;34m,\u001b[0m \u001b[0mdf\u001b[0m\u001b[0;34m,\u001b[0m\u001b[0mdata_lemmatized\u001b[0m\u001b[0;34m,\u001b[0m \u001b[0mcorpus\u001b[0m\u001b[0;34m,\u001b[0m \u001b[0mid2word\u001b[0m\u001b[0;34m)\u001b[0m \u001b[0;34m=\u001b[0m \u001b[0mpickle\u001b[0m\u001b[0;34m.\u001b[0m\u001b[0mload\u001b[0m\u001b[0;34m(\u001b[0m \u001b[0mopen\u001b[0m\u001b[0;34m(\u001b[0m \u001b[0;34m\"myChartAug8.p\"\u001b[0m\u001b[0;34m,\u001b[0m \u001b[0;34m\"rb\"\u001b[0m \u001b[0;34m)\u001b[0m \u001b[0;34m)\u001b[0m\u001b[0;34m\u001b[0m\u001b[0m\n\u001b[0m",
      "\u001b[0;31mFileNotFoundError\u001b[0m: [Errno 2] No such file or directory: 'myChartAug8.p'"
     ]
    }
   ],
   "source": [
    "## pickle load .p file\n",
    "(x, model_list, df,data_lemmatized, corpus, id2word) = pickle.load( open( \"myChartAug8.p\", \"rb\" ) )"
   ]
  },
  {
   "cell_type": "code",
   "execution_count": 14,
   "metadata": {},
   "outputs": [
    {
     "data": {
      "text/plain": [
       "(345270, 19)"
      ]
     },
     "execution_count": 14,
     "metadata": {},
     "output_type": "execute_result"
    }
   ],
   "source": [
    "df.shape"
   ]
  },
  {
   "cell_type": "code",
   "execution_count": 54,
   "metadata": {},
   "outputs": [
    {
     "data": {
      "text/plain": [
       "<gensim.corpora.dictionary.Dictionary at 0x7f2f19ccc7b8>"
      ]
     },
     "execution_count": 54,
     "metadata": {},
     "output_type": "execute_result"
    }
   ],
   "source": [
    "id2word1"
   ]
  },
  {
   "cell_type": "code",
   "execution_count": 5,
   "metadata": {
    "scrolled": true
   },
   "outputs": [
    {
     "ename": "NameError",
     "evalue": "name 'optimal_model' is not defined",
     "output_type": "error",
     "traceback": [
      "\u001b[0;31m---------------------------------------------------------------------------\u001b[0m",
      "\u001b[0;31mNameError\u001b[0m                                 Traceback (most recent call last)",
      "\u001b[0;32m<ipython-input-5-e5a2cf1ade98>\u001b[0m in \u001b[0;36m<module>\u001b[0;34m\u001b[0m\n\u001b[1;32m      1\u001b[0m \u001b[0;31m# Select the model and print the topics\u001b[0m\u001b[0;34m\u001b[0m\u001b[0;34m\u001b[0m\u001b[0m\n\u001b[0;32m----> 2\u001b[0;31m \u001b[0mmodel_topics\u001b[0m \u001b[0;34m=\u001b[0m \u001b[0moptimal_model\u001b[0m\u001b[0;34m.\u001b[0m\u001b[0mshow_topics\u001b[0m\u001b[0;34m(\u001b[0m\u001b[0mformatted\u001b[0m\u001b[0;34m=\u001b[0m\u001b[0;32mTrue\u001b[0m\u001b[0;34m)\u001b[0m\u001b[0;34m\u001b[0m\u001b[0m\n\u001b[0m\u001b[1;32m      3\u001b[0m \u001b[0mpprint\u001b[0m\u001b[0;34m(\u001b[0m\u001b[0moptimal_model\u001b[0m\u001b[0;34m.\u001b[0m\u001b[0mprint_topics\u001b[0m\u001b[0;34m(\u001b[0m\u001b[0mnum_words\u001b[0m\u001b[0;34m=\u001b[0m\u001b[0;36m20\u001b[0m\u001b[0;34m)\u001b[0m\u001b[0;34m)\u001b[0m\u001b[0;34m\u001b[0m\u001b[0m\n\u001b[1;32m      4\u001b[0m \u001b[0;31m# Those were the topics for the chosen LDA model.\u001b[0m\u001b[0;34m\u001b[0m\u001b[0;34m\u001b[0m\u001b[0m\n",
      "\u001b[0;31mNameError\u001b[0m: name 'optimal_model' is not defined"
     ]
    }
   ],
   "source": [
    "# Select the model and print the topics\n",
    "model_topics = optimal_model.show_topics(formatted=True)\n",
    "pprint(optimal_model.print_topics(num_words=20))\n",
    "# Those were the topics for the chosen LDA model."
   ]
  },
  {
   "cell_type": "code",
   "execution_count": 4,
   "metadata": {
    "scrolled": true
   },
   "outputs": [
    {
     "name": "stdout",
     "output_type": "stream",
     "text": [
      "Pretty printing has been turned ON\n"
     ]
    }
   ],
   "source": [
    "pprint(optimal_model.print_topics(-1, 30))"
   ]
  },
  {
   "cell_type": "code",
   "execution_count": 79,
   "metadata": {},
   "outputs": [],
   "source": [
    "optimal_topics=optimal_model.print_topics(-1, 30)"
   ]
  },
  {
   "cell_type": "code",
   "execution_count": 80,
   "metadata": {},
   "outputs": [],
   "source": [
    "df_optimal_topics=pd.DataFrame(optimal_topics)"
   ]
  },
  {
   "cell_type": "code",
   "execution_count": 81,
   "metadata": {},
   "outputs": [],
   "source": [
    "df_optimal_topics.columns=['Topic_id', 'Keywords']"
   ]
  },
  {
   "cell_type": "code",
   "execution_count": 3,
   "metadata": {},
   "outputs": [
    {
     "ename": "NameError",
     "evalue": "name 'df_optimal_topics' is not defined",
     "output_type": "error",
     "traceback": [
      "\u001b[0;31m---------------------------------------------------------------------------\u001b[0m",
      "\u001b[0;31mNameError\u001b[0m                                 Traceback (most recent call last)",
      "\u001b[0;32m<ipython-input-3-7bd297623e7e>\u001b[0m in \u001b[0;36m<module>\u001b[0;34m\u001b[0m\n\u001b[0;32m----> 1\u001b[0;31m \u001b[0mdf_optimal_topics\u001b[0m\u001b[0;34m\u001b[0m\u001b[0m\n\u001b[0m",
      "\u001b[0;31mNameError\u001b[0m: name 'df_optimal_topics' is not defined"
     ]
    }
   ],
   "source": [
    "df_optimal_topics"
   ]
  },
  {
   "cell_type": "markdown",
   "metadata": {},
   "source": [
    "## Finding the dominant topic in each sentence\n",
    "\n",
    "One of the practical application of topic modeling is to determine what topic a given document is about.\n",
    "\n",
    "To find that, we find the topic number that has the highest percentage contribution in that document.\n",
    "\n",
    "The format_topics_sentences() function below nicely aggregates this information in a presentable table."
   ]
  },
  {
   "cell_type": "code",
   "execution_count": 87,
   "metadata": {
    "scrolled": true
   },
   "outputs": [],
   "source": [
    "def format_topics_sentences(ldamodel, corpus=corpus, texts=data_lemmatized):\n",
    "    # Init output\n",
    "    sent_topics_df = pd.DataFrame()\n",
    "\n",
    "    # Get main topic in each document\n",
    "    for i, row in enumerate(ldamodel[corpus]):\n",
    "        row = sorted(row, key=lambda x: (x[1]), reverse=True)\n",
    "        # Get the Dominant topic, Perc Contribution and Keywords for each document\n",
    "        for j, (topic_num, prop_topic) in enumerate(row):\n",
    "            if j == 0:  # => dominant topic\n",
    "                wp = ldamodel.show_topic(topic_num)\n",
    "                topic_keywords = \", \".join([word for word, prop in wp])\n",
    "                sent_topics_df = sent_topics_df.append(pd.Series([int(topic_num), round(prop_topic,4), topic_keywords]), ignore_index=True)\n",
    "            else:\n",
    "                break\n",
    "    sent_topics_df.columns = ['Dominant_Topic', 'Perc_Contribution', 'Topic_Keywords']\n",
    "\n",
    "    # Add original text to the end of the output\n",
    "    contents = pd.Series(texts)\n",
    "    sent_topics_df = pd.concat([sent_topics_df, contents], axis=1)\n",
    "    return(sent_topics_df)\n",
    "\n"
   ]
  },
  {
   "cell_type": "code",
   "execution_count": 23,
   "metadata": {
    "scrolled": true
   },
   "outputs": [
    {
     "ename": "NameError",
     "evalue": "name 'format_topics_sentences' is not defined",
     "output_type": "error",
     "traceback": [
      "\u001b[0;31m---------------------------------------------------------------------------\u001b[0m",
      "\u001b[0;31mNameError\u001b[0m                                 Traceback (most recent call last)",
      "\u001b[0;32m<ipython-input-23-ee300cfc8d39>\u001b[0m in \u001b[0;36m<module>\u001b[0;34m\u001b[0m\n\u001b[0;32m----> 1\u001b[0;31m \u001b[0mdf_topic_sents_keywords\u001b[0m \u001b[0;34m=\u001b[0m \u001b[0mformat_topics_sentences\u001b[0m\u001b[0;34m(\u001b[0m\u001b[0mldamodel\u001b[0m\u001b[0;34m=\u001b[0m\u001b[0moptimal_model\u001b[0m\u001b[0;34m,\u001b[0m \u001b[0mcorpus\u001b[0m\u001b[0;34m=\u001b[0m\u001b[0mcorpus\u001b[0m\u001b[0;34m,\u001b[0m \u001b[0mtexts\u001b[0m\u001b[0;34m=\u001b[0m\u001b[0mdf\u001b[0m\u001b[0;34m.\u001b[0m\u001b[0mClean_Message\u001b[0m\u001b[0;34m.\u001b[0m\u001b[0mto_list\u001b[0m\u001b[0;34m(\u001b[0m\u001b[0;34m)\u001b[0m\u001b[0;34m)\u001b[0m\u001b[0;34m\u001b[0m\u001b[0m\n\u001b[0m\u001b[1;32m      2\u001b[0m \u001b[0;34m\u001b[0m\u001b[0m\n\u001b[1;32m      3\u001b[0m \u001b[0;31m# Format\u001b[0m\u001b[0;34m\u001b[0m\u001b[0;34m\u001b[0m\u001b[0m\n\u001b[1;32m      4\u001b[0m \u001b[0mdf_dominant_topic\u001b[0m \u001b[0;34m=\u001b[0m \u001b[0mdf_topic_sents_keywords\u001b[0m\u001b[0;34m.\u001b[0m\u001b[0mreset_index\u001b[0m\u001b[0;34m(\u001b[0m\u001b[0;34m)\u001b[0m\u001b[0;34m\u001b[0m\u001b[0m\n\u001b[1;32m      5\u001b[0m \u001b[0mdf_dominant_topic\u001b[0m\u001b[0;34m.\u001b[0m\u001b[0mcolumns\u001b[0m \u001b[0;34m=\u001b[0m \u001b[0;34m[\u001b[0m\u001b[0;34m'Document_No'\u001b[0m\u001b[0;34m,\u001b[0m \u001b[0;34m'Dominant_Topic'\u001b[0m\u001b[0;34m,\u001b[0m \u001b[0;34m'Topic_Perc_Contrib'\u001b[0m\u001b[0;34m,\u001b[0m \u001b[0;34m'Keywords'\u001b[0m\u001b[0;34m,\u001b[0m \u001b[0;34m'Text'\u001b[0m\u001b[0;34m]\u001b[0m\u001b[0;34m\u001b[0m\u001b[0m\n",
      "\u001b[0;31mNameError\u001b[0m: name 'format_topics_sentences' is not defined"
     ]
    }
   ],
   "source": [
    "\n",
    "df_topic_sents_keywords = format_topics_sentences(ldamodel=optimal_model, corpus=corpus, texts=df.Clean_Message.to_list())\n",
    "\n",
    "# Format\n",
    "df_dominant_topic = df_topic_sents_keywords.reset_index()\n",
    "df_dominant_topic.columns = ['Document_No', 'Dominant_Topic', 'Topic_Perc_Contrib', 'Keywords', 'Text']\n",
    "\n",
    "# Show\n",
    "df_dominant_topic.head(20)"
   ]
  },
  {
   "cell_type": "markdown",
   "metadata": {},
   "source": [
    "## Find the most representative document for each topic\n",
    "\n",
    "Sometimes just the topic keywords may not be enough to make sense of what a topic is about. So, to help with understanding the topic, you can find the documents a given topic has contributed to the most and infer the topic by reading that document. Whew!!"
   ]
  },
  {
   "cell_type": "code",
   "execution_count": 24,
   "metadata": {},
   "outputs": [
    {
     "ename": "NameError",
     "evalue": "name 'pd' is not defined",
     "output_type": "error",
     "traceback": [
      "\u001b[0;31m---------------------------------------------------------------------------\u001b[0m",
      "\u001b[0;31mNameError\u001b[0m                                 Traceback (most recent call last)",
      "\u001b[0;32m<ipython-input-24-75b0919ff8bd>\u001b[0m in \u001b[0;36m<module>\u001b[0;34m\u001b[0m\n\u001b[1;32m      1\u001b[0m \u001b[0;31m# Group top 5 sentences under each topic\u001b[0m\u001b[0;34m\u001b[0m\u001b[0;34m\u001b[0m\u001b[0m\n\u001b[0;32m----> 2\u001b[0;31m \u001b[0msent_topics_sorteddf_mallet\u001b[0m \u001b[0;34m=\u001b[0m \u001b[0mpd\u001b[0m\u001b[0;34m.\u001b[0m\u001b[0mDataFrame\u001b[0m\u001b[0;34m(\u001b[0m\u001b[0;34m)\u001b[0m\u001b[0;34m\u001b[0m\u001b[0m\n\u001b[0m\u001b[1;32m      3\u001b[0m \u001b[0;34m\u001b[0m\u001b[0m\n\u001b[1;32m      4\u001b[0m \u001b[0msent_topics_outdf_grpd\u001b[0m \u001b[0;34m=\u001b[0m \u001b[0mdf_topic_sents_keywords\u001b[0m\u001b[0;34m.\u001b[0m\u001b[0mgroupby\u001b[0m\u001b[0;34m(\u001b[0m\u001b[0;34m'Dominant_Topic'\u001b[0m\u001b[0;34m)\u001b[0m\u001b[0;34m\u001b[0m\u001b[0m\n\u001b[1;32m      5\u001b[0m \u001b[0;34m\u001b[0m\u001b[0m\n",
      "\u001b[0;31mNameError\u001b[0m: name 'pd' is not defined"
     ]
    }
   ],
   "source": [
    "# Group top 5 sentences under each topic\n",
    "sent_topics_sorteddf_mallet = pd.DataFrame()\n",
    "\n",
    "sent_topics_outdf_grpd = df_topic_sents_keywords.groupby('Dominant_Topic')\n",
    "\n",
    "for i, grp in sent_topics_outdf_grpd:\n",
    "    sent_topics_sorteddf_mallet = pd.concat([sent_topics_sorteddf_mallet, \n",
    "                                             grp.sort_values(['Perc_Contribution'], ascending=[0]).head(5)], \n",
    "                                            axis=0)\n",
    "\n",
    "# Reset Index    \n",
    "sent_topics_sorteddf_mallet.reset_index(drop=True, inplace=True)\n",
    "\n",
    "# Format\n",
    "sent_topics_sorteddf_mallet.columns = ['Topic_Num', \"Topic_Perc_Contrib\", \"Keywords\", \"Text\"]\n",
    "\n",
    "# show\n",
    "sent_topics_sorteddf_mallet.head()"
   ]
  },
  {
   "cell_type": "code",
   "execution_count": 90,
   "metadata": {},
   "outputs": [],
   "source": [
    "## topics and their typical examples\n",
    "with pd.ExcelWriter('topic_typical_examples.xlsx') as writer: \n",
    "    df_optimal_topics.to_excel(writer, sheet_name='topics', index=False)\n",
    "    sent_topics_sorteddf_mallet.to_excel(writer, sheet_name='typical examples', index=False)\n",
    "writer.close()"
   ]
  },
  {
   "cell_type": "code",
   "execution_count": 25,
   "metadata": {},
   "outputs": [
    {
     "ename": "NameError",
     "evalue": "name 'sent_topics_sorteddf_mallet' is not defined",
     "output_type": "error",
     "traceback": [
      "\u001b[0;31m---------------------------------------------------------------------------\u001b[0m",
      "\u001b[0;31mNameError\u001b[0m                                 Traceback (most recent call last)",
      "\u001b[0;32m<ipython-input-25-b1b6a57ed355>\u001b[0m in \u001b[0;36m<module>\u001b[0;34m\u001b[0m\n\u001b[0;32m----> 1\u001b[0;31m \u001b[0msent_topics_sorteddf_mallet\u001b[0m\u001b[0;34m.\u001b[0m\u001b[0mrename\u001b[0m\u001b[0;34m(\u001b[0m\u001b[0mcolumns\u001b[0m\u001b[0;34m=\u001b[0m\u001b[0;34m{\u001b[0m\u001b[0;34m'Topic_Num'\u001b[0m\u001b[0;34m:\u001b[0m\u001b[0;34m'Topic_id'\u001b[0m\u001b[0;34m}\u001b[0m\u001b[0;34m)\u001b[0m\u001b[0;34m\u001b[0m\u001b[0m\n\u001b[0m",
      "\u001b[0;31mNameError\u001b[0m: name 'sent_topics_sorteddf_mallet' is not defined"
     ]
    }
   ],
   "source": [
    "sent_topics_sorteddf_mallet.rename(columns={'Topic_Num':'Topic_id'})"
   ]
  },
  {
   "cell_type": "code",
   "execution_count": 26,
   "metadata": {
    "scrolled": true
   },
   "outputs": [
    {
     "ename": "NameError",
     "evalue": "name 'sent_topics_sorteddf_mallet' is not defined",
     "output_type": "error",
     "traceback": [
      "\u001b[0;31m---------------------------------------------------------------------------\u001b[0m",
      "\u001b[0;31mNameError\u001b[0m                                 Traceback (most recent call last)",
      "\u001b[0;32m<ipython-input-26-0588764d76e0>\u001b[0m in \u001b[0;36m<module>\u001b[0;34m\u001b[0m\n\u001b[0;32m----> 1\u001b[0;31m \u001b[0mdf_sent\u001b[0m\u001b[0;34m=\u001b[0m\u001b[0msent_topics_sorteddf_mallet\u001b[0m\u001b[0;34m\u001b[0m\u001b[0m\n\u001b[0m\u001b[1;32m      2\u001b[0m \u001b[0mdf_sent\u001b[0m\u001b[0;34m[\u001b[0m\u001b[0mdf_sent\u001b[0m\u001b[0;34m.\u001b[0m\u001b[0mTopic_Num\u001b[0m\u001b[0;34m==\u001b[0m\u001b[0;36m0.0\u001b[0m\u001b[0;34m]\u001b[0m\u001b[0;34m.\u001b[0m\u001b[0mText\u001b[0m\u001b[0;34m.\u001b[0m\u001b[0mto_list\u001b[0m\u001b[0;34m(\u001b[0m\u001b[0;34m)\u001b[0m\u001b[0;34m\u001b[0m\u001b[0m\n",
      "\u001b[0;31mNameError\u001b[0m: name 'sent_topics_sorteddf_mallet' is not defined"
     ]
    }
   ],
   "source": [
    "df_sent=sent_topics_sorteddf_mallet\n",
    "df_sent[df_sent.Topic_Num==0.0].Text.to_list()"
   ]
  },
  {
   "cell_type": "code",
   "execution_count": 27,
   "metadata": {
    "scrolled": true
   },
   "outputs": [
    {
     "ename": "NameError",
     "evalue": "name 'df_sent' is not defined",
     "output_type": "error",
     "traceback": [
      "\u001b[0;31m---------------------------------------------------------------------------\u001b[0m",
      "\u001b[0;31mNameError\u001b[0m                                 Traceback (most recent call last)",
      "\u001b[0;32m<ipython-input-27-66dd209adeba>\u001b[0m in \u001b[0;36m<module>\u001b[0;34m\u001b[0m\n\u001b[1;32m      2\u001b[0m \u001b[0;32mfor\u001b[0m \u001b[0mi\u001b[0m \u001b[0;32min\u001b[0m \u001b[0mrange\u001b[0m\u001b[0;34m(\u001b[0m\u001b[0;36m6\u001b[0m\u001b[0;34m)\u001b[0m\u001b[0;34m:\u001b[0m\u001b[0;34m\u001b[0m\u001b[0m\n\u001b[1;32m      3\u001b[0m     \u001b[0;32mfor\u001b[0m \u001b[0mrep\u001b[0m \u001b[0;32min\u001b[0m \u001b[0mrange\u001b[0m\u001b[0;34m(\u001b[0m\u001b[0;36m0\u001b[0m\u001b[0;34m,\u001b[0m\u001b[0;36m5\u001b[0m\u001b[0;34m)\u001b[0m\u001b[0;34m:\u001b[0m\u001b[0;34m\u001b[0m\u001b[0m\n\u001b[0;32m----> 4\u001b[0;31m         \u001b[0mprint\u001b[0m\u001b[0;34m(\u001b[0m\u001b[0;34m'Topic '\u001b[0m\u001b[0;34m+\u001b[0m\u001b[0mstr\u001b[0m\u001b[0;34m(\u001b[0m\u001b[0mi\u001b[0m\u001b[0;34m)\u001b[0m\u001b[0;34m+\u001b[0m\u001b[0;34m'  Example '\u001b[0m\u001b[0;34m+\u001b[0m\u001b[0mstr\u001b[0m\u001b[0;34m(\u001b[0m\u001b[0mrep\u001b[0m\u001b[0;34m)\u001b[0m\u001b[0;34m+\u001b[0m\u001b[0;34m' ---->  '\u001b[0m \u001b[0;34m+\u001b[0m\u001b[0mdf_sent\u001b[0m\u001b[0;34m.\u001b[0m\u001b[0mText\u001b[0m\u001b[0;34m.\u001b[0m\u001b[0mto_list\u001b[0m\u001b[0;34m(\u001b[0m\u001b[0;34m)\u001b[0m\u001b[0;34m[\u001b[0m\u001b[0;34m(\u001b[0m\u001b[0;36m5\u001b[0m\u001b[0;34m*\u001b[0m\u001b[0mi\u001b[0m\u001b[0;34m+\u001b[0m\u001b[0mrep\u001b[0m\u001b[0;34m)\u001b[0m\u001b[0;34m]\u001b[0m\u001b[0;34m)\u001b[0m\u001b[0;34m\u001b[0m\u001b[0m\n\u001b[0m\u001b[1;32m      5\u001b[0m         \u001b[0mprint\u001b[0m\u001b[0;34m(\u001b[0m\u001b[0;34m''\u001b[0m\u001b[0;34m)\u001b[0m\u001b[0;34m\u001b[0m\u001b[0m\n",
      "\u001b[0;31mNameError\u001b[0m: name 'df_sent' is not defined"
     ]
    }
   ],
   "source": [
    "## print 5 examples for each topic\n",
    "for i in range(6):\n",
    "    for rep in range(0,5):\n",
    "        print('Topic '+str(i)+'  Example '+str(rep)+' ---->  ' +df_sent.Text.to_list()[(5*i+rep)])\n",
    "        print('')"
   ]
  },
  {
   "cell_type": "markdown",
   "metadata": {},
   "source": [
    "The tabular output above actually has 20 rows, one each for a topic. It has the topic number, the keywords, and the most representative document. The Perc_Contribution column is nothing but the percentage contribution of the topic in the given document."
   ]
  },
  {
   "cell_type": "markdown",
   "metadata": {},
   "source": [
    "## Topic distribution across documents\n",
    "\n",
    "Finally, we want to understand the volume and distribution of topics in order to judge how widely it was discussed. The below table exposes that information."
   ]
  },
  {
   "cell_type": "code",
   "execution_count": 28,
   "metadata": {
    "scrolled": true
   },
   "outputs": [
    {
     "ename": "NameError",
     "evalue": "name 'df_topic_sents_keywords' is not defined",
     "output_type": "error",
     "traceback": [
      "\u001b[0;31m---------------------------------------------------------------------------\u001b[0m",
      "\u001b[0;31mNameError\u001b[0m                                 Traceback (most recent call last)",
      "\u001b[0;32m<ipython-input-28-7a4e550c3412>\u001b[0m in \u001b[0;36m<module>\u001b[0;34m\u001b[0m\n\u001b[1;32m      1\u001b[0m \u001b[0;31m# Number of Documents for Each Topic\u001b[0m\u001b[0;34m\u001b[0m\u001b[0;34m\u001b[0m\u001b[0m\n\u001b[0;32m----> 2\u001b[0;31m \u001b[0mtopic_counts\u001b[0m \u001b[0;34m=\u001b[0m \u001b[0mdf_topic_sents_keywords\u001b[0m\u001b[0;34m[\u001b[0m\u001b[0;34m'Dominant_Topic'\u001b[0m\u001b[0;34m]\u001b[0m\u001b[0;34m.\u001b[0m\u001b[0mvalue_counts\u001b[0m\u001b[0;34m(\u001b[0m\u001b[0;34m)\u001b[0m\u001b[0;34m\u001b[0m\u001b[0m\n\u001b[0m\u001b[1;32m      3\u001b[0m \u001b[0;34m\u001b[0m\u001b[0m\n\u001b[1;32m      4\u001b[0m \u001b[0;31m# Percentage of Documents for Each Topic\u001b[0m\u001b[0;34m\u001b[0m\u001b[0;34m\u001b[0m\u001b[0m\n\u001b[1;32m      5\u001b[0m \u001b[0mtopic_contribution\u001b[0m \u001b[0;34m=\u001b[0m \u001b[0mround\u001b[0m\u001b[0;34m(\u001b[0m\u001b[0mtopic_counts\u001b[0m\u001b[0;34m/\u001b[0m\u001b[0mtopic_counts\u001b[0m\u001b[0;34m.\u001b[0m\u001b[0msum\u001b[0m\u001b[0;34m(\u001b[0m\u001b[0;34m)\u001b[0m\u001b[0;34m,\u001b[0m \u001b[0;36m4\u001b[0m\u001b[0;34m)\u001b[0m\u001b[0;34m\u001b[0m\u001b[0m\n",
      "\u001b[0;31mNameError\u001b[0m: name 'df_topic_sents_keywords' is not defined"
     ]
    }
   ],
   "source": [
    "# Number of Documents for Each Topic\n",
    "topic_counts = df_topic_sents_keywords['Dominant_Topic'].value_counts()\n",
    "\n",
    "# Percentage of Documents for Each Topic\n",
    "topic_contribution = round(topic_counts/topic_counts.sum(), 4)\n",
    "\n",
    "# Topic Number and Keywords\n",
    "topic_num_keywords = df_topic_sents_keywords[['Dominant_Topic', 'Topic_Keywords']]\n",
    "\n",
    "# Concatenate Column wise\n",
    "df_dominant_topics = pd.concat([topic_num_keywords, topic_counts, topic_contribution], axis=1)\n",
    "\n",
    "# Change Column names\n",
    "df_dominant_topics.columns = ['Dominant_Topic', 'Topic_Keywords', 'Num_Documents', 'Perc_Documents']\n",
    "\n",
    "# Show\n",
    "df_dominant_topics"
   ]
  },
  {
   "cell_type": "code",
   "execution_count": 335,
   "metadata": {},
   "outputs": [
    {
     "data": {
      "text/plain": [
       "75138"
      ]
     },
     "execution_count": 335,
     "metadata": {},
     "output_type": "execute_result"
    }
   ],
   "source": [
    "len(data)"
   ]
  },
  {
   "cell_type": "code",
   "execution_count": 29,
   "metadata": {},
   "outputs": [
    {
     "ename": "NameError",
     "evalue": "name 'df_dominant_topics' is not defined",
     "output_type": "error",
     "traceback": [
      "\u001b[0;31m---------------------------------------------------------------------------\u001b[0m",
      "\u001b[0;31mNameError\u001b[0m                                 Traceback (most recent call last)",
      "\u001b[0;32m<ipython-input-29-9681a394cba5>\u001b[0m in \u001b[0;36m<module>\u001b[0;34m\u001b[0m\n\u001b[1;32m      1\u001b[0m \u001b[0mI\u001b[0m \u001b[0;34m=\u001b[0m \u001b[0;36m0\u001b[0m\u001b[0;34m\u001b[0m\u001b[0m\n\u001b[0;32m----> 2\u001b[0;31m \u001b[0mprint\u001b[0m\u001b[0;34m(\u001b[0m\u001b[0mdf_dominant_topics\u001b[0m\u001b[0;34m.\u001b[0m\u001b[0mloc\u001b[0m\u001b[0;34m[\u001b[0m\u001b[0mi\u001b[0m\u001b[0;34m,\u001b[0m \u001b[0;34m'Topic_Keywords'\u001b[0m\u001b[0;34m]\u001b[0m\u001b[0;34m)\u001b[0m\u001b[0;34m\u001b[0m\u001b[0m\n\u001b[0m\u001b[1;32m      3\u001b[0m \u001b[0mprint\u001b[0m\u001b[0;34m(\u001b[0m\u001b[0mdf\u001b[0m\u001b[0;34m.\u001b[0m\u001b[0mloc\u001b[0m\u001b[0;34m[\u001b[0m\u001b[0mi\u001b[0m\u001b[0;34m,\u001b[0m \u001b[0;34m'MESSAGE_TEXT'\u001b[0m\u001b[0;34m]\u001b[0m\u001b[0;34m)\u001b[0m\u001b[0;34m\u001b[0m\u001b[0m\n",
      "\u001b[0;31mNameError\u001b[0m: name 'df_dominant_topics' is not defined"
     ]
    }
   ],
   "source": [
    "I = 0\n",
    "print(df_dominant_topics.loc[i, 'Topic_Keywords'])\n",
    "print(df.loc[i, 'MESSAGE_TEXT'])"
   ]
  },
  {
   "cell_type": "code",
   "execution_count": 297,
   "metadata": {},
   "outputs": [
    {
     "data": {
      "text/plain": [
       "Index(['DEPARTMENT_NAME', 'ENCOUNTER_DATE', 'ENCOUNTER_ID', 'ENCOUNTER_TYPE',\n",
       "       'FINANCIAL_CLASS', 'MESSAGE_DATE', 'MESSAGE_ID', 'MESSAGE_TEXT',\n",
       "       'MESSAGE_TO_FROM_PATIENT', 'MESSAGE_TO_FROM_PROVIDER', 'MESSAGE_TYPE',\n",
       "       'MRN', 'PAT_ID', 'PAT_NAME', 'PROVIDER_TYPE'],\n",
       "      dtype='object')"
      ]
     },
     "execution_count": 297,
     "metadata": {},
     "output_type": "execute_result"
    }
   ],
   "source": [
    "df.columns"
   ]
  },
  {
   "cell_type": "code",
   "execution_count": 336,
   "metadata": {},
   "outputs": [],
   "source": [
    "aug_df = df.merge(df_dominant_topic, left_on='MESSAGE_TEXT', right_on='Text')"
   ]
  },
  {
   "cell_type": "code",
   "execution_count": 337,
   "metadata": {},
   "outputs": [
    {
     "data": {
      "text/plain": [
       "Index(['DEPARTMENT_NAME', 'ENCOUNTER_DATE', 'ENCOUNTER_ID', 'ENCOUNTER_TYPE',\n",
       "       'FINANCIAL_CLASS', 'MESSAGE_DATE', 'MESSAGE_ID', 'MESSAGE_TEXT',\n",
       "       'MESSAGE_TO_FROM_PATIENT', 'MESSAGE_TO_FROM_PROVIDER', 'MESSAGE_TYPE',\n",
       "       'MRN', 'PAT_ID', 'PAT_NAME', 'PROVIDER_TYPE', 'Document_No',\n",
       "       'Dominant_Topic', 'Topic_Perc_Contrib', 'Keywords', 'Text'],\n",
       "      dtype='object')"
      ]
     },
     "execution_count": 337,
     "metadata": {},
     "output_type": "execute_result"
    }
   ],
   "source": [
    "aug_df.columns"
   ]
  },
  {
   "cell_type": "code",
   "execution_count": 338,
   "metadata": {},
   "outputs": [
    {
     "name": "stdout",
     "output_type": "stream",
     "text": [
      "df shape: (75138, 15)\n",
      "df_topics shape: (75138, 5)\n",
      "augmented shape: (75460, 20)\n"
     ]
    }
   ],
   "source": [
    "print('df shape:', df.shape)\n",
    "print('df_topics shape:', df_dominant_topic.shape)\n",
    "print('augmented shape:',aug_df.shape)"
   ]
  },
  {
   "cell_type": "code",
   "execution_count": 339,
   "metadata": {},
   "outputs": [],
   "source": [
    "## group by 'dominant_topic' then count MRN\n",
    "count_summary = aug_df[['MRN', 'Dominant_Topic']].groupby(['Dominant_Topic']).agg(['count','nunique'])"
   ]
  },
  {
   "cell_type": "code",
   "execution_count": 340,
   "metadata": {},
   "outputs": [],
   "source": [
    "count_summary.columns=['Number_of_Texts', 'Number_of_MRNs']"
   ]
  },
  {
   "cell_type": "code",
   "execution_count": 341,
   "metadata": {},
   "outputs": [
    {
     "data": {
      "text/html": [
       "<div>\n",
       "<style scoped>\n",
       "    .dataframe tbody tr th:only-of-type {\n",
       "        vertical-align: middle;\n",
       "    }\n",
       "\n",
       "    .dataframe tbody tr th {\n",
       "        vertical-align: top;\n",
       "    }\n",
       "\n",
       "    .dataframe thead th {\n",
       "        text-align: right;\n",
       "    }\n",
       "</style>\n",
       "<table border=\"1\" class=\"dataframe\">\n",
       "  <thead>\n",
       "    <tr style=\"text-align: right;\">\n",
       "      <th></th>\n",
       "      <th>Number_of_Texts</th>\n",
       "      <th>Number_of_MRNs</th>\n",
       "    </tr>\n",
       "    <tr>\n",
       "      <th>Dominant_Topic</th>\n",
       "      <th></th>\n",
       "      <th></th>\n",
       "    </tr>\n",
       "  </thead>\n",
       "  <tbody>\n",
       "    <tr>\n",
       "      <th>0.0</th>\n",
       "      <td>11923</td>\n",
       "      <td>2638</td>\n",
       "    </tr>\n",
       "    <tr>\n",
       "      <th>1.0</th>\n",
       "      <td>6376</td>\n",
       "      <td>2300</td>\n",
       "    </tr>\n",
       "    <tr>\n",
       "      <th>2.0</th>\n",
       "      <td>5278</td>\n",
       "      <td>2155</td>\n",
       "    </tr>\n",
       "    <tr>\n",
       "      <th>3.0</th>\n",
       "      <td>10362</td>\n",
       "      <td>2884</td>\n",
       "    </tr>\n",
       "    <tr>\n",
       "      <th>4.0</th>\n",
       "      <td>5721</td>\n",
       "      <td>1861</td>\n",
       "    </tr>\n",
       "    <tr>\n",
       "      <th>5.0</th>\n",
       "      <td>5411</td>\n",
       "      <td>1086</td>\n",
       "    </tr>\n",
       "    <tr>\n",
       "      <th>6.0</th>\n",
       "      <td>5922</td>\n",
       "      <td>1440</td>\n",
       "    </tr>\n",
       "    <tr>\n",
       "      <th>7.0</th>\n",
       "      <td>6612</td>\n",
       "      <td>1642</td>\n",
       "    </tr>\n",
       "    <tr>\n",
       "      <th>8.0</th>\n",
       "      <td>9502</td>\n",
       "      <td>2092</td>\n",
       "    </tr>\n",
       "    <tr>\n",
       "      <th>9.0</th>\n",
       "      <td>8353</td>\n",
       "      <td>2366</td>\n",
       "    </tr>\n",
       "  </tbody>\n",
       "</table>\n",
       "</div>"
      ],
      "text/plain": [
       "                Number_of_Texts  Number_of_MRNs\n",
       "Dominant_Topic                                 \n",
       "0.0                       11923            2638\n",
       "1.0                        6376            2300\n",
       "2.0                        5278            2155\n",
       "3.0                       10362            2884\n",
       "4.0                        5721            1861\n",
       "5.0                        5411            1086\n",
       "6.0                        5922            1440\n",
       "7.0                        6612            1642\n",
       "8.0                        9502            2092\n",
       "9.0                        8353            2366"
      ]
     },
     "execution_count": 341,
     "metadata": {},
     "output_type": "execute_result"
    }
   ],
   "source": [
    "count_summary"
   ]
  },
  {
   "cell_type": "code",
   "execution_count": 65,
   "metadata": {},
   "outputs": [],
   "source": [
    "list_topic=topic_counts.index.astype(int).to_list()"
   ]
  },
  {
   "cell_type": "code",
   "execution_count": 66,
   "metadata": {},
   "outputs": [],
   "source": [
    "list_num = topic_counts.to_list() # list of number of documents dominated by topics\n"
   ]
  },
  {
   "cell_type": "code",
   "execution_count": 67,
   "metadata": {},
   "outputs": [],
   "source": [
    "perc = list(np.array(list_num)/np.sum(list_num))"
   ]
  },
  {
   "cell_type": "code",
   "execution_count": 71,
   "metadata": {},
   "outputs": [],
   "source": [
    "## count summary statistics\n",
    "sum_dict = {'Topics':list_topic, 'Documents': list_num, 'Percents':perc}\n",
    "count_sum = pd.DataFrame(sum_dict)"
   ]
  },
  {
   "cell_type": "code",
   "execution_count": 69,
   "metadata": {},
   "outputs": [
    {
     "name": "stdout",
     "output_type": "stream",
     "text": [
      " #Documents  Percents  Topics\n",
      "     111356  0.322519       0\n",
      "      92631  0.268286       3\n",
      "      62438  0.180838       4\n",
      "      50953  0.147574       5\n",
      "      16636  0.048183       2\n",
      "      11256  0.032601       1\n"
     ]
    }
   ],
   "source": [
    "print(count_sum.to_string(index=False))"
   ]
  },
  {
   "cell_type": "code",
   "execution_count": 79,
   "metadata": {},
   "outputs": [
    {
     "data": {
      "text/html": [
       "<div>\n",
       "<style scoped>\n",
       "    .dataframe tbody tr th:only-of-type {\n",
       "        vertical-align: middle;\n",
       "    }\n",
       "\n",
       "    .dataframe tbody tr th {\n",
       "        vertical-align: top;\n",
       "    }\n",
       "\n",
       "    .dataframe thead th {\n",
       "        text-align: right;\n",
       "    }\n",
       "</style>\n",
       "<table border=\"1\" class=\"dataframe\">\n",
       "  <thead>\n",
       "    <tr style=\"text-align: right;\">\n",
       "      <th></th>\n",
       "      <th>Documents</th>\n",
       "      <th>Percents</th>\n",
       "    </tr>\n",
       "    <tr>\n",
       "      <th>Topics</th>\n",
       "      <th></th>\n",
       "      <th></th>\n",
       "    </tr>\n",
       "  </thead>\n",
       "  <tbody>\n",
       "    <tr>\n",
       "      <th>0</th>\n",
       "      <td>111356</td>\n",
       "      <td>0.322519</td>\n",
       "    </tr>\n",
       "    <tr>\n",
       "      <th>3</th>\n",
       "      <td>92631</td>\n",
       "      <td>0.268286</td>\n",
       "    </tr>\n",
       "    <tr>\n",
       "      <th>4</th>\n",
       "      <td>62438</td>\n",
       "      <td>0.180838</td>\n",
       "    </tr>\n",
       "    <tr>\n",
       "      <th>5</th>\n",
       "      <td>50953</td>\n",
       "      <td>0.147574</td>\n",
       "    </tr>\n",
       "    <tr>\n",
       "      <th>2</th>\n",
       "      <td>16636</td>\n",
       "      <td>0.048183</td>\n",
       "    </tr>\n",
       "    <tr>\n",
       "      <th>1</th>\n",
       "      <td>11256</td>\n",
       "      <td>0.032601</td>\n",
       "    </tr>\n",
       "  </tbody>\n",
       "</table>\n",
       "</div>"
      ],
      "text/plain": [
       "        Documents  Percents\n",
       "Topics                     \n",
       "0          111356  0.322519\n",
       "3           92631  0.268286\n",
       "4           62438  0.180838\n",
       "5           50953  0.147574\n",
       "2           16636  0.048183\n",
       "1           11256  0.032601"
      ]
     },
     "execution_count": 79,
     "metadata": {},
     "output_type": "execute_result"
    }
   ],
   "source": [
    "count_sum.set_index('Topics')"
   ]
  }
 ],
 "metadata": {
  "kernelspec": {
   "display_name": "Python 3",
   "language": "python",
   "name": "python3"
  },
  "language_info": {
   "codemirror_mode": {
    "name": "ipython",
    "version": 3
   },
   "file_extension": ".py",
   "mimetype": "text/x-python",
   "name": "python",
   "nbconvert_exporter": "python",
   "pygments_lexer": "ipython3",
   "version": "3.6.10"
  }
 },
 "nbformat": 4,
 "nbformat_minor": 4
}
